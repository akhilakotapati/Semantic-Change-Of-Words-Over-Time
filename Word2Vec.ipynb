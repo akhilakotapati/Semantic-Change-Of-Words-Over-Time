{
 "cells": [
  {
   "cell_type": "code",
   "execution_count": 1,
   "metadata": {
    "collapsed": true
   },
   "outputs": [],
   "source": [
    "#JAI GANESH DEVA!!!OM!"
   ]
  },
  {
   "cell_type": "code",
   "execution_count": 2,
   "metadata": {
    "collapsed": true
   },
   "outputs": [],
   "source": [
    "import pandas as pd\n",
    "import numpy as np\n",
    "import os\n",
    "import nltk\n",
    "import gensim\n",
    "\n"
   ]
  },
  {
   "cell_type": "code",
   "execution_count": 3,
   "metadata": {
    "collapsed": true
   },
   "outputs": [],
   "source": [
    "os.chdir(\"/Users/akhilakotapati/Downloads\")"
   ]
  },
  {
   "cell_type": "code",
   "execution_count": 4,
   "metadata": {
    "collapsed": true
   },
   "outputs": [],
   "source": [
    "speech=pd.read_csv(\"state-of-the-union.csv\",header=None)"
   ]
  },
  {
   "cell_type": "code",
   "execution_count": 5,
   "metadata": {},
   "outputs": [
    {
     "data": {
      "text/html": [
       "<div>\n",
       "<style>\n",
       "    .dataframe thead tr:only-child th {\n",
       "        text-align: right;\n",
       "    }\n",
       "\n",
       "    .dataframe thead th {\n",
       "        text-align: left;\n",
       "    }\n",
       "\n",
       "    .dataframe tbody tr th {\n",
       "        vertical-align: top;\n",
       "    }\n",
       "</style>\n",
       "<table border=\"1\" class=\"dataframe\">\n",
       "  <thead>\n",
       "    <tr style=\"text-align: right;\">\n",
       "      <th></th>\n",
       "      <th>0</th>\n",
       "      <th>1</th>\n",
       "    </tr>\n",
       "  </thead>\n",
       "  <tbody>\n",
       "    <tr>\n",
       "      <th>0</th>\n",
       "      <td>1790</td>\n",
       "      <td>George Washington\\nJanuary 8, 1790\\n\\nFellow-C...</td>\n",
       "    </tr>\n",
       "  </tbody>\n",
       "</table>\n",
       "</div>"
      ],
      "text/plain": [
       "      0                                                  1\n",
       "0  1790  George Washington\\nJanuary 8, 1790\\n\\nFellow-C..."
      ]
     },
     "execution_count": 5,
     "metadata": {},
     "output_type": "execute_result"
    }
   ],
   "source": [
    "speech.head(1)"
   ]
  },
  {
   "cell_type": "code",
   "execution_count": 6,
   "metadata": {
    "collapsed": true
   },
   "outputs": [],
   "source": [
    "speech.columns=[\"year\",\"peech\"]"
   ]
  },
  {
   "cell_type": "code",
   "execution_count": 7,
   "metadata": {},
   "outputs": [
    {
     "data": {
      "text/html": [
       "<div>\n",
       "<style>\n",
       "    .dataframe thead tr:only-child th {\n",
       "        text-align: right;\n",
       "    }\n",
       "\n",
       "    .dataframe thead th {\n",
       "        text-align: left;\n",
       "    }\n",
       "\n",
       "    .dataframe tbody tr th {\n",
       "        vertical-align: top;\n",
       "    }\n",
       "</style>\n",
       "<table border=\"1\" class=\"dataframe\">\n",
       "  <thead>\n",
       "    <tr style=\"text-align: right;\">\n",
       "      <th></th>\n",
       "      <th>year</th>\n",
       "      <th>peech</th>\n",
       "    </tr>\n",
       "  </thead>\n",
       "  <tbody>\n",
       "    <tr>\n",
       "      <th>0</th>\n",
       "      <td>1790</td>\n",
       "      <td>George Washington\\nJanuary 8, 1790\\n\\nFellow-C...</td>\n",
       "    </tr>\n",
       "  </tbody>\n",
       "</table>\n",
       "</div>"
      ],
      "text/plain": [
       "   year                                              peech\n",
       "0  1790  George Washington\\nJanuary 8, 1790\\n\\nFellow-C..."
      ]
     },
     "execution_count": 7,
     "metadata": {},
     "output_type": "execute_result"
    }
   ],
   "source": [
    "speech.head(1)"
   ]
  },
  {
   "cell_type": "code",
   "execution_count": 8,
   "metadata": {
    "collapsed": true
   },
   "outputs": [],
   "source": [
    "speech.index=np.arange(1,len(speech)+1)"
   ]
  },
  {
   "cell_type": "code",
   "execution_count": 9,
   "metadata": {
    "collapsed": true
   },
   "outputs": [],
   "source": [
    "paddu=speech"
   ]
  },
  {
   "cell_type": "code",
   "execution_count": 10,
   "metadata": {
    "collapsed": true
   },
   "outputs": [],
   "source": [
    "paddu = paddu.sort_values(['year']).groupby(((speech.year//20)*20), sort=False).peech.apply(''.join).reset_index(name='peach')"
   ]
  },
  {
   "cell_type": "code",
   "execution_count": 418,
   "metadata": {},
   "outputs": [
    {
     "data": {
      "text/html": [
       "<div>\n",
       "<style>\n",
       "    .dataframe thead tr:only-child th {\n",
       "        text-align: right;\n",
       "    }\n",
       "\n",
       "    .dataframe thead th {\n",
       "        text-align: left;\n",
       "    }\n",
       "\n",
       "    .dataframe tbody tr th {\n",
       "        vertical-align: top;\n",
       "    }\n",
       "</style>\n",
       "<table border=\"1\" class=\"dataframe\">\n",
       "  <thead>\n",
       "    <tr style=\"text-align: right;\">\n",
       "      <th></th>\n",
       "      <th>year</th>\n",
       "      <th>peech</th>\n",
       "    </tr>\n",
       "  </thead>\n",
       "  <tbody>\n",
       "    <tr>\n",
       "      <th>1</th>\n",
       "      <td>1790</td>\n",
       "      <td>George Washington\\nJanuary 8, 1790\\n\\nFellow-C...</td>\n",
       "    </tr>\n",
       "    <tr>\n",
       "      <th>2</th>\n",
       "      <td>1790</td>\n",
       "      <td>\\nState of the Union Address\\nGeorge Washingto...</td>\n",
       "    </tr>\n",
       "    <tr>\n",
       "      <th>3</th>\n",
       "      <td>1791</td>\n",
       "      <td>\\nState of the Union Address\\nGeorge Washingto...</td>\n",
       "    </tr>\n",
       "    <tr>\n",
       "      <th>4</th>\n",
       "      <td>1792</td>\n",
       "      <td>\\nState of the Union Address\\nGeorge Washingto...</td>\n",
       "    </tr>\n",
       "    <tr>\n",
       "      <th>5</th>\n",
       "      <td>1793</td>\n",
       "      <td>\\nState of the Union Address\\nGeorge Washingto...</td>\n",
       "    </tr>\n",
       "    <tr>\n",
       "      <th>6</th>\n",
       "      <td>1794</td>\n",
       "      <td>\\nState of the Union Address\\nGeorge Washingto...</td>\n",
       "    </tr>\n",
       "    <tr>\n",
       "      <th>7</th>\n",
       "      <td>1795</td>\n",
       "      <td>\\nState of the Union Address\\nGeorge Washingto...</td>\n",
       "    </tr>\n",
       "    <tr>\n",
       "      <th>8</th>\n",
       "      <td>1796</td>\n",
       "      <td>\\nState of the Union Address\\nGeorge Washingto...</td>\n",
       "    </tr>\n",
       "    <tr>\n",
       "      <th>9</th>\n",
       "      <td>1797</td>\n",
       "      <td>\\nState of the Union Address\\nJohn Adams\\nNove...</td>\n",
       "    </tr>\n",
       "    <tr>\n",
       "      <th>10</th>\n",
       "      <td>1798</td>\n",
       "      <td>\\nState of the Union Address\\nJohn Adams\\nDece...</td>\n",
       "    </tr>\n",
       "    <tr>\n",
       "      <th>11</th>\n",
       "      <td>1799</td>\n",
       "      <td>\\nState of the Union Address\\nJohn Adams\\nDece...</td>\n",
       "    </tr>\n",
       "    <tr>\n",
       "      <th>12</th>\n",
       "      <td>1800</td>\n",
       "      <td>\\nState of the Union Address\\nJohn Adams\\nNove...</td>\n",
       "    </tr>\n",
       "    <tr>\n",
       "      <th>13</th>\n",
       "      <td>1801</td>\n",
       "      <td>\\nState of the Union Address\\nThomas Jefferson...</td>\n",
       "    </tr>\n",
       "    <tr>\n",
       "      <th>14</th>\n",
       "      <td>1802</td>\n",
       "      <td>\\nState of the Union Address\\nThomas Jefferson...</td>\n",
       "    </tr>\n",
       "    <tr>\n",
       "      <th>15</th>\n",
       "      <td>1803</td>\n",
       "      <td>\\nState of the Union Address\\nThomas Jefferson...</td>\n",
       "    </tr>\n",
       "    <tr>\n",
       "      <th>16</th>\n",
       "      <td>1804</td>\n",
       "      <td>\\nState of the Union Address\\nThomas Jefferson...</td>\n",
       "    </tr>\n",
       "    <tr>\n",
       "      <th>17</th>\n",
       "      <td>1805</td>\n",
       "      <td>\\nState of the Union Address\\nThomas Jefferson...</td>\n",
       "    </tr>\n",
       "    <tr>\n",
       "      <th>18</th>\n",
       "      <td>1806</td>\n",
       "      <td>\\nState of the Union Address\\nThomas Jefferson...</td>\n",
       "    </tr>\n",
       "    <tr>\n",
       "      <th>19</th>\n",
       "      <td>1807</td>\n",
       "      <td>\\nState of the Union Address\\nThomas Jefferson...</td>\n",
       "    </tr>\n",
       "    <tr>\n",
       "      <th>20</th>\n",
       "      <td>1808</td>\n",
       "      <td>\\nState of the Union Address\\nThomas Jefferson...</td>\n",
       "    </tr>\n",
       "    <tr>\n",
       "      <th>21</th>\n",
       "      <td>1809</td>\n",
       "      <td>\\nState of the Union Address\\nJames Madison\\nN...</td>\n",
       "    </tr>\n",
       "    <tr>\n",
       "      <th>22</th>\n",
       "      <td>1810</td>\n",
       "      <td>\\nState of the Union Address\\nJames Madison\\nD...</td>\n",
       "    </tr>\n",
       "    <tr>\n",
       "      <th>23</th>\n",
       "      <td>1811</td>\n",
       "      <td>\\nState of the Union Address\\nJames Madison\\nN...</td>\n",
       "    </tr>\n",
       "    <tr>\n",
       "      <th>24</th>\n",
       "      <td>1812</td>\n",
       "      <td>\\nState of the Union Address\\nJames Madison\\nN...</td>\n",
       "    </tr>\n",
       "    <tr>\n",
       "      <th>25</th>\n",
       "      <td>1813</td>\n",
       "      <td>\\nState of the Union Address\\nJames Madison\\nD...</td>\n",
       "    </tr>\n",
       "    <tr>\n",
       "      <th>26</th>\n",
       "      <td>1814</td>\n",
       "      <td>\\nState of the Union Address\\nJames Madison\\nS...</td>\n",
       "    </tr>\n",
       "    <tr>\n",
       "      <th>27</th>\n",
       "      <td>1815</td>\n",
       "      <td>\\nState of the Union Address\\nJames Madison\\nD...</td>\n",
       "    </tr>\n",
       "    <tr>\n",
       "      <th>28</th>\n",
       "      <td>1816</td>\n",
       "      <td>\\nState of the Union Address\\nJames Madison\\nD...</td>\n",
       "    </tr>\n",
       "    <tr>\n",
       "      <th>29</th>\n",
       "      <td>1817</td>\n",
       "      <td>\\nState of the Union Address\\nJames Monroe\\nDe...</td>\n",
       "    </tr>\n",
       "    <tr>\n",
       "      <th>30</th>\n",
       "      <td>1818</td>\n",
       "      <td>\\nState of the Union Address\\nJames Monroe\\nNo...</td>\n",
       "    </tr>\n",
       "    <tr>\n",
       "      <th>...</th>\n",
       "      <td>...</td>\n",
       "      <td>...</td>\n",
       "    </tr>\n",
       "    <tr>\n",
       "      <th>197</th>\n",
       "      <td>1984</td>\n",
       "      <td>\\nState of the Union Address\\nRonald Reagan\\nJ...</td>\n",
       "    </tr>\n",
       "    <tr>\n",
       "      <th>198</th>\n",
       "      <td>1985</td>\n",
       "      <td>\\nState of the Union Address\\nRonald Reagan\\nF...</td>\n",
       "    </tr>\n",
       "    <tr>\n",
       "      <th>199</th>\n",
       "      <td>1986</td>\n",
       "      <td>\\nState of the Union Address\\nRonald Reagan\\nF...</td>\n",
       "    </tr>\n",
       "    <tr>\n",
       "      <th>200</th>\n",
       "      <td>1987</td>\n",
       "      <td>\\nState of the Union Address\\nRonald Reagan\\nJ...</td>\n",
       "    </tr>\n",
       "    <tr>\n",
       "      <th>201</th>\n",
       "      <td>1988</td>\n",
       "      <td>\\nState of the Union Address\\nRonald Reagan\\nJ...</td>\n",
       "    </tr>\n",
       "    <tr>\n",
       "      <th>202</th>\n",
       "      <td>1989</td>\n",
       "      <td>\\nAddress on Administration Goals\\nGeorge H.W....</td>\n",
       "    </tr>\n",
       "    <tr>\n",
       "      <th>203</th>\n",
       "      <td>1990</td>\n",
       "      <td>\\nState of the Union Address\\nGeorge H.W. Bush...</td>\n",
       "    </tr>\n",
       "    <tr>\n",
       "      <th>204</th>\n",
       "      <td>1991</td>\n",
       "      <td>\\nState of the Union Address\\nGeorge H.W. Bush...</td>\n",
       "    </tr>\n",
       "    <tr>\n",
       "      <th>205</th>\n",
       "      <td>1992</td>\n",
       "      <td>\\nState of the Union Address\\nGeorge H.W. Bush...</td>\n",
       "    </tr>\n",
       "    <tr>\n",
       "      <th>206</th>\n",
       "      <td>1993</td>\n",
       "      <td>\\nAddress on Administration Goals\\nWilliam J. ...</td>\n",
       "    </tr>\n",
       "    <tr>\n",
       "      <th>207</th>\n",
       "      <td>1994</td>\n",
       "      <td>\\nState of the Union Address\\nWilliam J. Clint...</td>\n",
       "    </tr>\n",
       "    <tr>\n",
       "      <th>208</th>\n",
       "      <td>1995</td>\n",
       "      <td>\\nState of the Union Address\\nWilliam J. Clint...</td>\n",
       "    </tr>\n",
       "    <tr>\n",
       "      <th>209</th>\n",
       "      <td>1996</td>\n",
       "      <td>\\nState of the Union Address\\nWilliam J. Clint...</td>\n",
       "    </tr>\n",
       "    <tr>\n",
       "      <th>210</th>\n",
       "      <td>1997</td>\n",
       "      <td>\\nState of the Union Address\\nWilliam J. Clint...</td>\n",
       "    </tr>\n",
       "    <tr>\n",
       "      <th>211</th>\n",
       "      <td>1998</td>\n",
       "      <td>\\nState of the Union Address\\nWilliam J. Clint...</td>\n",
       "    </tr>\n",
       "    <tr>\n",
       "      <th>212</th>\n",
       "      <td>1999</td>\n",
       "      <td>\\nState of the Union Address\\nWilliam J. Clint...</td>\n",
       "    </tr>\n",
       "    <tr>\n",
       "      <th>213</th>\n",
       "      <td>2000</td>\n",
       "      <td>\\nState of the Union Address\\nWilliam J. Clint...</td>\n",
       "    </tr>\n",
       "    <tr>\n",
       "      <th>214</th>\n",
       "      <td>2001</td>\n",
       "      <td>\\nAddress on Administration Goals (Budget Mess...</td>\n",
       "    </tr>\n",
       "    <tr>\n",
       "      <th>215</th>\n",
       "      <td>2001</td>\n",
       "      <td>\\nState of the Union Address\\nGeorge W. Bush\\n...</td>\n",
       "    </tr>\n",
       "    <tr>\n",
       "      <th>216</th>\n",
       "      <td>2002</td>\n",
       "      <td>\\nState of the Union Address\\nGeorge W. Bush\\n...</td>\n",
       "    </tr>\n",
       "    <tr>\n",
       "      <th>217</th>\n",
       "      <td>2003</td>\n",
       "      <td>\\nState of the Union Address\\nGeorge W. Bush\\n...</td>\n",
       "    </tr>\n",
       "    <tr>\n",
       "      <th>218</th>\n",
       "      <td>2004</td>\n",
       "      <td>\\nState of the Union Address\\nGeorge W. Bush\\n...</td>\n",
       "    </tr>\n",
       "    <tr>\n",
       "      <th>219</th>\n",
       "      <td>2005</td>\n",
       "      <td>\\nState of the Union Address\\nGeorge W. Bush\\n...</td>\n",
       "    </tr>\n",
       "    <tr>\n",
       "      <th>220</th>\n",
       "      <td>2006</td>\n",
       "      <td>\\nState of the Union Address\\nGeorge W. Bush\\n...</td>\n",
       "    </tr>\n",
       "    <tr>\n",
       "      <th>221</th>\n",
       "      <td>2007</td>\n",
       "      <td>\\nState of the Union Address\\nGeorge W. Bush\\n...</td>\n",
       "    </tr>\n",
       "    <tr>\n",
       "      <th>222</th>\n",
       "      <td>2008</td>\n",
       "      <td>\\nState of the Union Address\\nGeorge W. Bush\\n...</td>\n",
       "    </tr>\n",
       "    <tr>\n",
       "      <th>223</th>\n",
       "      <td>2009</td>\n",
       "      <td>\\nAddress to Joint Session of Congress \\nBarac...</td>\n",
       "    </tr>\n",
       "    <tr>\n",
       "      <th>224</th>\n",
       "      <td>2010</td>\n",
       "      <td>\\nState of the Union Address\\nBarack Obama \\nJ...</td>\n",
       "    </tr>\n",
       "    <tr>\n",
       "      <th>225</th>\n",
       "      <td>2011</td>\n",
       "      <td>\\nState of the Union Address\\nBarack Obama \\nJ...</td>\n",
       "    </tr>\n",
       "    <tr>\n",
       "      <th>226</th>\n",
       "      <td>2012</td>\n",
       "      <td>\\nState of the Union Address\\nBarack Obama \\nJ...</td>\n",
       "    </tr>\n",
       "  </tbody>\n",
       "</table>\n",
       "<p>226 rows × 2 columns</p>\n",
       "</div>"
      ],
      "text/plain": [
       "     year                                              peech\n",
       "1    1790  George Washington\\nJanuary 8, 1790\\n\\nFellow-C...\n",
       "2    1790  \\nState of the Union Address\\nGeorge Washingto...\n",
       "3    1791  \\nState of the Union Address\\nGeorge Washingto...\n",
       "4    1792  \\nState of the Union Address\\nGeorge Washingto...\n",
       "5    1793  \\nState of the Union Address\\nGeorge Washingto...\n",
       "6    1794  \\nState of the Union Address\\nGeorge Washingto...\n",
       "7    1795  \\nState of the Union Address\\nGeorge Washingto...\n",
       "8    1796  \\nState of the Union Address\\nGeorge Washingto...\n",
       "9    1797  \\nState of the Union Address\\nJohn Adams\\nNove...\n",
       "10   1798  \\nState of the Union Address\\nJohn Adams\\nDece...\n",
       "11   1799  \\nState of the Union Address\\nJohn Adams\\nDece...\n",
       "12   1800  \\nState of the Union Address\\nJohn Adams\\nNove...\n",
       "13   1801  \\nState of the Union Address\\nThomas Jefferson...\n",
       "14   1802  \\nState of the Union Address\\nThomas Jefferson...\n",
       "15   1803  \\nState of the Union Address\\nThomas Jefferson...\n",
       "16   1804  \\nState of the Union Address\\nThomas Jefferson...\n",
       "17   1805  \\nState of the Union Address\\nThomas Jefferson...\n",
       "18   1806  \\nState of the Union Address\\nThomas Jefferson...\n",
       "19   1807  \\nState of the Union Address\\nThomas Jefferson...\n",
       "20   1808  \\nState of the Union Address\\nThomas Jefferson...\n",
       "21   1809  \\nState of the Union Address\\nJames Madison\\nN...\n",
       "22   1810  \\nState of the Union Address\\nJames Madison\\nD...\n",
       "23   1811  \\nState of the Union Address\\nJames Madison\\nN...\n",
       "24   1812  \\nState of the Union Address\\nJames Madison\\nN...\n",
       "25   1813  \\nState of the Union Address\\nJames Madison\\nD...\n",
       "26   1814  \\nState of the Union Address\\nJames Madison\\nS...\n",
       "27   1815  \\nState of the Union Address\\nJames Madison\\nD...\n",
       "28   1816  \\nState of the Union Address\\nJames Madison\\nD...\n",
       "29   1817  \\nState of the Union Address\\nJames Monroe\\nDe...\n",
       "30   1818  \\nState of the Union Address\\nJames Monroe\\nNo...\n",
       "..    ...                                                ...\n",
       "197  1984  \\nState of the Union Address\\nRonald Reagan\\nJ...\n",
       "198  1985  \\nState of the Union Address\\nRonald Reagan\\nF...\n",
       "199  1986  \\nState of the Union Address\\nRonald Reagan\\nF...\n",
       "200  1987  \\nState of the Union Address\\nRonald Reagan\\nJ...\n",
       "201  1988  \\nState of the Union Address\\nRonald Reagan\\nJ...\n",
       "202  1989  \\nAddress on Administration Goals\\nGeorge H.W....\n",
       "203  1990  \\nState of the Union Address\\nGeorge H.W. Bush...\n",
       "204  1991  \\nState of the Union Address\\nGeorge H.W. Bush...\n",
       "205  1992  \\nState of the Union Address\\nGeorge H.W. Bush...\n",
       "206  1993  \\nAddress on Administration Goals\\nWilliam J. ...\n",
       "207  1994  \\nState of the Union Address\\nWilliam J. Clint...\n",
       "208  1995  \\nState of the Union Address\\nWilliam J. Clint...\n",
       "209  1996  \\nState of the Union Address\\nWilliam J. Clint...\n",
       "210  1997  \\nState of the Union Address\\nWilliam J. Clint...\n",
       "211  1998  \\nState of the Union Address\\nWilliam J. Clint...\n",
       "212  1999  \\nState of the Union Address\\nWilliam J. Clint...\n",
       "213  2000  \\nState of the Union Address\\nWilliam J. Clint...\n",
       "214  2001  \\nAddress on Administration Goals (Budget Mess...\n",
       "215  2001  \\nState of the Union Address\\nGeorge W. Bush\\n...\n",
       "216  2002  \\nState of the Union Address\\nGeorge W. Bush\\n...\n",
       "217  2003  \\nState of the Union Address\\nGeorge W. Bush\\n...\n",
       "218  2004  \\nState of the Union Address\\nGeorge W. Bush\\n...\n",
       "219  2005  \\nState of the Union Address\\nGeorge W. Bush\\n...\n",
       "220  2006  \\nState of the Union Address\\nGeorge W. Bush\\n...\n",
       "221  2007  \\nState of the Union Address\\nGeorge W. Bush\\n...\n",
       "222  2008  \\nState of the Union Address\\nGeorge W. Bush\\n...\n",
       "223  2009  \\nAddress to Joint Session of Congress \\nBarac...\n",
       "224  2010  \\nState of the Union Address\\nBarack Obama \\nJ...\n",
       "225  2011  \\nState of the Union Address\\nBarack Obama \\nJ...\n",
       "226  2012  \\nState of the Union Address\\nBarack Obama \\nJ...\n",
       "\n",
       "[226 rows x 2 columns]"
      ]
     },
     "execution_count": 418,
     "metadata": {},
     "output_type": "execute_result"
    }
   ],
   "source": [
    "speech"
   ]
  },
  {
   "cell_type": "code",
   "execution_count": 12,
   "metadata": {
    "collapsed": true
   },
   "outputs": [],
   "source": [
    "paddu=paddu.replace(\"\\n\",\" \",regex=True)"
   ]
  },
  {
   "cell_type": "code",
   "execution_count": null,
   "metadata": {
    "collapsed": true
   },
   "outputs": [],
   "source": []
  },
  {
   "cell_type": "code",
   "execution_count": 14,
   "metadata": {
    "collapsed": true
   },
   "outputs": [],
   "source": [
    "paddu.peach=paddu.peach.astype(str).str.lower()"
   ]
  },
  {
   "cell_type": "code",
   "execution_count": 16,
   "metadata": {
    "collapsed": true
   },
   "outputs": [],
   "source": [
    "paddu[\"peach\"] = paddu[\"peach\"].replace(\"[^\\w\\s]\",\" \",regex = True)"
   ]
  },
  {
   "cell_type": "code",
   "execution_count": 18,
   "metadata": {
    "collapsed": true
   },
   "outputs": [],
   "source": [
    "paddu[\"peach\"] = paddu[\"peach\"].replace(\"\\d+\",\" \",regex = True)"
   ]
  },
  {
   "cell_type": "code",
   "execution_count": 24,
   "metadata": {
    "collapsed": true
   },
   "outputs": [],
   "source": [
    "paddu[\"peach\"] = paddu[\"peach\"].replace(\"january|february|march|april|may|june|july|august|september|october|november|december\",\" \",regex = True)"
   ]
  },
  {
   "cell_type": "code",
   "execution_count": 179,
   "metadata": {
    "scrolled": true
   },
   "outputs": [
    {
     "data": {
      "text/html": [
       "<div>\n",
       "<style>\n",
       "    .dataframe thead tr:only-child th {\n",
       "        text-align: right;\n",
       "    }\n",
       "\n",
       "    .dataframe thead th {\n",
       "        text-align: left;\n",
       "    }\n",
       "\n",
       "    .dataframe tbody tr th {\n",
       "        vertical-align: top;\n",
       "    }\n",
       "</style>\n",
       "<table border=\"1\" class=\"dataframe\">\n",
       "  <thead>\n",
       "    <tr style=\"text-align: right;\">\n",
       "      <th></th>\n",
       "      <th>year</th>\n",
       "      <th>peach</th>\n",
       "    </tr>\n",
       "  </thead>\n",
       "  <tbody>\n",
       "    <tr>\n",
       "      <th>0</th>\n",
       "      <td>1780</td>\n",
       "      <td>[george, washington, january, fellow, citizens...</td>\n",
       "    </tr>\n",
       "    <tr>\n",
       "      <th>1</th>\n",
       "      <td>1800</td>\n",
       "      <td>[state, union, address, john, adams, november,...</td>\n",
       "    </tr>\n",
       "    <tr>\n",
       "      <th>2</th>\n",
       "      <td>1820</td>\n",
       "      <td>[state, union, address, james, monroe, novembe...</td>\n",
       "    </tr>\n",
       "    <tr>\n",
       "      <th>3</th>\n",
       "      <td>1840</td>\n",
       "      <td>[state, union, address, martin, van, buren, de...</td>\n",
       "    </tr>\n",
       "    <tr>\n",
       "      <th>4</th>\n",
       "      <td>1860</td>\n",
       "      <td>[state, union, address, james, buchanan, decem...</td>\n",
       "    </tr>\n",
       "    <tr>\n",
       "      <th>5</th>\n",
       "      <td>1880</td>\n",
       "      <td>[state, union, address, rutherford, b, hayes, ...</td>\n",
       "    </tr>\n",
       "    <tr>\n",
       "      <th>6</th>\n",
       "      <td>1900</td>\n",
       "      <td>[state, union, address, william, mckinley, dec...</td>\n",
       "    </tr>\n",
       "    <tr>\n",
       "      <th>7</th>\n",
       "      <td>1920</td>\n",
       "      <td>[state, union, address, woodrow, wilson, decem...</td>\n",
       "    </tr>\n",
       "    <tr>\n",
       "      <th>8</th>\n",
       "      <td>1940</td>\n",
       "      <td>[state, union, address, franklin, roosevelt, j...</td>\n",
       "    </tr>\n",
       "    <tr>\n",
       "      <th>9</th>\n",
       "      <td>1960</td>\n",
       "      <td>[state, union, address, dwight, eisenhower, ja...</td>\n",
       "    </tr>\n",
       "    <tr>\n",
       "      <th>10</th>\n",
       "      <td>1980</td>\n",
       "      <td>[state, union, address, jimmy, carter, january...</td>\n",
       "    </tr>\n",
       "    <tr>\n",
       "      <th>11</th>\n",
       "      <td>2000</td>\n",
       "      <td>[state, union, address, william, j, clinton, j...</td>\n",
       "    </tr>\n",
       "  </tbody>\n",
       "</table>\n",
       "</div>"
      ],
      "text/plain": [
       "    year                                              peach\n",
       "0   1780  [george, washington, january, fellow, citizens...\n",
       "1   1800  [state, union, address, john, adams, november,...\n",
       "2   1820  [state, union, address, james, monroe, novembe...\n",
       "3   1840  [state, union, address, martin, van, buren, de...\n",
       "4   1860  [state, union, address, james, buchanan, decem...\n",
       "5   1880  [state, union, address, rutherford, b, hayes, ...\n",
       "6   1900  [state, union, address, william, mckinley, dec...\n",
       "7   1920  [state, union, address, woodrow, wilson, decem...\n",
       "8   1940  [state, union, address, franklin, roosevelt, j...\n",
       "9   1960  [state, union, address, dwight, eisenhower, ja...\n",
       "10  1980  [state, union, address, jimmy, carter, january...\n",
       "11  2000  [state, union, address, william, j, clinton, j..."
      ]
     },
     "execution_count": 179,
     "metadata": {},
     "output_type": "execute_result"
    }
   ],
   "source": [
    "paddu.col"
   ]
  },
  {
   "cell_type": "code",
   "execution_count": 20,
   "metadata": {
    "collapsed": true
   },
   "outputs": [],
   "source": [
    "from nltk.tokenize import sent_tokenize, word_tokenize"
   ]
  },
  {
   "cell_type": "code",
   "execution_count": 21,
   "metadata": {
    "collapsed": true
   },
   "outputs": [],
   "source": [
    "from nltk import word_tokenize,sent_tokenize"
   ]
  },
  {
   "cell_type": "code",
   "execution_count": 22,
   "metadata": {
    "collapsed": true
   },
   "outputs": [],
   "source": [
    "import nltk.data\n"
   ]
  },
  {
   "cell_type": "code",
   "execution_count": 23,
   "metadata": {
    "collapsed": true
   },
   "outputs": [],
   "source": [
    "tokenizer = nltk.data.load('tokenizers/punkt/english.pickle')\n"
   ]
  },
  {
   "cell_type": "code",
   "execution_count": 24,
   "metadata": {
    "collapsed": true
   },
   "outputs": [],
   "source": [
    "import nltk.data"
   ]
  },
  {
   "cell_type": "code",
   "execution_count": 25,
   "metadata": {
    "collapsed": true
   },
   "outputs": [],
   "source": [
    "paddu.peach= paddu.apply(lambda row: word_tokenize(row['peach']),axis=1)"
   ]
  },
  {
   "cell_type": "code",
   "execution_count": 29,
   "metadata": {
    "collapsed": true
   },
   "outputs": [],
   "source": [
    "from gensim.models import Word2Vec\n",
    "model = Word2Vec(paddu.peach, size=100, window=5, min_count=1, workers=4,hs=0,negative=5,sg=1)\n"
   ]
  },
  {
   "cell_type": "code",
   "execution_count": 30,
   "metadata": {},
   "outputs": [
    {
     "name": "stdout",
     "output_type": "stream",
     "text": [
      "Word2Vec(vocab=22969, size=100, alpha=0.025)\n"
     ]
    }
   ],
   "source": [
    "print(model)"
   ]
  },
  {
   "cell_type": "code",
   "execution_count": 31,
   "metadata": {
    "collapsed": true
   },
   "outputs": [],
   "source": [
    "words = list(model.wv.vocab)"
   ]
  },
  {
   "cell_type": "code",
   "execution_count": 56,
   "metadata": {
    "collapsed": true
   },
   "outputs": [],
   "source": [
    "model.save('model.bin')"
   ]
  },
  {
   "cell_type": "code",
   "execution_count": 32,
   "metadata": {
    "collapsed": true
   },
   "outputs": [],
   "source": [
    "words=list(model.wv.vocab)"
   ]
  },
  {
   "cell_type": "code",
   "execution_count": 34,
   "metadata": {},
   "outputs": [
    {
     "data": {
      "text/plain": [
       "[('session', 0.9682018160820007),\n",
       " ('president', 0.9599868059158325),\n",
       " ('attention', 0.957124650478363),\n",
       " ('act', 0.9567427039146423),\n",
       " ('message', 0.9543159008026123),\n",
       " ('submitted', 0.94368577003479),\n",
       " ('january', 0.9433512687683105),\n",
       " ('passed', 0.9433251619338989),\n",
       " ('since', 0.9403414130210876),\n",
       " ('march', 0.9390206336975098)]"
      ]
     },
     "execution_count": 34,
     "metadata": {},
     "output_type": "execute_result"
    }
   ],
   "source": [
    "model.most_similar('congress')"
   ]
  },
  {
   "cell_type": "code",
   "execution_count": 66,
   "metadata": {
    "collapsed": true
   },
   "outputs": [],
   "source": [
    "x=model[words]"
   ]
  },
  {
   "cell_type": "code",
   "execution_count": 117,
   "metadata": {
    "collapsed": true
   },
   "outputs": [],
   "source": [
    "from sklearn.manifold import TSNE\n",
    "import matplotlib.pyplot as plt\n",
    "%matplotlib inline"
   ]
  },
  {
   "cell_type": "code",
   "execution_count": 71,
   "metadata": {
    "collapsed": true
   },
   "outputs": [],
   "source": [
    "tsne = TSNE(n_components=2)\n",
    "X_tsne = tsne.fit_transform(x)"
   ]
  },
  {
   "cell_type": "code",
   "execution_count": 134,
   "metadata": {},
   "outputs": [
    {
     "data": {
      "image/png": "[encoded data removed]",
      "text/plain": [
       "<matplotlib.figure.Figure at 0x1a2f8eb940>"
      ]
     },
     "metadata": {},
     "output_type": "display_data"
    }
   ],
   "source": [
    "plt.scatter(X_tsne[:, 0], X_tsne[:, 1])\n",
    "plt.show()"
   ]
  },
  {
   "cell_type": "code",
   "execution_count": 41,
   "metadata": {},
   "outputs": [
    {
     "name": "stdout",
     "output_type": "stream",
     "text": [
      "Word2Vec(vocab=3146, size=100, alpha=0.025)\n"
     ]
    }
   ],
   "source": [
    "one=paddu.head(1)\n",
    "model1 = Word2Vec(one.peach, size=100, window=5, min_count=1, workers=4,hs=0,negative=5,sg=1)\n",
    "print(model1)\n",
    "words1 = list(model1.wv.vocab)\n"
   ]
  },
  {
   "cell_type": "code",
   "execution_count": 180,
   "metadata": {},
   "outputs": [
    {
     "data": {
      "text/html": [
       "<div>\n",
       "<style>\n",
       "    .dataframe thead tr:only-child th {\n",
       "        text-align: right;\n",
       "    }\n",
       "\n",
       "    .dataframe thead th {\n",
       "        text-align: left;\n",
       "    }\n",
       "\n",
       "    .dataframe tbody tr th {\n",
       "        vertical-align: top;\n",
       "    }\n",
       "</style>\n",
       "<table border=\"1\" class=\"dataframe\">\n",
       "  <thead>\n",
       "    <tr style=\"text-align: right;\">\n",
       "      <th></th>\n",
       "      <th>year</th>\n",
       "      <th>peach</th>\n",
       "    </tr>\n",
       "  </thead>\n",
       "  <tbody>\n",
       "    <tr>\n",
       "      <th>0</th>\n",
       "      <td>1780</td>\n",
       "      <td>[george, washington, january, fellow, citizens...</td>\n",
       "    </tr>\n",
       "  </tbody>\n",
       "</table>\n",
       "</div>"
      ],
      "text/plain": [
       "   year                                              peach\n",
       "0  1780  [george, washington, january, fellow, citizens..."
      ]
     },
     "execution_count": 180,
     "metadata": {},
     "output_type": "execute_result"
    }
   ],
   "source": [
    "one"
   ]
  },
  {
   "cell_type": "code",
   "execution_count": 349,
   "metadata": {},
   "outputs": [
    {
     "data": {
      "text/plain": [
       "[('france', 0.999669075012207),\n",
       " ('country', 0.9996050000190735),\n",
       " ('may', 0.9995999336242676),\n",
       " ('necessary', 0.9995934963226318),\n",
       " ('congress', 0.9995909929275513),\n",
       " ('foreign', 0.9995574951171875),\n",
       " ('measures', 0.9995554685592651),\n",
       " ('without', 0.999552309513092),\n",
       " ('government', 0.9995418787002563),\n",
       " ('commissioners', 0.9995383024215698)]"
      ]
     },
     "execution_count": 349,
     "metadata": {},
     "output_type": "execute_result"
    }
   ],
   "source": [
    "model1.most_similar('war')"
   ]
  },
  {
   "cell_type": "code",
   "execution_count": 378,
   "metadata": {},
   "outputs": [
    {
     "data": {
      "text/html": [
       "<div>\n",
       "<style>\n",
       "    .dataframe thead tr:only-child th {\n",
       "        text-align: right;\n",
       "    }\n",
       "\n",
       "    .dataframe thead th {\n",
       "        text-align: left;\n",
       "    }\n",
       "\n",
       "    .dataframe tbody tr th {\n",
       "        vertical-align: top;\n",
       "    }\n",
       "</style>\n",
       "<table border=\"1\" class=\"dataframe\">\n",
       "  <thead>\n",
       "    <tr style=\"text-align: right;\">\n",
       "      <th></th>\n",
       "      <th>words</th>\n",
       "      <th>similarity</th>\n",
       "      <th>year</th>\n",
       "    </tr>\n",
       "  </thead>\n",
       "  <tbody>\n",
       "    <tr>\n",
       "      <th>0</th>\n",
       "      <td>france</td>\n",
       "      <td>0.999669</td>\n",
       "      <td>1780</td>\n",
       "    </tr>\n",
       "    <tr>\n",
       "      <th>1</th>\n",
       "      <td>country</td>\n",
       "      <td>0.999605</td>\n",
       "      <td>1780</td>\n",
       "    </tr>\n",
       "    <tr>\n",
       "      <th>2</th>\n",
       "      <td>may</td>\n",
       "      <td>0.999600</td>\n",
       "      <td>1780</td>\n",
       "    </tr>\n",
       "    <tr>\n",
       "      <th>3</th>\n",
       "      <td>necessary</td>\n",
       "      <td>0.999593</td>\n",
       "      <td>1780</td>\n",
       "    </tr>\n",
       "    <tr>\n",
       "      <th>4</th>\n",
       "      <td>congress</td>\n",
       "      <td>0.999591</td>\n",
       "      <td>1780</td>\n",
       "    </tr>\n",
       "    <tr>\n",
       "      <th>5</th>\n",
       "      <td>foreign</td>\n",
       "      <td>0.999557</td>\n",
       "      <td>1780</td>\n",
       "    </tr>\n",
       "    <tr>\n",
       "      <th>6</th>\n",
       "      <td>measures</td>\n",
       "      <td>0.999555</td>\n",
       "      <td>1780</td>\n",
       "    </tr>\n",
       "    <tr>\n",
       "      <th>7</th>\n",
       "      <td>without</td>\n",
       "      <td>0.999552</td>\n",
       "      <td>1780</td>\n",
       "    </tr>\n",
       "    <tr>\n",
       "      <th>8</th>\n",
       "      <td>government</td>\n",
       "      <td>0.999542</td>\n",
       "      <td>1780</td>\n",
       "    </tr>\n",
       "    <tr>\n",
       "      <th>9</th>\n",
       "      <td>commissioners</td>\n",
       "      <td>0.999538</td>\n",
       "      <td>1780</td>\n",
       "    </tr>\n",
       "  </tbody>\n",
       "</table>\n",
       "</div>"
      ],
      "text/plain": [
       "           words  similarity  year\n",
       "0         france    0.999669  1780\n",
       "1        country    0.999605  1780\n",
       "2            may    0.999600  1780\n",
       "3      necessary    0.999593  1780\n",
       "4       congress    0.999591  1780\n",
       "5        foreign    0.999557  1780\n",
       "6       measures    0.999555  1780\n",
       "7        without    0.999552  1780\n",
       "8     government    0.999542  1780\n",
       "9  commissioners    0.999538  1780"
      ]
     },
     "execution_count": 378,
     "metadata": {},
     "output_type": "execute_result"
    }
   ],
   "source": [
    "u1=model1.most_similar('war')\n",
    "sim1 = pd.DataFrame(u1)\n",
    "sim1.columns=[\"words\",\"similarity\"]\n",
    "sim1[\"year\"]=\"1780\"\n",
    "sim1"
   ]
  },
  {
   "cell_type": "code",
   "execution_count": 70,
   "metadata": {},
   "outputs": [
    {
     "name": "stdout",
     "output_type": "stream",
     "text": [
      "Word2Vec(vocab=7640, size=100, alpha=0.025)\n"
     ]
    }
   ],
   "source": [
    "two=paddu.iloc[[2]]\n",
    "model2 = Word2Vec(two.peach, size=100, window=5, min_count=1, workers=4,hs=0,negative=5,sg=1)\n",
    "print(model2)\n",
    "words2 = list(model2.wv.vocab)"
   ]
  },
  {
   "cell_type": "code",
   "execution_count": 344,
   "metadata": {},
   "outputs": [
    {
     "data": {
      "text/plain": [
       "[('may', 0.9994324445724487),\n",
       " ('government', 0.9993861317634583),\n",
       " ('parties', 0.9993712902069092),\n",
       " ('every', 0.999334454536438),\n",
       " ('powers', 0.999331533908844),\n",
       " ('power', 0.9992969036102295),\n",
       " ('object', 0.9992929697036743),\n",
       " ('effect', 0.9992858171463013),\n",
       " ('governments', 0.999259352684021),\n",
       " ('great', 0.9992251992225647)]"
      ]
     },
     "execution_count": 344,
     "metadata": {},
     "output_type": "execute_result"
    }
   ],
   "source": [
    "model2.most_similar('war')"
   ]
  },
  {
   "cell_type": "code",
   "execution_count": 380,
   "metadata": {},
   "outputs": [
    {
     "data": {
      "text/html": [
       "<div>\n",
       "<style>\n",
       "    .dataframe thead tr:only-child th {\n",
       "        text-align: right;\n",
       "    }\n",
       "\n",
       "    .dataframe thead th {\n",
       "        text-align: left;\n",
       "    }\n",
       "\n",
       "    .dataframe tbody tr th {\n",
       "        vertical-align: top;\n",
       "    }\n",
       "</style>\n",
       "<table border=\"1\" class=\"dataframe\">\n",
       "  <thead>\n",
       "    <tr style=\"text-align: right;\">\n",
       "      <th></th>\n",
       "      <th>words</th>\n",
       "      <th>similarity</th>\n",
       "      <th>year</th>\n",
       "    </tr>\n",
       "  </thead>\n",
       "  <tbody>\n",
       "    <tr>\n",
       "      <th>0</th>\n",
       "      <td>may</td>\n",
       "      <td>0.999432</td>\n",
       "      <td>1820</td>\n",
       "    </tr>\n",
       "    <tr>\n",
       "      <th>1</th>\n",
       "      <td>government</td>\n",
       "      <td>0.999386</td>\n",
       "      <td>1820</td>\n",
       "    </tr>\n",
       "    <tr>\n",
       "      <th>2</th>\n",
       "      <td>parties</td>\n",
       "      <td>0.999371</td>\n",
       "      <td>1820</td>\n",
       "    </tr>\n",
       "    <tr>\n",
       "      <th>3</th>\n",
       "      <td>every</td>\n",
       "      <td>0.999334</td>\n",
       "      <td>1820</td>\n",
       "    </tr>\n",
       "    <tr>\n",
       "      <th>4</th>\n",
       "      <td>powers</td>\n",
       "      <td>0.999332</td>\n",
       "      <td>1820</td>\n",
       "    </tr>\n",
       "    <tr>\n",
       "      <th>5</th>\n",
       "      <td>power</td>\n",
       "      <td>0.999297</td>\n",
       "      <td>1820</td>\n",
       "    </tr>\n",
       "    <tr>\n",
       "      <th>6</th>\n",
       "      <td>object</td>\n",
       "      <td>0.999293</td>\n",
       "      <td>1820</td>\n",
       "    </tr>\n",
       "    <tr>\n",
       "      <th>7</th>\n",
       "      <td>effect</td>\n",
       "      <td>0.999286</td>\n",
       "      <td>1820</td>\n",
       "    </tr>\n",
       "    <tr>\n",
       "      <th>8</th>\n",
       "      <td>governments</td>\n",
       "      <td>0.999259</td>\n",
       "      <td>1820</td>\n",
       "    </tr>\n",
       "    <tr>\n",
       "      <th>9</th>\n",
       "      <td>great</td>\n",
       "      <td>0.999225</td>\n",
       "      <td>1820</td>\n",
       "    </tr>\n",
       "  </tbody>\n",
       "</table>\n",
       "</div>"
      ],
      "text/plain": [
       "         words  similarity  year\n",
       "0          may    0.999432  1820\n",
       "1   government    0.999386  1820\n",
       "2      parties    0.999371  1820\n",
       "3        every    0.999334  1820\n",
       "4       powers    0.999332  1820\n",
       "5        power    0.999297  1820\n",
       "6       object    0.999293  1820\n",
       "7       effect    0.999286  1820\n",
       "8  governments    0.999259  1820\n",
       "9        great    0.999225  1820"
      ]
     },
     "execution_count": 380,
     "metadata": {},
     "output_type": "execute_result"
    }
   ],
   "source": [
    "u2=model2.most_similar('war')\n",
    "sim2 = pd.DataFrame(u2)\n",
    "sim2.columns=[\"words\",\"similarity\"]\n",
    "sim2[\"year\"]=\"1820\"\n",
    "sim2"
   ]
  },
  {
   "cell_type": "code",
   "execution_count": 72,
   "metadata": {},
   "outputs": [
    {
     "data": {
      "text/html": [
       "<div>\n",
       "<style>\n",
       "    .dataframe thead tr:only-child th {\n",
       "        text-align: right;\n",
       "    }\n",
       "\n",
       "    .dataframe thead th {\n",
       "        text-align: left;\n",
       "    }\n",
       "\n",
       "    .dataframe tbody tr th {\n",
       "        vertical-align: top;\n",
       "    }\n",
       "</style>\n",
       "<table border=\"1\" class=\"dataframe\">\n",
       "  <thead>\n",
       "    <tr style=\"text-align: right;\">\n",
       "      <th></th>\n",
       "      <th>year</th>\n",
       "      <th>peach</th>\n",
       "    </tr>\n",
       "  </thead>\n",
       "  <tbody>\n",
       "    <tr>\n",
       "      <th>2</th>\n",
       "      <td>1820</td>\n",
       "      <td>[state, union, address, james, monroe, novembe...</td>\n",
       "    </tr>\n",
       "  </tbody>\n",
       "</table>\n",
       "</div>"
      ],
      "text/plain": [
       "   year                                              peach\n",
       "2  1820  [state, union, address, james, monroe, novembe..."
      ]
     },
     "execution_count": 72,
     "metadata": {},
     "output_type": "execute_result"
    }
   ],
   "source": [
    "two"
   ]
  },
  {
   "cell_type": "code",
   "execution_count": 387,
   "metadata": {},
   "outputs": [
    {
     "name": "stdout",
     "output_type": "stream",
     "text": [
      "Word2Vec(vocab=8919, size=100, alpha=0.025)\n"
     ]
    }
   ],
   "source": [
    "three=paddu.iloc[[3]]\n",
    "model3 = Word2Vec(three.peach, size=100, window=5, min_count=1, workers=4,hs=0,negative=5,sg=1)\n",
    "print(model3)\n",
    "words3 = list(model3.wv.vocab)"
   ]
  },
  {
   "cell_type": "code",
   "execution_count": 388,
   "metadata": {},
   "outputs": [
    {
     "data": {
      "text/plain": [
       "[('may', 0.9972264766693115),\n",
       " ('without', 0.9969809055328369),\n",
       " ('duties', 0.9969198703765869),\n",
       " ('thus', 0.9968333840370178),\n",
       " ('government', 0.9967082738876343),\n",
       " ('every', 0.9966098666191101),\n",
       " ('system', 0.9965204000473022),\n",
       " ('year', 0.9964922666549683),\n",
       " ('amount', 0.9964624643325806),\n",
       " ('great', 0.9964016675949097)]"
      ]
     },
     "execution_count": 388,
     "metadata": {},
     "output_type": "execute_result"
    }
   ],
   "source": [
    "model3.most_similar('war')"
   ]
  },
  {
   "cell_type": "code",
   "execution_count": 389,
   "metadata": {},
   "outputs": [
    {
     "data": {
      "text/html": [
       "<div>\n",
       "<style>\n",
       "    .dataframe thead tr:only-child th {\n",
       "        text-align: right;\n",
       "    }\n",
       "\n",
       "    .dataframe thead th {\n",
       "        text-align: left;\n",
       "    }\n",
       "\n",
       "    .dataframe tbody tr th {\n",
       "        vertical-align: top;\n",
       "    }\n",
       "</style>\n",
       "<table border=\"1\" class=\"dataframe\">\n",
       "  <thead>\n",
       "    <tr style=\"text-align: right;\">\n",
       "      <th></th>\n",
       "      <th>words</th>\n",
       "      <th>similarity</th>\n",
       "      <th>year</th>\n",
       "    </tr>\n",
       "  </thead>\n",
       "  <tbody>\n",
       "    <tr>\n",
       "      <th>0</th>\n",
       "      <td>may</td>\n",
       "      <td>0.997226</td>\n",
       "      <td>1840</td>\n",
       "    </tr>\n",
       "    <tr>\n",
       "      <th>1</th>\n",
       "      <td>without</td>\n",
       "      <td>0.996981</td>\n",
       "      <td>1840</td>\n",
       "    </tr>\n",
       "    <tr>\n",
       "      <th>2</th>\n",
       "      <td>duties</td>\n",
       "      <td>0.996920</td>\n",
       "      <td>1840</td>\n",
       "    </tr>\n",
       "    <tr>\n",
       "      <th>3</th>\n",
       "      <td>thus</td>\n",
       "      <td>0.996833</td>\n",
       "      <td>1840</td>\n",
       "    </tr>\n",
       "    <tr>\n",
       "      <th>4</th>\n",
       "      <td>government</td>\n",
       "      <td>0.996708</td>\n",
       "      <td>1840</td>\n",
       "    </tr>\n",
       "    <tr>\n",
       "      <th>5</th>\n",
       "      <td>every</td>\n",
       "      <td>0.996610</td>\n",
       "      <td>1840</td>\n",
       "    </tr>\n",
       "    <tr>\n",
       "      <th>6</th>\n",
       "      <td>system</td>\n",
       "      <td>0.996520</td>\n",
       "      <td>1840</td>\n",
       "    </tr>\n",
       "    <tr>\n",
       "      <th>7</th>\n",
       "      <td>year</td>\n",
       "      <td>0.996492</td>\n",
       "      <td>1840</td>\n",
       "    </tr>\n",
       "    <tr>\n",
       "      <th>8</th>\n",
       "      <td>amount</td>\n",
       "      <td>0.996462</td>\n",
       "      <td>1840</td>\n",
       "    </tr>\n",
       "    <tr>\n",
       "      <th>9</th>\n",
       "      <td>great</td>\n",
       "      <td>0.996402</td>\n",
       "      <td>1840</td>\n",
       "    </tr>\n",
       "  </tbody>\n",
       "</table>\n",
       "</div>"
      ],
      "text/plain": [
       "        words  similarity  year\n",
       "0         may    0.997226  1840\n",
       "1     without    0.996981  1840\n",
       "2      duties    0.996920  1840\n",
       "3        thus    0.996833  1840\n",
       "4  government    0.996708  1840\n",
       "5       every    0.996610  1840\n",
       "6      system    0.996520  1840\n",
       "7        year    0.996492  1840\n",
       "8      amount    0.996462  1840\n",
       "9       great    0.996402  1840"
      ]
     },
     "execution_count": 389,
     "metadata": {},
     "output_type": "execute_result"
    }
   ],
   "source": [
    "u3=model3.most_similar('war')\n",
    "sim3 = pd.DataFrame(u3)\n",
    "sim3.columns=[\"words\",\"similarity\"]\n",
    "sim3[\"year\"]=\"1840\"\n",
    "sim3"
   ]
  },
  {
   "cell_type": "code",
   "execution_count": 390,
   "metadata": {},
   "outputs": [
    {
     "name": "stdout",
     "output_type": "stream",
     "text": [
      "Word2Vec(vocab=8332, size=100, alpha=0.025)\n"
     ]
    }
   ],
   "source": [
    "four=paddu.iloc[[4]]\n",
    "model4 = Word2Vec(four.peach, size=100, window=5, min_count=1, workers=4,hs=0,negative=5,sg=1)\n",
    "print(model4)\n",
    "words4 = list(model4.wv.vocab)"
   ]
  },
  {
   "cell_type": "code",
   "execution_count": 391,
   "metadata": {},
   "outputs": [
    {
     "data": {
      "text/plain": [
       "[('labor', 0.9989897608757019),\n",
       " ('congress', 0.9989326596260071),\n",
       " ('general', 0.9989305138587952),\n",
       " ('one', 0.9989036321640015),\n",
       " ('capital', 0.9988877773284912),\n",
       " ('union', 0.9988704323768616),\n",
       " ('country', 0.9988683462142944),\n",
       " ('upon', 0.9988518953323364),\n",
       " ('without', 0.9988003969192505),\n",
       " ('may', 0.9987620115280151)]"
      ]
     },
     "execution_count": 391,
     "metadata": {},
     "output_type": "execute_result"
    }
   ],
   "source": [
    "model4.most_similar('war')"
   ]
  },
  {
   "cell_type": "code",
   "execution_count": 392,
   "metadata": {},
   "outputs": [
    {
     "data": {
      "text/html": [
       "<div>\n",
       "<style>\n",
       "    .dataframe thead tr:only-child th {\n",
       "        text-align: right;\n",
       "    }\n",
       "\n",
       "    .dataframe thead th {\n",
       "        text-align: left;\n",
       "    }\n",
       "\n",
       "    .dataframe tbody tr th {\n",
       "        vertical-align: top;\n",
       "    }\n",
       "</style>\n",
       "<table border=\"1\" class=\"dataframe\">\n",
       "  <thead>\n",
       "    <tr style=\"text-align: right;\">\n",
       "      <th></th>\n",
       "      <th>words</th>\n",
       "      <th>similarity</th>\n",
       "      <th>year</th>\n",
       "    </tr>\n",
       "  </thead>\n",
       "  <tbody>\n",
       "    <tr>\n",
       "      <th>0</th>\n",
       "      <td>labor</td>\n",
       "      <td>0.998990</td>\n",
       "      <td>1860</td>\n",
       "    </tr>\n",
       "    <tr>\n",
       "      <th>1</th>\n",
       "      <td>congress</td>\n",
       "      <td>0.998933</td>\n",
       "      <td>1860</td>\n",
       "    </tr>\n",
       "    <tr>\n",
       "      <th>2</th>\n",
       "      <td>general</td>\n",
       "      <td>0.998931</td>\n",
       "      <td>1860</td>\n",
       "    </tr>\n",
       "    <tr>\n",
       "      <th>3</th>\n",
       "      <td>one</td>\n",
       "      <td>0.998904</td>\n",
       "      <td>1860</td>\n",
       "    </tr>\n",
       "    <tr>\n",
       "      <th>4</th>\n",
       "      <td>capital</td>\n",
       "      <td>0.998888</td>\n",
       "      <td>1860</td>\n",
       "    </tr>\n",
       "    <tr>\n",
       "      <th>5</th>\n",
       "      <td>union</td>\n",
       "      <td>0.998870</td>\n",
       "      <td>1860</td>\n",
       "    </tr>\n",
       "    <tr>\n",
       "      <th>6</th>\n",
       "      <td>country</td>\n",
       "      <td>0.998868</td>\n",
       "      <td>1860</td>\n",
       "    </tr>\n",
       "    <tr>\n",
       "      <th>7</th>\n",
       "      <td>upon</td>\n",
       "      <td>0.998852</td>\n",
       "      <td>1860</td>\n",
       "    </tr>\n",
       "    <tr>\n",
       "      <th>8</th>\n",
       "      <td>without</td>\n",
       "      <td>0.998800</td>\n",
       "      <td>1860</td>\n",
       "    </tr>\n",
       "    <tr>\n",
       "      <th>9</th>\n",
       "      <td>may</td>\n",
       "      <td>0.998762</td>\n",
       "      <td>1860</td>\n",
       "    </tr>\n",
       "  </tbody>\n",
       "</table>\n",
       "</div>"
      ],
      "text/plain": [
       "      words  similarity  year\n",
       "0     labor    0.998990  1860\n",
       "1  congress    0.998933  1860\n",
       "2   general    0.998931  1860\n",
       "3       one    0.998904  1860\n",
       "4   capital    0.998888  1860\n",
       "5     union    0.998870  1860\n",
       "6   country    0.998868  1860\n",
       "7      upon    0.998852  1860\n",
       "8   without    0.998800  1860\n",
       "9       may    0.998762  1860"
      ]
     },
     "execution_count": 392,
     "metadata": {},
     "output_type": "execute_result"
    }
   ],
   "source": [
    "u4=model4.most_similar('war')\n",
    "sim4 = pd.DataFrame(u4)\n",
    "sim4.columns=[\"words\",\"similarity\"]\n",
    "sim4[\"year\"]=\"1860\"\n",
    "sim4"
   ]
  },
  {
   "cell_type": "code",
   "execution_count": 77,
   "metadata": {},
   "outputs": [
    {
     "name": "stdout",
     "output_type": "stream",
     "text": [
      "Word2Vec(vocab=10301, size=100, alpha=0.025)\n"
     ]
    }
   ],
   "source": [
    "five=paddu.iloc[[5]]\n",
    "model5 = Word2Vec(five.peach, size=100, window=5, min_count=1, workers=4,hs=0,negative=5,sg=1)\n",
    "print(model5)\n",
    "words5 = list(model5.wv.vocab)"
   ]
  },
  {
   "cell_type": "code",
   "execution_count": 78,
   "metadata": {},
   "outputs": [
    {
     "data": {
      "text/plain": [
       "[('congress', 0.9776360988616943),\n",
       " ('may', 0.9771738052368164),\n",
       " ('territory', 0.9764466285705566),\n",
       " ('government', 0.975651204586029),\n",
       " ('country', 0.9752627611160278),\n",
       " ('foreign', 0.9750190377235413),\n",
       " ('without', 0.9750174283981323),\n",
       " ('expenditures', 0.9746002554893494),\n",
       " ('year', 0.9742997884750366),\n",
       " ('general', 0.9742975234985352)]"
      ]
     },
     "execution_count": 78,
     "metadata": {},
     "output_type": "execute_result"
    }
   ],
   "source": [
    "model5.most_similar('war')"
   ]
  },
  {
   "cell_type": "code",
   "execution_count": 385,
   "metadata": {},
   "outputs": [
    {
     "data": {
      "text/html": [
       "<div>\n",
       "<style>\n",
       "    .dataframe thead tr:only-child th {\n",
       "        text-align: right;\n",
       "    }\n",
       "\n",
       "    .dataframe thead th {\n",
       "        text-align: left;\n",
       "    }\n",
       "\n",
       "    .dataframe tbody tr th {\n",
       "        vertical-align: top;\n",
       "    }\n",
       "</style>\n",
       "<table border=\"1\" class=\"dataframe\">\n",
       "  <thead>\n",
       "    <tr style=\"text-align: right;\">\n",
       "      <th></th>\n",
       "      <th>words</th>\n",
       "      <th>similarity</th>\n",
       "      <th>year</th>\n",
       "    </tr>\n",
       "  </thead>\n",
       "  <tbody>\n",
       "    <tr>\n",
       "      <th>0</th>\n",
       "      <td>congress</td>\n",
       "      <td>0.977636</td>\n",
       "      <td>1880</td>\n",
       "    </tr>\n",
       "    <tr>\n",
       "      <th>1</th>\n",
       "      <td>may</td>\n",
       "      <td>0.977174</td>\n",
       "      <td>1880</td>\n",
       "    </tr>\n",
       "    <tr>\n",
       "      <th>2</th>\n",
       "      <td>territory</td>\n",
       "      <td>0.976447</td>\n",
       "      <td>1880</td>\n",
       "    </tr>\n",
       "    <tr>\n",
       "      <th>3</th>\n",
       "      <td>government</td>\n",
       "      <td>0.975651</td>\n",
       "      <td>1880</td>\n",
       "    </tr>\n",
       "    <tr>\n",
       "      <th>4</th>\n",
       "      <td>country</td>\n",
       "      <td>0.975263</td>\n",
       "      <td>1880</td>\n",
       "    </tr>\n",
       "    <tr>\n",
       "      <th>5</th>\n",
       "      <td>foreign</td>\n",
       "      <td>0.975019</td>\n",
       "      <td>1880</td>\n",
       "    </tr>\n",
       "    <tr>\n",
       "      <th>6</th>\n",
       "      <td>without</td>\n",
       "      <td>0.975017</td>\n",
       "      <td>1880</td>\n",
       "    </tr>\n",
       "    <tr>\n",
       "      <th>7</th>\n",
       "      <td>expenditures</td>\n",
       "      <td>0.974600</td>\n",
       "      <td>1880</td>\n",
       "    </tr>\n",
       "    <tr>\n",
       "      <th>8</th>\n",
       "      <td>year</td>\n",
       "      <td>0.974300</td>\n",
       "      <td>1880</td>\n",
       "    </tr>\n",
       "    <tr>\n",
       "      <th>9</th>\n",
       "      <td>general</td>\n",
       "      <td>0.974298</td>\n",
       "      <td>1880</td>\n",
       "    </tr>\n",
       "  </tbody>\n",
       "</table>\n",
       "</div>"
      ],
      "text/plain": [
       "          words  similarity  year\n",
       "0      congress    0.977636  1880\n",
       "1           may    0.977174  1880\n",
       "2     territory    0.976447  1880\n",
       "3    government    0.975651  1880\n",
       "4       country    0.975263  1880\n",
       "5       foreign    0.975019  1880\n",
       "6       without    0.975017  1880\n",
       "7  expenditures    0.974600  1880\n",
       "8          year    0.974300  1880\n",
       "9       general    0.974298  1880"
      ]
     },
     "execution_count": 385,
     "metadata": {},
     "output_type": "execute_result"
    }
   ],
   "source": [
    "u5=model5.most_similar('war')\n",
    "sim5 = pd.DataFrame(u5)\n",
    "sim5.columns=[\"words\",\"similarity\"]\n",
    "sim5[\"year\"]=\"1880\"\n",
    "sim5"
   ]
  },
  {
   "cell_type": "code",
   "execution_count": 79,
   "metadata": {},
   "outputs": [
    {
     "name": "stdout",
     "output_type": "stream",
     "text": [
      "Word2Vec(vocab=11325, size=100, alpha=0.025)\n"
     ]
    }
   ],
   "source": [
    "six=paddu.iloc[[6]]\n",
    "model6 = Word2Vec(six.peach, size=100, window=5, min_count=1, workers=4,hs=0,negative=5,sg=1)\n",
    "print(model6)\n",
    "words6 = list(model6.wv.vocab)"
   ]
  },
  {
   "cell_type": "code",
   "execution_count": 80,
   "metadata": {},
   "outputs": [
    {
     "data": {
      "text/plain": [
       "[('congress', 0.9952382445335388),\n",
       " ('may', 0.99482661485672),\n",
       " ('islands', 0.9946542978286743),\n",
       " ('year', 0.9943437576293945),\n",
       " ('government', 0.9940354824066162),\n",
       " ('president', 0.9939664006233215),\n",
       " ('people', 0.9939447641372681),\n",
       " ('public', 0.9936366677284241),\n",
       " ('service', 0.9934700727462769),\n",
       " ('commission', 0.9933823943138123)]"
      ]
     },
     "execution_count": 80,
     "metadata": {},
     "output_type": "execute_result"
    }
   ],
   "source": [
    "model6.most_similar('war')"
   ]
  },
  {
   "cell_type": "code",
   "execution_count": 394,
   "metadata": {},
   "outputs": [
    {
     "data": {
      "text/html": [
       "<div>\n",
       "<style>\n",
       "    .dataframe thead tr:only-child th {\n",
       "        text-align: right;\n",
       "    }\n",
       "\n",
       "    .dataframe thead th {\n",
       "        text-align: left;\n",
       "    }\n",
       "\n",
       "    .dataframe tbody tr th {\n",
       "        vertical-align: top;\n",
       "    }\n",
       "</style>\n",
       "<table border=\"1\" class=\"dataframe\">\n",
       "  <thead>\n",
       "    <tr style=\"text-align: right;\">\n",
       "      <th></th>\n",
       "      <th>words</th>\n",
       "      <th>similarity</th>\n",
       "      <th>year</th>\n",
       "    </tr>\n",
       "  </thead>\n",
       "  <tbody>\n",
       "    <tr>\n",
       "      <th>0</th>\n",
       "      <td>congress</td>\n",
       "      <td>0.995238</td>\n",
       "      <td>1900</td>\n",
       "    </tr>\n",
       "    <tr>\n",
       "      <th>1</th>\n",
       "      <td>may</td>\n",
       "      <td>0.994827</td>\n",
       "      <td>1900</td>\n",
       "    </tr>\n",
       "    <tr>\n",
       "      <th>2</th>\n",
       "      <td>islands</td>\n",
       "      <td>0.994654</td>\n",
       "      <td>1900</td>\n",
       "    </tr>\n",
       "    <tr>\n",
       "      <th>3</th>\n",
       "      <td>year</td>\n",
       "      <td>0.994344</td>\n",
       "      <td>1900</td>\n",
       "    </tr>\n",
       "    <tr>\n",
       "      <th>4</th>\n",
       "      <td>government</td>\n",
       "      <td>0.994035</td>\n",
       "      <td>1900</td>\n",
       "    </tr>\n",
       "    <tr>\n",
       "      <th>5</th>\n",
       "      <td>president</td>\n",
       "      <td>0.993966</td>\n",
       "      <td>1900</td>\n",
       "    </tr>\n",
       "    <tr>\n",
       "      <th>6</th>\n",
       "      <td>people</td>\n",
       "      <td>0.993945</td>\n",
       "      <td>1900</td>\n",
       "    </tr>\n",
       "    <tr>\n",
       "      <th>7</th>\n",
       "      <td>public</td>\n",
       "      <td>0.993637</td>\n",
       "      <td>1900</td>\n",
       "    </tr>\n",
       "    <tr>\n",
       "      <th>8</th>\n",
       "      <td>service</td>\n",
       "      <td>0.993470</td>\n",
       "      <td>1900</td>\n",
       "    </tr>\n",
       "    <tr>\n",
       "      <th>9</th>\n",
       "      <td>commission</td>\n",
       "      <td>0.993382</td>\n",
       "      <td>1900</td>\n",
       "    </tr>\n",
       "  </tbody>\n",
       "</table>\n",
       "</div>"
      ],
      "text/plain": [
       "        words  similarity  year\n",
       "0    congress    0.995238  1900\n",
       "1         may    0.994827  1900\n",
       "2     islands    0.994654  1900\n",
       "3        year    0.994344  1900\n",
       "4  government    0.994035  1900\n",
       "5   president    0.993966  1900\n",
       "6      people    0.993945  1900\n",
       "7      public    0.993637  1900\n",
       "8     service    0.993470  1900\n",
       "9  commission    0.993382  1900"
      ]
     },
     "execution_count": 394,
     "metadata": {},
     "output_type": "execute_result"
    }
   ],
   "source": [
    "u6=model6.most_similar('war')\n",
    "sim6 = pd.DataFrame(u6)\n",
    "sim6.columns=[\"words\",\"similarity\"]\n",
    "sim6[\"year\"]=\"1900\"\n",
    "sim6"
   ]
  },
  {
   "cell_type": "code",
   "execution_count": 81,
   "metadata": {},
   "outputs": [
    {
     "name": "stdout",
     "output_type": "stream",
     "text": [
      "Word2Vec(vocab=7058, size=100, alpha=0.025)\n"
     ]
    }
   ],
   "source": [
    "seven=paddu.iloc[[7]]\n",
    "model7 = Word2Vec(seven.peach, size=100, window=5, min_count=1, workers=4,hs=0,negative=5,sg=1)\n",
    "print(model7)\n",
    "words7 = list(model7.wv.vocab)"
   ]
  },
  {
   "cell_type": "code",
   "execution_count": 351,
   "metadata": {},
   "outputs": [
    {
     "data": {
      "text/plain": [
       "[('must', 0.9986203908920288),\n",
       " ('government', 0.9984880685806274),\n",
       " ('law', 0.9982452988624573),\n",
       " ('necessary', 0.9982070326805115),\n",
       " ('may', 0.9981900453567505),\n",
       " ('public', 0.9981594085693359),\n",
       " ('great', 0.9981381893157959),\n",
       " ('would', 0.9980737566947937),\n",
       " ('much', 0.9980257749557495),\n",
       " ('power', 0.9980202913284302)]"
      ]
     },
     "execution_count": 351,
     "metadata": {},
     "output_type": "execute_result"
    }
   ],
   "source": [
    "model7.most_similar('war')"
   ]
  },
  {
   "cell_type": "code",
   "execution_count": 395,
   "metadata": {},
   "outputs": [
    {
     "data": {
      "text/html": [
       "<div>\n",
       "<style>\n",
       "    .dataframe thead tr:only-child th {\n",
       "        text-align: right;\n",
       "    }\n",
       "\n",
       "    .dataframe thead th {\n",
       "        text-align: left;\n",
       "    }\n",
       "\n",
       "    .dataframe tbody tr th {\n",
       "        vertical-align: top;\n",
       "    }\n",
       "</style>\n",
       "<table border=\"1\" class=\"dataframe\">\n",
       "  <thead>\n",
       "    <tr style=\"text-align: right;\">\n",
       "      <th></th>\n",
       "      <th>words</th>\n",
       "      <th>similarity</th>\n",
       "      <th>year</th>\n",
       "    </tr>\n",
       "  </thead>\n",
       "  <tbody>\n",
       "    <tr>\n",
       "      <th>0</th>\n",
       "      <td>imposed</td>\n",
       "      <td>0.356343</td>\n",
       "      <td>1920</td>\n",
       "    </tr>\n",
       "    <tr>\n",
       "      <th>1</th>\n",
       "      <td>wind</td>\n",
       "      <td>0.354863</td>\n",
       "      <td>1920</td>\n",
       "    </tr>\n",
       "    <tr>\n",
       "      <th>2</th>\n",
       "      <td>functional</td>\n",
       "      <td>0.328458</td>\n",
       "      <td>1920</td>\n",
       "    </tr>\n",
       "    <tr>\n",
       "      <th>3</th>\n",
       "      <td>stirring</td>\n",
       "      <td>0.322756</td>\n",
       "      <td>1920</td>\n",
       "    </tr>\n",
       "    <tr>\n",
       "      <th>4</th>\n",
       "      <td>unchecked</td>\n",
       "      <td>0.319501</td>\n",
       "      <td>1920</td>\n",
       "    </tr>\n",
       "    <tr>\n",
       "      <th>5</th>\n",
       "      <td>exceptions</td>\n",
       "      <td>0.311608</td>\n",
       "      <td>1920</td>\n",
       "    </tr>\n",
       "    <tr>\n",
       "      <th>6</th>\n",
       "      <td>senseless</td>\n",
       "      <td>0.309206</td>\n",
       "      <td>1920</td>\n",
       "    </tr>\n",
       "    <tr>\n",
       "      <th>7</th>\n",
       "      <td>adoption</td>\n",
       "      <td>0.308637</td>\n",
       "      <td>1920</td>\n",
       "    </tr>\n",
       "    <tr>\n",
       "      <th>8</th>\n",
       "      <td>engrave</td>\n",
       "      <td>0.308178</td>\n",
       "      <td>1920</td>\n",
       "    </tr>\n",
       "    <tr>\n",
       "      <th>9</th>\n",
       "      <td>crossed</td>\n",
       "      <td>0.306231</td>\n",
       "      <td>1920</td>\n",
       "    </tr>\n",
       "  </tbody>\n",
       "</table>\n",
       "</div>"
      ],
      "text/plain": [
       "        words  similarity  year\n",
       "0     imposed    0.356343  1920\n",
       "1        wind    0.354863  1920\n",
       "2  functional    0.328458  1920\n",
       "3    stirring    0.322756  1920\n",
       "4   unchecked    0.319501  1920\n",
       "5  exceptions    0.311608  1920\n",
       "6   senseless    0.309206  1920\n",
       "7    adoption    0.308637  1920\n",
       "8     engrave    0.308178  1920\n",
       "9     crossed    0.306231  1920"
      ]
     },
     "execution_count": 395,
     "metadata": {},
     "output_type": "execute_result"
    }
   ],
   "source": [
    "u7=model7.most_similar('war')\n",
    "sim7 = pd.DataFrame(u9)\n",
    "sim7.columns=[\"words\",\"similarity\"]\n",
    "sim7[\"year\"]=\"1920\"\n",
    "sim7"
   ]
  },
  {
   "cell_type": "code",
   "execution_count": 83,
   "metadata": {},
   "outputs": [
    {
     "name": "stdout",
     "output_type": "stream",
     "text": [
      "Word2Vec(vocab=7555, size=100, alpha=0.025)\n"
     ]
    }
   ],
   "source": [
    "eight=paddu.iloc[[8]]\n",
    "model8 = Word2Vec(eight.peach, size=100, window=5, min_count=1, workers=4,hs=0,negative=5,sg=1)\n",
    "print(model8)\n",
    "words8 = list(model8.wv.vocab)"
   ]
  },
  {
   "cell_type": "code",
   "execution_count": 353,
   "metadata": {},
   "outputs": [
    {
     "data": {
      "text/plain": [
       "[('japanese', 0.9997966289520264),\n",
       " ('forces', 0.9997556805610657),\n",
       " ('islands', 0.9997278451919556),\n",
       " ('one', 0.9997223019599915),\n",
       " ('china', 0.9997180104255676),\n",
       " ('air', 0.9997107982635498),\n",
       " ('men', 0.9996920824050903),\n",
       " ('sea', 0.9996901154518127),\n",
       " ('us', 0.9996744394302368),\n",
       " ('could', 0.9996721744537354)]"
      ]
     },
     "execution_count": 353,
     "metadata": {},
     "output_type": "execute_result"
    }
   ],
   "source": [
    "model8.wv.most_similar('war')"
   ]
  },
  {
   "cell_type": "code",
   "execution_count": 397,
   "metadata": {},
   "outputs": [
    {
     "data": {
      "text/html": [
       "<div>\n",
       "<style>\n",
       "    .dataframe thead tr:only-child th {\n",
       "        text-align: right;\n",
       "    }\n",
       "\n",
       "    .dataframe thead th {\n",
       "        text-align: left;\n",
       "    }\n",
       "\n",
       "    .dataframe tbody tr th {\n",
       "        vertical-align: top;\n",
       "    }\n",
       "</style>\n",
       "<table border=\"1\" class=\"dataframe\">\n",
       "  <thead>\n",
       "    <tr style=\"text-align: right;\">\n",
       "      <th></th>\n",
       "      <th>words</th>\n",
       "      <th>similarity</th>\n",
       "      <th>year</th>\n",
       "    </tr>\n",
       "  </thead>\n",
       "  <tbody>\n",
       "    <tr>\n",
       "      <th>0</th>\n",
       "      <td>japanese</td>\n",
       "      <td>0.999797</td>\n",
       "      <td>1940</td>\n",
       "    </tr>\n",
       "    <tr>\n",
       "      <th>1</th>\n",
       "      <td>forces</td>\n",
       "      <td>0.999756</td>\n",
       "      <td>1940</td>\n",
       "    </tr>\n",
       "    <tr>\n",
       "      <th>2</th>\n",
       "      <td>islands</td>\n",
       "      <td>0.999728</td>\n",
       "      <td>1940</td>\n",
       "    </tr>\n",
       "    <tr>\n",
       "      <th>3</th>\n",
       "      <td>one</td>\n",
       "      <td>0.999722</td>\n",
       "      <td>1940</td>\n",
       "    </tr>\n",
       "    <tr>\n",
       "      <th>4</th>\n",
       "      <td>china</td>\n",
       "      <td>0.999718</td>\n",
       "      <td>1940</td>\n",
       "    </tr>\n",
       "    <tr>\n",
       "      <th>5</th>\n",
       "      <td>air</td>\n",
       "      <td>0.999711</td>\n",
       "      <td>1940</td>\n",
       "    </tr>\n",
       "    <tr>\n",
       "      <th>6</th>\n",
       "      <td>men</td>\n",
       "      <td>0.999692</td>\n",
       "      <td>1940</td>\n",
       "    </tr>\n",
       "    <tr>\n",
       "      <th>7</th>\n",
       "      <td>sea</td>\n",
       "      <td>0.999690</td>\n",
       "      <td>1940</td>\n",
       "    </tr>\n",
       "    <tr>\n",
       "      <th>8</th>\n",
       "      <td>us</td>\n",
       "      <td>0.999674</td>\n",
       "      <td>1940</td>\n",
       "    </tr>\n",
       "    <tr>\n",
       "      <th>9</th>\n",
       "      <td>could</td>\n",
       "      <td>0.999672</td>\n",
       "      <td>1940</td>\n",
       "    </tr>\n",
       "  </tbody>\n",
       "</table>\n",
       "</div>"
      ],
      "text/plain": [
       "      words  similarity  year\n",
       "0  japanese    0.999797  1940\n",
       "1    forces    0.999756  1940\n",
       "2   islands    0.999728  1940\n",
       "3       one    0.999722  1940\n",
       "4     china    0.999718  1940\n",
       "5       air    0.999711  1940\n",
       "6       men    0.999692  1940\n",
       "7       sea    0.999690  1940\n",
       "8        us    0.999674  1940\n",
       "9     could    0.999672  1940"
      ]
     },
     "execution_count": 397,
     "metadata": {},
     "output_type": "execute_result"
    }
   ],
   "source": [
    "u8=model8.most_similar('war')\n",
    "sim8 = pd.DataFrame(u8)\n",
    "sim8.columns=[\"words\",\"similarity\"]\n",
    "sim8[\"year\"]=\"1940\"\n",
    "sim8"
   ]
  },
  {
   "cell_type": "code",
   "execution_count": 85,
   "metadata": {},
   "outputs": [
    {
     "name": "stdout",
     "output_type": "stream",
     "text": [
      "Word2Vec(vocab=6816, size=100, alpha=0.025)\n"
     ]
    }
   ],
   "source": [
    "nine=paddu.iloc[[9]]\n",
    "model9 = Word2Vec(nine.peach, size=100, window=5, min_count=1, workers=4,hs=0,negative=5,sg=1)\n",
    "print(model9)\n",
    "words9 = list(model9.wv.vocab)"
   ]
  },
  {
   "cell_type": "code",
   "execution_count": 354,
   "metadata": {},
   "outputs": [
    {
     "data": {
      "text/plain": [
       "[('imposed', 0.35634279251098633),\n",
       " ('wind', 0.35486340522766113),\n",
       " ('functional', 0.3284575045108795),\n",
       " ('stirring', 0.32275551557540894),\n",
       " ('unchecked', 0.3195006847381592),\n",
       " ('exceptions', 0.3116079568862915),\n",
       " ('senseless', 0.3092063367366791),\n",
       " ('adoption', 0.3086368441581726),\n",
       " ('engrave', 0.30817753076553345),\n",
       " ('crossed', 0.306230753660202)]"
      ]
     },
     "execution_count": 354,
     "metadata": {},
     "output_type": "execute_result"
    }
   ],
   "source": [
    "model9.wv.most_similar('terrorism')"
   ]
  },
  {
   "cell_type": "code",
   "execution_count": 398,
   "metadata": {},
   "outputs": [
    {
     "data": {
      "text/html": [
       "<div>\n",
       "<style>\n",
       "    .dataframe thead tr:only-child th {\n",
       "        text-align: right;\n",
       "    }\n",
       "\n",
       "    .dataframe thead th {\n",
       "        text-align: left;\n",
       "    }\n",
       "\n",
       "    .dataframe tbody tr th {\n",
       "        vertical-align: top;\n",
       "    }\n",
       "</style>\n",
       "<table border=\"1\" class=\"dataframe\">\n",
       "  <thead>\n",
       "    <tr style=\"text-align: right;\">\n",
       "      <th></th>\n",
       "      <th>words</th>\n",
       "      <th>similarity</th>\n",
       "      <th>year</th>\n",
       "    </tr>\n",
       "  </thead>\n",
       "  <tbody>\n",
       "    <tr>\n",
       "      <th>0</th>\n",
       "      <td>imposed</td>\n",
       "      <td>0.356343</td>\n",
       "      <td>1960</td>\n",
       "    </tr>\n",
       "    <tr>\n",
       "      <th>1</th>\n",
       "      <td>wind</td>\n",
       "      <td>0.354863</td>\n",
       "      <td>1960</td>\n",
       "    </tr>\n",
       "    <tr>\n",
       "      <th>2</th>\n",
       "      <td>functional</td>\n",
       "      <td>0.328458</td>\n",
       "      <td>1960</td>\n",
       "    </tr>\n",
       "    <tr>\n",
       "      <th>3</th>\n",
       "      <td>stirring</td>\n",
       "      <td>0.322756</td>\n",
       "      <td>1960</td>\n",
       "    </tr>\n",
       "    <tr>\n",
       "      <th>4</th>\n",
       "      <td>unchecked</td>\n",
       "      <td>0.319501</td>\n",
       "      <td>1960</td>\n",
       "    </tr>\n",
       "    <tr>\n",
       "      <th>5</th>\n",
       "      <td>exceptions</td>\n",
       "      <td>0.311608</td>\n",
       "      <td>1960</td>\n",
       "    </tr>\n",
       "    <tr>\n",
       "      <th>6</th>\n",
       "      <td>senseless</td>\n",
       "      <td>0.309206</td>\n",
       "      <td>1960</td>\n",
       "    </tr>\n",
       "    <tr>\n",
       "      <th>7</th>\n",
       "      <td>adoption</td>\n",
       "      <td>0.308637</td>\n",
       "      <td>1960</td>\n",
       "    </tr>\n",
       "    <tr>\n",
       "      <th>8</th>\n",
       "      <td>engrave</td>\n",
       "      <td>0.308178</td>\n",
       "      <td>1960</td>\n",
       "    </tr>\n",
       "    <tr>\n",
       "      <th>9</th>\n",
       "      <td>crossed</td>\n",
       "      <td>0.306231</td>\n",
       "      <td>1960</td>\n",
       "    </tr>\n",
       "  </tbody>\n",
       "</table>\n",
       "</div>"
      ],
      "text/plain": [
       "        words  similarity  year\n",
       "0     imposed    0.356343  1960\n",
       "1        wind    0.354863  1960\n",
       "2  functional    0.328458  1960\n",
       "3    stirring    0.322756  1960\n",
       "4   unchecked    0.319501  1960\n",
       "5  exceptions    0.311608  1960\n",
       "6   senseless    0.309206  1960\n",
       "7    adoption    0.308637  1960\n",
       "8     engrave    0.308178  1960\n",
       "9     crossed    0.306231  1960"
      ]
     },
     "execution_count": 398,
     "metadata": {},
     "output_type": "execute_result"
    }
   ],
   "source": [
    "u9=model9.most_similar('terrorism')\n",
    "ter1960 = pd.DataFrame(u9)\n",
    "ter1960.columns=[\"words\",\"similarity\"]\n",
    "ter1960[\"year\"]=\"1960\"\n",
    "ter1960"
   ]
  },
  {
   "cell_type": "code",
   "execution_count": 399,
   "metadata": {},
   "outputs": [
    {
     "data": {
      "text/html": [
       "<div>\n",
       "<style>\n",
       "    .dataframe thead tr:only-child th {\n",
       "        text-align: right;\n",
       "    }\n",
       "\n",
       "    .dataframe thead th {\n",
       "        text-align: left;\n",
       "    }\n",
       "\n",
       "    .dataframe tbody tr th {\n",
       "        vertical-align: top;\n",
       "    }\n",
       "</style>\n",
       "<table border=\"1\" class=\"dataframe\">\n",
       "  <thead>\n",
       "    <tr style=\"text-align: right;\">\n",
       "      <th></th>\n",
       "      <th>words</th>\n",
       "      <th>similarity</th>\n",
       "      <th>year</th>\n",
       "    </tr>\n",
       "  </thead>\n",
       "  <tbody>\n",
       "    <tr>\n",
       "      <th>0</th>\n",
       "      <td>imposed</td>\n",
       "      <td>0.356343</td>\n",
       "      <td>1960</td>\n",
       "    </tr>\n",
       "    <tr>\n",
       "      <th>1</th>\n",
       "      <td>wind</td>\n",
       "      <td>0.354863</td>\n",
       "      <td>1960</td>\n",
       "    </tr>\n",
       "    <tr>\n",
       "      <th>2</th>\n",
       "      <td>functional</td>\n",
       "      <td>0.328458</td>\n",
       "      <td>1960</td>\n",
       "    </tr>\n",
       "    <tr>\n",
       "      <th>3</th>\n",
       "      <td>stirring</td>\n",
       "      <td>0.322756</td>\n",
       "      <td>1960</td>\n",
       "    </tr>\n",
       "    <tr>\n",
       "      <th>4</th>\n",
       "      <td>unchecked</td>\n",
       "      <td>0.319501</td>\n",
       "      <td>1960</td>\n",
       "    </tr>\n",
       "    <tr>\n",
       "      <th>5</th>\n",
       "      <td>exceptions</td>\n",
       "      <td>0.311608</td>\n",
       "      <td>1960</td>\n",
       "    </tr>\n",
       "    <tr>\n",
       "      <th>6</th>\n",
       "      <td>senseless</td>\n",
       "      <td>0.309206</td>\n",
       "      <td>1960</td>\n",
       "    </tr>\n",
       "    <tr>\n",
       "      <th>7</th>\n",
       "      <td>adoption</td>\n",
       "      <td>0.308637</td>\n",
       "      <td>1960</td>\n",
       "    </tr>\n",
       "    <tr>\n",
       "      <th>8</th>\n",
       "      <td>engrave</td>\n",
       "      <td>0.308178</td>\n",
       "      <td>1960</td>\n",
       "    </tr>\n",
       "    <tr>\n",
       "      <th>9</th>\n",
       "      <td>crossed</td>\n",
       "      <td>0.306231</td>\n",
       "      <td>1960</td>\n",
       "    </tr>\n",
       "  </tbody>\n",
       "</table>\n",
       "</div>"
      ],
      "text/plain": [
       "        words  similarity  year\n",
       "0     imposed    0.356343  1960\n",
       "1        wind    0.354863  1960\n",
       "2  functional    0.328458  1960\n",
       "3    stirring    0.322756  1960\n",
       "4   unchecked    0.319501  1960\n",
       "5  exceptions    0.311608  1960\n",
       "6   senseless    0.309206  1960\n",
       "7    adoption    0.308637  1960\n",
       "8     engrave    0.308178  1960\n",
       "9     crossed    0.306231  1960"
      ]
     },
     "execution_count": 399,
     "metadata": {},
     "output_type": "execute_result"
    }
   ],
   "source": [
    "u9=model9.most_similar('terrorism')\n",
    "sim9 = pd.DataFrame(u9)\n",
    "sim9.columns=[\"words\",\"similarity\"]\n",
    "sim9[\"year\"]=\"1960\"\n",
    "sim9"
   ]
  },
  {
   "cell_type": "code",
   "execution_count": 87,
   "metadata": {},
   "outputs": [
    {
     "name": "stdout",
     "output_type": "stream",
     "text": [
      "Word2Vec(vocab=8218, size=100, alpha=0.025)\n"
     ]
    }
   ],
   "source": [
    "ten=paddu.iloc[[10]]\n",
    "model10 = Word2Vec(ten.peach, size=100, window=5, min_count=1, workers=4,hs=0,negative=5,sg=1)\n",
    "print(model10)\n",
    "words10 = list(model10.wv.vocab)"
   ]
  },
  {
   "cell_type": "code",
   "execution_count": 355,
   "metadata": {},
   "outputs": [
    {
     "data": {
      "text/plain": [
       "[('adoption', 0.7671973705291748),\n",
       " ('grain', 0.7658168077468872),\n",
       " ('assurance', 0.7655997276306152),\n",
       " ('certificates', 0.7647886276245117),\n",
       " ('pursuant', 0.7601293325424194),\n",
       " ('weak', 0.7596339583396912),\n",
       " ('combined', 0.7592002749443054),\n",
       " ('recognizing', 0.7587597370147705),\n",
       " ('pursuit', 0.7584208846092224),\n",
       " ('imposed', 0.757532000541687)]"
      ]
     },
     "execution_count": 355,
     "metadata": {},
     "output_type": "execute_result"
    }
   ],
   "source": [
    "model10.wv.most_similar('terrorism')"
   ]
  },
  {
   "cell_type": "code",
   "execution_count": 401,
   "metadata": {},
   "outputs": [
    {
     "data": {
      "text/html": [
       "<div>\n",
       "<style>\n",
       "    .dataframe thead tr:only-child th {\n",
       "        text-align: right;\n",
       "    }\n",
       "\n",
       "    .dataframe thead th {\n",
       "        text-align: left;\n",
       "    }\n",
       "\n",
       "    .dataframe tbody tr th {\n",
       "        vertical-align: top;\n",
       "    }\n",
       "</style>\n",
       "<table border=\"1\" class=\"dataframe\">\n",
       "  <thead>\n",
       "    <tr style=\"text-align: right;\">\n",
       "      <th></th>\n",
       "      <th>words</th>\n",
       "      <th>similarity</th>\n",
       "      <th>year</th>\n",
       "    </tr>\n",
       "  </thead>\n",
       "  <tbody>\n",
       "    <tr>\n",
       "      <th>0</th>\n",
       "      <td>adoption</td>\n",
       "      <td>0.767197</td>\n",
       "      <td>1980</td>\n",
       "    </tr>\n",
       "    <tr>\n",
       "      <th>1</th>\n",
       "      <td>grain</td>\n",
       "      <td>0.765817</td>\n",
       "      <td>1980</td>\n",
       "    </tr>\n",
       "    <tr>\n",
       "      <th>2</th>\n",
       "      <td>assurance</td>\n",
       "      <td>0.765600</td>\n",
       "      <td>1980</td>\n",
       "    </tr>\n",
       "    <tr>\n",
       "      <th>3</th>\n",
       "      <td>certificates</td>\n",
       "      <td>0.764789</td>\n",
       "      <td>1980</td>\n",
       "    </tr>\n",
       "    <tr>\n",
       "      <th>4</th>\n",
       "      <td>pursuant</td>\n",
       "      <td>0.760129</td>\n",
       "      <td>1980</td>\n",
       "    </tr>\n",
       "    <tr>\n",
       "      <th>5</th>\n",
       "      <td>weak</td>\n",
       "      <td>0.759634</td>\n",
       "      <td>1980</td>\n",
       "    </tr>\n",
       "    <tr>\n",
       "      <th>6</th>\n",
       "      <td>combined</td>\n",
       "      <td>0.759200</td>\n",
       "      <td>1980</td>\n",
       "    </tr>\n",
       "    <tr>\n",
       "      <th>7</th>\n",
       "      <td>recognizing</td>\n",
       "      <td>0.758760</td>\n",
       "      <td>1980</td>\n",
       "    </tr>\n",
       "    <tr>\n",
       "      <th>8</th>\n",
       "      <td>pursuit</td>\n",
       "      <td>0.758421</td>\n",
       "      <td>1980</td>\n",
       "    </tr>\n",
       "    <tr>\n",
       "      <th>9</th>\n",
       "      <td>imposed</td>\n",
       "      <td>0.757532</td>\n",
       "      <td>1980</td>\n",
       "    </tr>\n",
       "  </tbody>\n",
       "</table>\n",
       "</div>"
      ],
      "text/plain": [
       "          words  similarity  year\n",
       "0      adoption    0.767197  1980\n",
       "1         grain    0.765817  1980\n",
       "2     assurance    0.765600  1980\n",
       "3  certificates    0.764789  1980\n",
       "4      pursuant    0.760129  1980\n",
       "5          weak    0.759634  1980\n",
       "6      combined    0.759200  1980\n",
       "7   recognizing    0.758760  1980\n",
       "8       pursuit    0.758421  1980\n",
       "9       imposed    0.757532  1980"
      ]
     },
     "execution_count": 401,
     "metadata": {},
     "output_type": "execute_result"
    }
   ],
   "source": [
    "u10=model10.most_similar('terrorism')\n",
    "terror1980 = pd.DataFrame(u10)\n",
    "terror1980.columns=[\"words\",\"similarity\"]\n",
    "terror1980[\"year\"]=\"1980\"\n",
    "terror1980"
   ]
  },
  {
   "cell_type": "code",
   "execution_count": 400,
   "metadata": {},
   "outputs": [
    {
     "data": {
      "text/html": [
       "<div>\n",
       "<style>\n",
       "    .dataframe thead tr:only-child th {\n",
       "        text-align: right;\n",
       "    }\n",
       "\n",
       "    .dataframe thead th {\n",
       "        text-align: left;\n",
       "    }\n",
       "\n",
       "    .dataframe tbody tr th {\n",
       "        vertical-align: top;\n",
       "    }\n",
       "</style>\n",
       "<table border=\"1\" class=\"dataframe\">\n",
       "  <thead>\n",
       "    <tr style=\"text-align: right;\">\n",
       "      <th></th>\n",
       "      <th>words</th>\n",
       "      <th>similarity</th>\n",
       "      <th>year</th>\n",
       "    </tr>\n",
       "  </thead>\n",
       "  <tbody>\n",
       "    <tr>\n",
       "      <th>0</th>\n",
       "      <td>congress</td>\n",
       "      <td>0.999247</td>\n",
       "      <td>1980</td>\n",
       "    </tr>\n",
       "    <tr>\n",
       "      <th>1</th>\n",
       "      <td>assure</td>\n",
       "      <td>0.999216</td>\n",
       "      <td>1980</td>\n",
       "    </tr>\n",
       "    <tr>\n",
       "      <th>2</th>\n",
       "      <td>increased</td>\n",
       "      <td>0.999189</td>\n",
       "      <td>1980</td>\n",
       "    </tr>\n",
       "    <tr>\n",
       "      <th>3</th>\n",
       "      <td>housing</td>\n",
       "      <td>0.999168</td>\n",
       "      <td>1980</td>\n",
       "    </tr>\n",
       "    <tr>\n",
       "      <th>4</th>\n",
       "      <td>urban</td>\n",
       "      <td>0.999167</td>\n",
       "      <td>1980</td>\n",
       "    </tr>\n",
       "    <tr>\n",
       "      <th>5</th>\n",
       "      <td>women</td>\n",
       "      <td>0.999147</td>\n",
       "      <td>1980</td>\n",
       "    </tr>\n",
       "    <tr>\n",
       "      <th>6</th>\n",
       "      <td>program</td>\n",
       "      <td>0.999146</td>\n",
       "      <td>1980</td>\n",
       "    </tr>\n",
       "    <tr>\n",
       "      <th>7</th>\n",
       "      <td>also</td>\n",
       "      <td>0.999145</td>\n",
       "      <td>1980</td>\n",
       "    </tr>\n",
       "    <tr>\n",
       "      <th>8</th>\n",
       "      <td>provide</td>\n",
       "      <td>0.999133</td>\n",
       "      <td>1980</td>\n",
       "    </tr>\n",
       "    <tr>\n",
       "      <th>9</th>\n",
       "      <td>economic</td>\n",
       "      <td>0.999132</td>\n",
       "      <td>1980</td>\n",
       "    </tr>\n",
       "  </tbody>\n",
       "</table>\n",
       "</div>"
      ],
      "text/plain": [
       "       words  similarity  year\n",
       "0   congress    0.999247  1980\n",
       "1     assure    0.999216  1980\n",
       "2  increased    0.999189  1980\n",
       "3    housing    0.999168  1980\n",
       "4      urban    0.999167  1980\n",
       "5      women    0.999147  1980\n",
       "6    program    0.999146  1980\n",
       "7       also    0.999145  1980\n",
       "8    provide    0.999133  1980\n",
       "9   economic    0.999132  1980"
      ]
     },
     "execution_count": 400,
     "metadata": {},
     "output_type": "execute_result"
    }
   ],
   "source": [
    "u10=model10.most_similar('war')\n",
    "sim10 = pd.DataFrame(u10)\n",
    "sim10.columns=[\"words\",\"similarity\"]\n",
    "sim10[\"year\"]=\"1980\"\n",
    "sim10"
   ]
  },
  {
   "cell_type": "code",
   "execution_count": 90,
   "metadata": {},
   "outputs": [
    {
     "name": "stdout",
     "output_type": "stream",
     "text": [
      "Word2Vec(vocab=6160, size=100, alpha=0.025)\n"
     ]
    }
   ],
   "source": [
    "eleven=paddu.iloc[[11]]\n",
    "model11 = Word2Vec(eleven.peach, size=100, window=5, min_count=1, workers=4,hs=0,negative=5,sg=1)\n",
    "print(model11)\n",
    "words11 = list(model11.wv.vocab)"
   ]
  },
  {
   "cell_type": "code",
   "execution_count": 340,
   "metadata": {},
   "outputs": [
    {
     "data": {
      "text/plain": [
       "[('yet', 0.9969432353973389),\n",
       " ('congress', 0.9968900680541992),\n",
       " ('terrorists', 0.9968175292015076),\n",
       " ('ask', 0.9967942237854004),\n",
       " ('war', 0.9967775940895081),\n",
       " ('year', 0.9966838955879211),\n",
       " ('economy', 0.9966829419136047),\n",
       " ('great', 0.9966686964035034),\n",
       " ('us', 0.9966652393341064),\n",
       " ('america', 0.9966627955436707)]"
      ]
     },
     "execution_count": 340,
     "metadata": {},
     "output_type": "execute_result"
    }
   ],
   "source": [
    "model11.most_similar('terrorism')"
   ]
  },
  {
   "cell_type": "code",
   "execution_count": 404,
   "metadata": {},
   "outputs": [
    {
     "data": {
      "text/html": [
       "<div>\n",
       "<style>\n",
       "    .dataframe thead tr:only-child th {\n",
       "        text-align: right;\n",
       "    }\n",
       "\n",
       "    .dataframe thead th {\n",
       "        text-align: left;\n",
       "    }\n",
       "\n",
       "    .dataframe tbody tr th {\n",
       "        vertical-align: top;\n",
       "    }\n",
       "</style>\n",
       "<table border=\"1\" class=\"dataframe\">\n",
       "  <thead>\n",
       "    <tr style=\"text-align: right;\">\n",
       "      <th></th>\n",
       "      <th>words</th>\n",
       "      <th>similarity</th>\n",
       "      <th>year</th>\n",
       "    </tr>\n",
       "  </thead>\n",
       "  <tbody>\n",
       "    <tr>\n",
       "      <th>0</th>\n",
       "      <td>america</td>\n",
       "      <td>0.999604</td>\n",
       "      <td>1980</td>\n",
       "    </tr>\n",
       "    <tr>\n",
       "      <th>1</th>\n",
       "      <td>freedom</td>\n",
       "      <td>0.999533</td>\n",
       "      <td>1980</td>\n",
       "    </tr>\n",
       "    <tr>\n",
       "      <th>2</th>\n",
       "      <td>country</td>\n",
       "      <td>0.999488</td>\n",
       "      <td>1980</td>\n",
       "    </tr>\n",
       "    <tr>\n",
       "      <th>3</th>\n",
       "      <td>every</td>\n",
       "      <td>0.999473</td>\n",
       "      <td>1980</td>\n",
       "    </tr>\n",
       "    <tr>\n",
       "      <th>4</th>\n",
       "      <td>economy</td>\n",
       "      <td>0.999469</td>\n",
       "      <td>1980</td>\n",
       "    </tr>\n",
       "    <tr>\n",
       "      <th>5</th>\n",
       "      <td>citizens</td>\n",
       "      <td>0.999459</td>\n",
       "      <td>1980</td>\n",
       "    </tr>\n",
       "    <tr>\n",
       "      <th>6</th>\n",
       "      <td>must</td>\n",
       "      <td>0.999454</td>\n",
       "      <td>1980</td>\n",
       "    </tr>\n",
       "    <tr>\n",
       "      <th>7</th>\n",
       "      <td>american</td>\n",
       "      <td>0.999453</td>\n",
       "      <td>1980</td>\n",
       "    </tr>\n",
       "    <tr>\n",
       "      <th>8</th>\n",
       "      <td>congress</td>\n",
       "      <td>0.999444</td>\n",
       "      <td>1980</td>\n",
       "    </tr>\n",
       "    <tr>\n",
       "      <th>9</th>\n",
       "      <td>work</td>\n",
       "      <td>0.999440</td>\n",
       "      <td>1980</td>\n",
       "    </tr>\n",
       "  </tbody>\n",
       "</table>\n",
       "</div>"
      ],
      "text/plain": [
       "      words  similarity  year\n",
       "0   america    0.999604  1980\n",
       "1   freedom    0.999533  1980\n",
       "2   country    0.999488  1980\n",
       "3     every    0.999473  1980\n",
       "4   economy    0.999469  1980\n",
       "5  citizens    0.999459  1980\n",
       "6      must    0.999454  1980\n",
       "7  american    0.999453  1980\n",
       "8  congress    0.999444  1980\n",
       "9      work    0.999440  1980"
      ]
     },
     "execution_count": 404,
     "metadata": {},
     "output_type": "execute_result"
    }
   ],
   "source": [
    "u11=model11.most_similar('war')\n",
    "sim11 = pd.DataFrame(u11)\n",
    "sim11.columns=[\"words\",\"similarity\"]\n",
    "sim11[\"year\"]=\"1980\"\n",
    "sim11"
   ]
  },
  {
   "cell_type": "code",
   "execution_count": 356,
   "metadata": {
    "collapsed": true
   },
   "outputs": [],
   "source": [
    "u11=model11.most_similar('terrorism')"
   ]
  },
  {
   "cell_type": "code",
   "execution_count": 357,
   "metadata": {
    "collapsed": true
   },
   "outputs": [],
   "source": [
    "sim11 = pd.DataFrame(u11)"
   ]
  },
  {
   "cell_type": "code",
   "execution_count": 358,
   "metadata": {
    "collapsed": true
   },
   "outputs": [],
   "source": [
    "sim11.columns=[\"words\",\"similarity\"]"
   ]
  },
  {
   "cell_type": "code",
   "execution_count": 359,
   "metadata": {
    "collapsed": true
   },
   "outputs": [],
   "source": [
    "sim11[\"year\"]=\"2000\""
   ]
  },
  {
   "cell_type": "code",
   "execution_count": 403,
   "metadata": {},
   "outputs": [
    {
     "data": {
      "text/html": [
       "<div>\n",
       "<style>\n",
       "    .dataframe thead tr:only-child th {\n",
       "        text-align: right;\n",
       "    }\n",
       "\n",
       "    .dataframe thead th {\n",
       "        text-align: left;\n",
       "    }\n",
       "\n",
       "    .dataframe tbody tr th {\n",
       "        vertical-align: top;\n",
       "    }\n",
       "</style>\n",
       "<table border=\"1\" class=\"dataframe\">\n",
       "  <thead>\n",
       "    <tr style=\"text-align: right;\">\n",
       "      <th></th>\n",
       "      <th>words</th>\n",
       "      <th>similarity</th>\n",
       "      <th>year</th>\n",
       "    </tr>\n",
       "  </thead>\n",
       "  <tbody>\n",
       "    <tr>\n",
       "      <th>0</th>\n",
       "      <td>yet</td>\n",
       "      <td>0.996943</td>\n",
       "      <td>2000</td>\n",
       "    </tr>\n",
       "    <tr>\n",
       "      <th>1</th>\n",
       "      <td>congress</td>\n",
       "      <td>0.996890</td>\n",
       "      <td>2000</td>\n",
       "    </tr>\n",
       "    <tr>\n",
       "      <th>2</th>\n",
       "      <td>terrorists</td>\n",
       "      <td>0.996818</td>\n",
       "      <td>2000</td>\n",
       "    </tr>\n",
       "    <tr>\n",
       "      <th>3</th>\n",
       "      <td>ask</td>\n",
       "      <td>0.996794</td>\n",
       "      <td>2000</td>\n",
       "    </tr>\n",
       "    <tr>\n",
       "      <th>4</th>\n",
       "      <td>war</td>\n",
       "      <td>0.996778</td>\n",
       "      <td>2000</td>\n",
       "    </tr>\n",
       "    <tr>\n",
       "      <th>5</th>\n",
       "      <td>year</td>\n",
       "      <td>0.996684</td>\n",
       "      <td>2000</td>\n",
       "    </tr>\n",
       "    <tr>\n",
       "      <th>6</th>\n",
       "      <td>economy</td>\n",
       "      <td>0.996683</td>\n",
       "      <td>2000</td>\n",
       "    </tr>\n",
       "    <tr>\n",
       "      <th>7</th>\n",
       "      <td>great</td>\n",
       "      <td>0.996669</td>\n",
       "      <td>2000</td>\n",
       "    </tr>\n",
       "    <tr>\n",
       "      <th>8</th>\n",
       "      <td>us</td>\n",
       "      <td>0.996665</td>\n",
       "      <td>2000</td>\n",
       "    </tr>\n",
       "    <tr>\n",
       "      <th>9</th>\n",
       "      <td>america</td>\n",
       "      <td>0.996663</td>\n",
       "      <td>2000</td>\n",
       "    </tr>\n",
       "  </tbody>\n",
       "</table>\n",
       "</div>"
      ],
      "text/plain": [
       "        words  similarity  year\n",
       "0         yet    0.996943  2000\n",
       "1    congress    0.996890  2000\n",
       "2  terrorists    0.996818  2000\n",
       "3         ask    0.996794  2000\n",
       "4         war    0.996778  2000\n",
       "5        year    0.996684  2000\n",
       "6     economy    0.996683  2000\n",
       "7       great    0.996669  2000\n",
       "8          us    0.996665  2000\n",
       "9     america    0.996663  2000"
      ]
     },
     "execution_count": 403,
     "metadata": {},
     "output_type": "execute_result"
    }
   ],
   "source": [
    "terror2000=sim11\n",
    "terror2000"
   ]
  },
  {
   "cell_type": "code",
   "execution_count": 181,
   "metadata": {},
   "outputs": [
    {
     "name": "stdout",
     "output_type": "stream",
     "text": [
      "Word2Vec(vocab=4896, size=100, alpha=0.025)\n"
     ]
    }
   ],
   "source": [
    "twelve=paddu.iloc[[1]]\n",
    "model12 = Word2Vec(twelve.peach, size=100, window=5, min_count=1, workers=4,hs=0,negative=5,sg=1)\n",
    "print(model12)\n",
    "words12 = list(model12.wv.vocab)"
   ]
  },
  {
   "cell_type": "code",
   "execution_count": 405,
   "metadata": {},
   "outputs": [
    {
     "data": {
      "text/html": [
       "<div>\n",
       "<style>\n",
       "    .dataframe thead tr:only-child th {\n",
       "        text-align: right;\n",
       "    }\n",
       "\n",
       "    .dataframe thead th {\n",
       "        text-align: left;\n",
       "    }\n",
       "\n",
       "    .dataframe tbody tr th {\n",
       "        vertical-align: top;\n",
       "    }\n",
       "</style>\n",
       "<table border=\"1\" class=\"dataframe\">\n",
       "  <thead>\n",
       "    <tr style=\"text-align: right;\">\n",
       "      <th></th>\n",
       "      <th>words</th>\n",
       "      <th>similarity</th>\n",
       "      <th>year</th>\n",
       "    </tr>\n",
       "  </thead>\n",
       "  <tbody>\n",
       "    <tr>\n",
       "      <th>0</th>\n",
       "      <td>may</td>\n",
       "      <td>0.998858</td>\n",
       "      <td>1800</td>\n",
       "    </tr>\n",
       "    <tr>\n",
       "      <th>1</th>\n",
       "      <td>us</td>\n",
       "      <td>0.998789</td>\n",
       "      <td>1800</td>\n",
       "    </tr>\n",
       "    <tr>\n",
       "      <th>2</th>\n",
       "      <td>congress</td>\n",
       "      <td>0.998762</td>\n",
       "      <td>1800</td>\n",
       "    </tr>\n",
       "    <tr>\n",
       "      <th>3</th>\n",
       "      <td>peace</td>\n",
       "      <td>0.998646</td>\n",
       "      <td>1800</td>\n",
       "    </tr>\n",
       "    <tr>\n",
       "      <th>4</th>\n",
       "      <td>character</td>\n",
       "      <td>0.998643</td>\n",
       "      <td>1800</td>\n",
       "    </tr>\n",
       "    <tr>\n",
       "      <th>5</th>\n",
       "      <td>necessary</td>\n",
       "      <td>0.998642</td>\n",
       "      <td>1800</td>\n",
       "    </tr>\n",
       "    <tr>\n",
       "      <th>6</th>\n",
       "      <td>could</td>\n",
       "      <td>0.998642</td>\n",
       "      <td>1800</td>\n",
       "    </tr>\n",
       "    <tr>\n",
       "      <th>7</th>\n",
       "      <td>present</td>\n",
       "      <td>0.998602</td>\n",
       "      <td>1800</td>\n",
       "    </tr>\n",
       "    <tr>\n",
       "      <th>8</th>\n",
       "      <td>shall</td>\n",
       "      <td>0.998601</td>\n",
       "      <td>1800</td>\n",
       "    </tr>\n",
       "    <tr>\n",
       "      <th>9</th>\n",
       "      <td>law</td>\n",
       "      <td>0.998587</td>\n",
       "      <td>1800</td>\n",
       "    </tr>\n",
       "  </tbody>\n",
       "</table>\n",
       "</div>"
      ],
      "text/plain": [
       "       words  similarity  year\n",
       "0        may    0.998858  1800\n",
       "1         us    0.998789  1800\n",
       "2   congress    0.998762  1800\n",
       "3      peace    0.998646  1800\n",
       "4  character    0.998643  1800\n",
       "5  necessary    0.998642  1800\n",
       "6      could    0.998642  1800\n",
       "7    present    0.998602  1800\n",
       "8      shall    0.998601  1800\n",
       "9        law    0.998587  1800"
      ]
     },
     "execution_count": 405,
     "metadata": {},
     "output_type": "execute_result"
    }
   ],
   "source": [
    "\n",
    "#sim12 = pd.DataFrame()\n",
    "#sim12.columns=[\"words\",\"similarity\"]\n",
    "#sim12[\"words\"]=\"\"\n",
    "#sim12[\"similarity\"]=\"\"\n",
    "u12=model12.most_similar('war')\n",
    "sim12 = pd.DataFrame(u12)\n",
    "sim12.columns=[\"words\",\"similarity\"]\n",
    "sim12[\"year\"]=\"1800\"\n",
    "sim12"
   ]
  },
  {
   "cell_type": "code",
   "execution_count": 406,
   "metadata": {},
   "outputs": [
    {
     "data": {
      "text/html": [
       "<div>\n",
       "<style>\n",
       "    .dataframe thead tr:only-child th {\n",
       "        text-align: right;\n",
       "    }\n",
       "\n",
       "    .dataframe thead th {\n",
       "        text-align: left;\n",
       "    }\n",
       "\n",
       "    .dataframe tbody tr th {\n",
       "        vertical-align: top;\n",
       "    }\n",
       "</style>\n",
       "<table border=\"1\" class=\"dataframe\">\n",
       "  <thead>\n",
       "    <tr style=\"text-align: right;\">\n",
       "      <th></th>\n",
       "      <th>words</th>\n",
       "      <th>similarity</th>\n",
       "      <th>year</th>\n",
       "    </tr>\n",
       "  </thead>\n",
       "  <tbody>\n",
       "    <tr>\n",
       "      <th>0</th>\n",
       "      <td>france</td>\n",
       "      <td>0.999669</td>\n",
       "      <td>1780</td>\n",
       "    </tr>\n",
       "    <tr>\n",
       "      <th>1</th>\n",
       "      <td>country</td>\n",
       "      <td>0.999605</td>\n",
       "      <td>1780</td>\n",
       "    </tr>\n",
       "    <tr>\n",
       "      <th>2</th>\n",
       "      <td>may</td>\n",
       "      <td>0.999600</td>\n",
       "      <td>1780</td>\n",
       "    </tr>\n",
       "    <tr>\n",
       "      <th>3</th>\n",
       "      <td>necessary</td>\n",
       "      <td>0.999593</td>\n",
       "      <td>1780</td>\n",
       "    </tr>\n",
       "    <tr>\n",
       "      <th>4</th>\n",
       "      <td>congress</td>\n",
       "      <td>0.999591</td>\n",
       "      <td>1780</td>\n",
       "    </tr>\n",
       "    <tr>\n",
       "      <th>5</th>\n",
       "      <td>foreign</td>\n",
       "      <td>0.999557</td>\n",
       "      <td>1780</td>\n",
       "    </tr>\n",
       "    <tr>\n",
       "      <th>6</th>\n",
       "      <td>measures</td>\n",
       "      <td>0.999555</td>\n",
       "      <td>1780</td>\n",
       "    </tr>\n",
       "    <tr>\n",
       "      <th>7</th>\n",
       "      <td>without</td>\n",
       "      <td>0.999552</td>\n",
       "      <td>1780</td>\n",
       "    </tr>\n",
       "    <tr>\n",
       "      <th>8</th>\n",
       "      <td>government</td>\n",
       "      <td>0.999542</td>\n",
       "      <td>1780</td>\n",
       "    </tr>\n",
       "    <tr>\n",
       "      <th>9</th>\n",
       "      <td>commissioners</td>\n",
       "      <td>0.999538</td>\n",
       "      <td>1780</td>\n",
       "    </tr>\n",
       "    <tr>\n",
       "      <th>0</th>\n",
       "      <td>may</td>\n",
       "      <td>0.999432</td>\n",
       "      <td>1820</td>\n",
       "    </tr>\n",
       "    <tr>\n",
       "      <th>1</th>\n",
       "      <td>government</td>\n",
       "      <td>0.999386</td>\n",
       "      <td>1820</td>\n",
       "    </tr>\n",
       "    <tr>\n",
       "      <th>2</th>\n",
       "      <td>parties</td>\n",
       "      <td>0.999371</td>\n",
       "      <td>1820</td>\n",
       "    </tr>\n",
       "    <tr>\n",
       "      <th>3</th>\n",
       "      <td>every</td>\n",
       "      <td>0.999334</td>\n",
       "      <td>1820</td>\n",
       "    </tr>\n",
       "    <tr>\n",
       "      <th>4</th>\n",
       "      <td>powers</td>\n",
       "      <td>0.999332</td>\n",
       "      <td>1820</td>\n",
       "    </tr>\n",
       "    <tr>\n",
       "      <th>5</th>\n",
       "      <td>power</td>\n",
       "      <td>0.999297</td>\n",
       "      <td>1820</td>\n",
       "    </tr>\n",
       "    <tr>\n",
       "      <th>6</th>\n",
       "      <td>object</td>\n",
       "      <td>0.999293</td>\n",
       "      <td>1820</td>\n",
       "    </tr>\n",
       "    <tr>\n",
       "      <th>7</th>\n",
       "      <td>effect</td>\n",
       "      <td>0.999286</td>\n",
       "      <td>1820</td>\n",
       "    </tr>\n",
       "    <tr>\n",
       "      <th>8</th>\n",
       "      <td>governments</td>\n",
       "      <td>0.999259</td>\n",
       "      <td>1820</td>\n",
       "    </tr>\n",
       "    <tr>\n",
       "      <th>9</th>\n",
       "      <td>great</td>\n",
       "      <td>0.999225</td>\n",
       "      <td>1820</td>\n",
       "    </tr>\n",
       "    <tr>\n",
       "      <th>0</th>\n",
       "      <td>may</td>\n",
       "      <td>0.997226</td>\n",
       "      <td>1840</td>\n",
       "    </tr>\n",
       "    <tr>\n",
       "      <th>1</th>\n",
       "      <td>without</td>\n",
       "      <td>0.996981</td>\n",
       "      <td>1840</td>\n",
       "    </tr>\n",
       "    <tr>\n",
       "      <th>2</th>\n",
       "      <td>duties</td>\n",
       "      <td>0.996920</td>\n",
       "      <td>1840</td>\n",
       "    </tr>\n",
       "    <tr>\n",
       "      <th>3</th>\n",
       "      <td>thus</td>\n",
       "      <td>0.996833</td>\n",
       "      <td>1840</td>\n",
       "    </tr>\n",
       "    <tr>\n",
       "      <th>4</th>\n",
       "      <td>government</td>\n",
       "      <td>0.996708</td>\n",
       "      <td>1840</td>\n",
       "    </tr>\n",
       "    <tr>\n",
       "      <th>5</th>\n",
       "      <td>every</td>\n",
       "      <td>0.996610</td>\n",
       "      <td>1840</td>\n",
       "    </tr>\n",
       "    <tr>\n",
       "      <th>6</th>\n",
       "      <td>system</td>\n",
       "      <td>0.996520</td>\n",
       "      <td>1840</td>\n",
       "    </tr>\n",
       "    <tr>\n",
       "      <th>7</th>\n",
       "      <td>year</td>\n",
       "      <td>0.996492</td>\n",
       "      <td>1840</td>\n",
       "    </tr>\n",
       "    <tr>\n",
       "      <th>8</th>\n",
       "      <td>amount</td>\n",
       "      <td>0.996462</td>\n",
       "      <td>1840</td>\n",
       "    </tr>\n",
       "    <tr>\n",
       "      <th>9</th>\n",
       "      <td>great</td>\n",
       "      <td>0.996402</td>\n",
       "      <td>1840</td>\n",
       "    </tr>\n",
       "    <tr>\n",
       "      <th>...</th>\n",
       "      <td>...</td>\n",
       "      <td>...</td>\n",
       "      <td>...</td>\n",
       "    </tr>\n",
       "    <tr>\n",
       "      <th>0</th>\n",
       "      <td>congress</td>\n",
       "      <td>0.999247</td>\n",
       "      <td>1980</td>\n",
       "    </tr>\n",
       "    <tr>\n",
       "      <th>1</th>\n",
       "      <td>assure</td>\n",
       "      <td>0.999216</td>\n",
       "      <td>1980</td>\n",
       "    </tr>\n",
       "    <tr>\n",
       "      <th>2</th>\n",
       "      <td>increased</td>\n",
       "      <td>0.999189</td>\n",
       "      <td>1980</td>\n",
       "    </tr>\n",
       "    <tr>\n",
       "      <th>3</th>\n",
       "      <td>housing</td>\n",
       "      <td>0.999168</td>\n",
       "      <td>1980</td>\n",
       "    </tr>\n",
       "    <tr>\n",
       "      <th>4</th>\n",
       "      <td>urban</td>\n",
       "      <td>0.999167</td>\n",
       "      <td>1980</td>\n",
       "    </tr>\n",
       "    <tr>\n",
       "      <th>5</th>\n",
       "      <td>women</td>\n",
       "      <td>0.999147</td>\n",
       "      <td>1980</td>\n",
       "    </tr>\n",
       "    <tr>\n",
       "      <th>6</th>\n",
       "      <td>program</td>\n",
       "      <td>0.999146</td>\n",
       "      <td>1980</td>\n",
       "    </tr>\n",
       "    <tr>\n",
       "      <th>7</th>\n",
       "      <td>also</td>\n",
       "      <td>0.999145</td>\n",
       "      <td>1980</td>\n",
       "    </tr>\n",
       "    <tr>\n",
       "      <th>8</th>\n",
       "      <td>provide</td>\n",
       "      <td>0.999133</td>\n",
       "      <td>1980</td>\n",
       "    </tr>\n",
       "    <tr>\n",
       "      <th>9</th>\n",
       "      <td>economic</td>\n",
       "      <td>0.999132</td>\n",
       "      <td>1980</td>\n",
       "    </tr>\n",
       "    <tr>\n",
       "      <th>0</th>\n",
       "      <td>america</td>\n",
       "      <td>0.999604</td>\n",
       "      <td>1980</td>\n",
       "    </tr>\n",
       "    <tr>\n",
       "      <th>1</th>\n",
       "      <td>freedom</td>\n",
       "      <td>0.999533</td>\n",
       "      <td>1980</td>\n",
       "    </tr>\n",
       "    <tr>\n",
       "      <th>2</th>\n",
       "      <td>country</td>\n",
       "      <td>0.999488</td>\n",
       "      <td>1980</td>\n",
       "    </tr>\n",
       "    <tr>\n",
       "      <th>3</th>\n",
       "      <td>every</td>\n",
       "      <td>0.999473</td>\n",
       "      <td>1980</td>\n",
       "    </tr>\n",
       "    <tr>\n",
       "      <th>4</th>\n",
       "      <td>economy</td>\n",
       "      <td>0.999469</td>\n",
       "      <td>1980</td>\n",
       "    </tr>\n",
       "    <tr>\n",
       "      <th>5</th>\n",
       "      <td>citizens</td>\n",
       "      <td>0.999459</td>\n",
       "      <td>1980</td>\n",
       "    </tr>\n",
       "    <tr>\n",
       "      <th>6</th>\n",
       "      <td>must</td>\n",
       "      <td>0.999454</td>\n",
       "      <td>1980</td>\n",
       "    </tr>\n",
       "    <tr>\n",
       "      <th>7</th>\n",
       "      <td>american</td>\n",
       "      <td>0.999453</td>\n",
       "      <td>1980</td>\n",
       "    </tr>\n",
       "    <tr>\n",
       "      <th>8</th>\n",
       "      <td>congress</td>\n",
       "      <td>0.999444</td>\n",
       "      <td>1980</td>\n",
       "    </tr>\n",
       "    <tr>\n",
       "      <th>9</th>\n",
       "      <td>work</td>\n",
       "      <td>0.999440</td>\n",
       "      <td>1980</td>\n",
       "    </tr>\n",
       "    <tr>\n",
       "      <th>0</th>\n",
       "      <td>may</td>\n",
       "      <td>0.998858</td>\n",
       "      <td>1800</td>\n",
       "    </tr>\n",
       "    <tr>\n",
       "      <th>1</th>\n",
       "      <td>us</td>\n",
       "      <td>0.998789</td>\n",
       "      <td>1800</td>\n",
       "    </tr>\n",
       "    <tr>\n",
       "      <th>2</th>\n",
       "      <td>congress</td>\n",
       "      <td>0.998762</td>\n",
       "      <td>1800</td>\n",
       "    </tr>\n",
       "    <tr>\n",
       "      <th>3</th>\n",
       "      <td>peace</td>\n",
       "      <td>0.998646</td>\n",
       "      <td>1800</td>\n",
       "    </tr>\n",
       "    <tr>\n",
       "      <th>4</th>\n",
       "      <td>character</td>\n",
       "      <td>0.998643</td>\n",
       "      <td>1800</td>\n",
       "    </tr>\n",
       "    <tr>\n",
       "      <th>5</th>\n",
       "      <td>necessary</td>\n",
       "      <td>0.998642</td>\n",
       "      <td>1800</td>\n",
       "    </tr>\n",
       "    <tr>\n",
       "      <th>6</th>\n",
       "      <td>could</td>\n",
       "      <td>0.998642</td>\n",
       "      <td>1800</td>\n",
       "    </tr>\n",
       "    <tr>\n",
       "      <th>7</th>\n",
       "      <td>present</td>\n",
       "      <td>0.998602</td>\n",
       "      <td>1800</td>\n",
       "    </tr>\n",
       "    <tr>\n",
       "      <th>8</th>\n",
       "      <td>shall</td>\n",
       "      <td>0.998601</td>\n",
       "      <td>1800</td>\n",
       "    </tr>\n",
       "    <tr>\n",
       "      <th>9</th>\n",
       "      <td>law</td>\n",
       "      <td>0.998587</td>\n",
       "      <td>1800</td>\n",
       "    </tr>\n",
       "  </tbody>\n",
       "</table>\n",
       "<p>120 rows × 3 columns</p>\n",
       "</div>"
      ],
      "text/plain": [
       "            words  similarity  year\n",
       "0          france    0.999669  1780\n",
       "1         country    0.999605  1780\n",
       "2             may    0.999600  1780\n",
       "3       necessary    0.999593  1780\n",
       "4        congress    0.999591  1780\n",
       "5         foreign    0.999557  1780\n",
       "6        measures    0.999555  1780\n",
       "7         without    0.999552  1780\n",
       "8      government    0.999542  1780\n",
       "9   commissioners    0.999538  1780\n",
       "0             may    0.999432  1820\n",
       "1      government    0.999386  1820\n",
       "2         parties    0.999371  1820\n",
       "3           every    0.999334  1820\n",
       "4          powers    0.999332  1820\n",
       "5           power    0.999297  1820\n",
       "6          object    0.999293  1820\n",
       "7          effect    0.999286  1820\n",
       "8     governments    0.999259  1820\n",
       "9           great    0.999225  1820\n",
       "0             may    0.997226  1840\n",
       "1         without    0.996981  1840\n",
       "2          duties    0.996920  1840\n",
       "3            thus    0.996833  1840\n",
       "4      government    0.996708  1840\n",
       "5           every    0.996610  1840\n",
       "6          system    0.996520  1840\n",
       "7            year    0.996492  1840\n",
       "8          amount    0.996462  1840\n",
       "9           great    0.996402  1840\n",
       "..            ...         ...   ...\n",
       "0        congress    0.999247  1980\n",
       "1          assure    0.999216  1980\n",
       "2       increased    0.999189  1980\n",
       "3         housing    0.999168  1980\n",
       "4           urban    0.999167  1980\n",
       "5           women    0.999147  1980\n",
       "6         program    0.999146  1980\n",
       "7            also    0.999145  1980\n",
       "8         provide    0.999133  1980\n",
       "9        economic    0.999132  1980\n",
       "0         america    0.999604  1980\n",
       "1         freedom    0.999533  1980\n",
       "2         country    0.999488  1980\n",
       "3           every    0.999473  1980\n",
       "4         economy    0.999469  1980\n",
       "5        citizens    0.999459  1980\n",
       "6            must    0.999454  1980\n",
       "7        american    0.999453  1980\n",
       "8        congress    0.999444  1980\n",
       "9            work    0.999440  1980\n",
       "0             may    0.998858  1800\n",
       "1              us    0.998789  1800\n",
       "2        congress    0.998762  1800\n",
       "3           peace    0.998646  1800\n",
       "4       character    0.998643  1800\n",
       "5       necessary    0.998642  1800\n",
       "6           could    0.998642  1800\n",
       "7         present    0.998602  1800\n",
       "8           shall    0.998601  1800\n",
       "9             law    0.998587  1800\n",
       "\n",
       "[120 rows x 3 columns]"
      ]
     },
     "execution_count": 406,
     "metadata": {},
     "output_type": "execute_result"
    }
   ],
   "source": [
    "war_change = pd.concat([sim1,sim2,sim3,sim4,sim5,sim6,sim7,sim8,sim9,sim10,sim11,sim12])\n"
   ]
  },
  {
   "cell_type": "code",
   "execution_count": 407,
   "metadata": {
    "collapsed": true
   },
   "outputs": [],
   "source": [
    "war_change.index = np.arange(1 , len(war_change)+1)"
   ]
  },
  {
   "cell_type": "code",
   "execution_count": 412,
   "metadata": {
    "collapsed": true
   },
   "outputs": [],
   "source": [
    "war_change.to_csv(\"starwars.csv\")"
   ]
  },
  {
   "cell_type": "code",
   "execution_count": 411,
   "metadata": {
    "collapsed": true
   },
   "outputs": [],
   "source": [
    "war_change[\"similarity\"]= war_change[\"similarity\"]*1000"
   ]
  },
  {
   "cell_type": "code",
   "execution_count": 415,
   "metadata": {
    "collapsed": true
   },
   "outputs": [],
   "source": [
    "terri=pd.concat([ter1960,terror1980,terror2000])"
   ]
  },
  {
   "cell_type": "code",
   "execution_count": 416,
   "metadata": {
    "collapsed": true
   },
   "outputs": [],
   "source": [
    "terri.index = np.arange(1 , len(terri)+1)"
   ]
  },
  {
   "cell_type": "code",
   "execution_count": 417,
   "metadata": {
    "collapsed": true
   },
   "outputs": [],
   "source": [
    "terri.to_csv(\"tur.csv\")"
   ]
  },
  {
   "cell_type": "code",
   "execution_count": 100,
   "metadata": {},
   "outputs": [
    {
     "name": "stdout",
     "output_type": "stream",
     "text": [
      "\n",
      "Cluster 0\n",
      "['derive', 'digested', 'promote', 'mature', 'comprehending', 'conducive', 'fund', 'giving', 'impressions', 'aids', 'university', 'endeavors', 'task', 'feel', 'calculations', 'discharging', 'advantage', 'kentucky', 'conducted', 'concern', 'incursions', 'impunity', 'overtures', 'captivity', 'unknown', 'founded', 'reflections', 'moments', 'carry', 'leaves', 'allow', 'moreover', 'favorite', 'appropriation', 'along', 'reduction', 'guidance', 'stability', 'disclosed', 'bank', 'provisionally', 'used', 'convince', 'consistently', 'depending', 'belonging', 'coercion', 'cease', 'imposition', 'experiments', 'civilization', 'readily', 'misconception', 'evidence', 'favored', 'assurance', 'charges', 'limited', 'greatest', 'supersede', 'solid', 'apparatus', 'applied', 'contest', 'forward', 'victims', 'symptoms', 'throughout', 'eligible', 'extortion', 'obedience', 'court', 'expiration', 'beginning', 'represented', 'lieu', 'durable', 'cultivation', 'commencement', 'real', 'suspicions', 'delicate', 'warlike', 'improve', 'prompt', 'citizen', 'seem', 'resort', 'documents', 'shew', 'amount', 'prudence', 'effectually', 'imperfections', 'attained', 'relate', 'equity', 'complaints', 'wide', 'heaven', 'look', 'imbittered', 'forbearance', 'press', 'perceived', 'engaged', 'surrender', 'repeatedly', 'field', 'fruitless', 'scene', 'pardon', 'insurgents', 'succeeding', 'pointed', 'strength', 'lament', 'spectacle', 'addressed', 'convulsion', 'ability', 'draw', 'defects', 'genuine', 'forth', 'lasting', 'cultivate', 'preexisting', 'emperor', 'consequently', 'restrained', 'illusory', 'repairs', 'additions', 'dispute', 'lot', 'ratifications', 'april', 'agency', 'vindicate', 'insecure', 'creation', 'favor', 'begin', 'sort', 'composed', 'premiums', 'assist', 'discovery', 'stimulating', 'drawing', 'center', 'everywhere', 'shewn', 'cheap', 'assembly', 'narrow', 'professors', 'contemplated', 'excellent', 'auxiliaries', 'amongst', 'assimilation', 'opinions', 'manners', 'patronize', 'communicating', 'expose', 'avoided', 'exempt', 'practicing', 'superficially', 'complicated', 'instruction', 'import', 'diminish', 'vital', 'virtually', 'unwelcome', 'perfectly', 'eventually', 'fortitude', 'reserve', 'message', 'reenforcement', 'barely', 'recalls', 'supplications', 'arbiter', 'apprehensive', 'sympathy', 'decline', 'hopes', 'postpone', 'seasons', 'colleague', 'journeys', 'memorable', 'asserted', 'adjournment', 'comfort', 'guilty', 'affect', 'residing', 'transfer', 'remaining']\n",
      "\n",
      "Cluster 1\n",
      "['satisfaction', 'among', 'military', 'intercourse', 'various', 'spirit', 'american', 'taken', 'force', 'far', 'system', 'men', 'must', 'indian', 'ports', 'boundary', 'claims', 'minister', 'french']\n",
      "\n",
      "Cluster 2\n",
      "['constituents', 'interesting', 'communication', 'knowledge', 'burthens', 'measure', 'able', 'latter', 'become', 'even', 'produce', 'debt', 'principal', 'different', 'principles', 'practicable', 'executive', 'depends', 'duties', 'small', 'experienced', 'prevent', 'branches', 'individual', 'report', 'pennsylvania', 'arts', 'extraordinary', 'assurances', 'john', 'adams', 'religious', 'mission', 'cities', 'sure', 'damages', 'point', 'extinguished', 'interpretation']\n",
      "\n",
      "Cluster 3\n",
      "['novelty', 'firmness', 'common', 'supplies', 'arrangements', 'southern', 'enable', 'compensation', 'persons', 'speedily', 'expediency', 'facilitating', 'oppression', 'uniting', 'recommended', 'expect', 'efficient', 'abundant', 'ordinary', 'appears', 'added', 'near', 'president', 'appointment', 'permitted', 'consular', 'dispositions', 'fullest', 'private', 'enterprise', 'happen', 'prospect', 'carrying', 'zealous', 'persevering', 'earnest', 'suggested', 'things', 'territory', 'finances', 'often', 'times', 'danger', 'insurrection', 'sphere', 'neither', 'army', 'always', 'observation', 'governments', 'option', 'confirmed', 'agreeable', 'sufferings', 'weight', 'care', 'navy', 'understanding', 'receipts', 'sources', 'evacuated', 'commences', 'instigated', 'fork', 'westward', 'stream', 'grants', 'subordinate', 'channel', 'apprehended', 'assessment', 'inculcating', 'america', 'possessed', 'unimpaired', 'recollected', 'companies', 'tried', 'guarded', 'professed', 'prohibitions', 'renewal', 'originated', 'sitting', 'whenever', 'performance', 'monday']\n",
      "\n",
      "Cluster 4\n",
      "['great', 'united', 'states', 'government', 'necessary', 'commerce', 'gentlemen', 'th', 'article']\n",
      "\n",
      "Cluster 5\n",
      "['senate', 'house', 'representatives']\n",
      "\n",
      "Cluster 6\n",
      "['january', 'prepared', 'competent', 'expenses', 'rule', 'contributes', 'congratulations', 'revenues', 'fail', 'ohio', 'active', 'disturbed', 'passed', 'pledged', 'pursuing', 'indulge', 'equally', 'progressive', 'day', 'paid', 'primary', 'obviate', 'regulations', 'likewise', 'materials', 'objections', 'pursuant', 'towns', 'ample', 'lost', 'prevalent', 'anticipations', 'perpetrated', 'prove', 'reside', 'judged', 'legal', 'presented', 'careful', 'brought', 'enterprises', 'contrary', 'instructions', 'fear', 'create', 'readiness', 'ordered', 'resistance', 'obvious', 'cherish', 'hour', 'questioned', 'algiers', 'heart', 'solicitude', 'chiefly', 'universe', 'choice', 'boston', 'inexpedient', 'exclude', 'supported', 'highly', 'education', 'youth', 'wealth', 'virtue', 'occurred', 'congratulate', 'hold', 'offered', 'irregular', 'divers', 'inspection', 'feudal', 'loaned', 'systems', 'malignancy', 'calamity', 'sympathize', 'come', 'impress', 'averse', 'rupture', 'willing', 'inadmissible', 'cruising', 'fruitlessly', 'complained', 'proposition', 'reconcile', 'incalculable', 'development', 'perseveringly', 'cultivated', 'humiliation', 'desirous', 'vigorous', 'acknowledged', 'contention', 'augmenting', 'raising', 'ministers', 'unsafe']\n",
      "\n",
      "Cluster 7\n",
      "['expectations', 'deliberate', 'independent', 'commonwealth', 'designated', 'foreigners', 'currency', 'intimating', 'deserve', 'proportionably', 'discern', 'discriminate', 'avoiding', 'entirely', 'reliance', 'inducements', 'fruits', 'circumstance', 'fertility', 'integrity', 'marine', 'borrowing', 'sessions', 'member', 'wabash', 'plunder', 'listening', 'invitations', 'fresh', 'punishing', 'attachments', 'empowers', 'circumspection', 'productions', 'offer', 'evil', 'belongs', 'distressful', 'misemployed', 'descriptions', 'sentences', 'merchants', 'abundantly', 'growing', 'weighty', 'consultation', 'unprincipled', 'hospitality', 'solemn', 'inspired', 'satisfied', 'eminently', 'single', 'unsuccessful', 'expeditions', 'impartial', 'deportment', 'imparting', 'violating', 'unenlightened', 'assignment', 'competency', 'prescribed', 'intentioned', 'variations', 'square', 'comprehend', 'alexandria', 'excepting', 'miscarried', 'entering', 'predecessors', 'subscription', 'acceptance', 'promise', 'occurs', 'discharged', 'specific', 'urgency', 'vulnerable', 'misrepresentation', 'cross', 'poorer', 'classes', 'standard', 'universal', 'reimbursing', 'judiciously', 'save', 'availing', 'distressed', 'learn', 'outrageous', 'consulted', 'promised', 'deceased', 'informed', 'threatening', 'inhabiting', 'five', 'precautions', 'enjoined', 'breach', 'recruited', 'pains', 'recruiting', 'alluded', 'proceeds', 'supposition', 'plans', 'trusty', 'scale', 'local', 'manifested', 'warning', 'judges', 'efficacy', 'facilitate', 'processes', 'definition', 'disturb', 'aggressions', 'complaint', 'engaging', 'half', 'correspondency', 'concerns', 'operate', 'news', 'fact', 'antwerp', 'amsterdam', 'eleventh', 'incorporated', 'temporary', 'regulates', 'conciliating', 'expressing', 'obeyed', 'contraband', 'admission', 'adopt', 'privileges', 'indistinctly', 'forever', 'rank', 'absolutely', 'kinds', 'incapable', 'affirmed', 'dissension', 'attempt', 'offensively', 'doubtful', 'remainder', 'succors', 'satisfy', 'disclose', 'footing', 'pronounce', 'plentiful', 'market', 'stated', 'allured', 'accord', 'second', 'productiveness', 'prints', 'guided', 'restraint', 'reproached', 'survey', 'unfold', 'taxation', 'prejudice', 'ascendency', 'discontented', 'deserved', 'began', 'tone', 'unavailing', 'detained', 'deputation', 'body', 'attacked', 'opposed', 'fury', 'closely', 'summoning', 'confer', 'candid', 'sensations', 'represent', 'precision', 'gratified', 'smallest', 'fifteen', 'requisition', 'inclined', 'inimical', 'withholden', 'leaving', 'commotion', 'aspect', 'included', 'licentious', 'usurpation', 'disciplining', 'frequently', 'inquire', 'obstinacy', 'spared', 'covered', 'erie', 'conducting', 'benefited', 'explain', 'summary', 'surpassed', 'mingle', 'perseverance']\n",
      "\n",
      "Cluster 8\n",
      "['constitution', 'secure', 'pacific', 'afford', 'trust', 'less', 'security', 'best', 'demand', 'since', 'harmony', 'could', 'treaties', 'whose', 'continued', 'lately', 'future', 'lands', 'return', 'accommodation', 'tranquillity', 'commission', 'bring', 'next', 'steps', 'notwithstanding', 'relative', 'passamaquoddy', 'board', 'catholic', 'beneficial', 'members', 'run', 'contracted', 'losses', 'differences', 'withdraw']\n",
      "\n",
      "Cluster 9\n"
     ]
    },
    {
     "name": "stdout",
     "output_type": "stream",
     "text": [
      "['present', 'information', 'good', 'last', 'proper', 'would', 'nations', 'nothing', 'every', 'honor', 'directed', 'act', 'subjects', 'nation', 'given', 'philadelphia']\n",
      "\n",
      "Cluster 10\n",
      "['still', 'providence', 'many', 'objects', 'attention', 'interest', 'respect', 'new', 'provision', 'resources', 'proceed', 'militia', 'yet', 'view', 'ensuing', 'question', 'republic', 'required', 'britain', 'britannic', 'commissioner', 'london']\n",
      "\n",
      "Cluster 11\n",
      "['tend', 'entitled', 'papers', 'parts', 'nature', 'manufactures', 'administration', 'society', 'mercantile', 'completed', 'holland', 'concurred', 'sentiments', 'expressed', 'crimes', 'seduced', 'hostilities', 'preparations', 'unite', 'express', 'legislative', 'punishment', 'opposition', 'experience', 'explanations', 'sides', 'except', 'enough', 'views', 'recall', 'connection', 'liberal', 'increased', 'continuation', 'understood', 'failure', 'energy', 'maintain', 'maintenance', 'relates', 'inestimable', 'fulfillment', 'stores', 'leave', 'moment', 'establishing', 'exhibited', 'none', 'formed', 'counties', 'accompanied', 'arming', 'questions', 'opening', 'consent', 'adjourned', 'cogent', 'maxims', 'left', 'submit', 'sickness', 'sovereignty', 'supposed', 'frame', 'coast', 'conspicuous', 'assure', 'defiance', 'hopeless', 'convicted', 'misdemeanors', 'incompatible', 'inconsistent', 'privateering', 'examining', 'unavoidably', 'explanation']\n",
      "\n",
      "Cluster 12\n",
      "['north', 'difficulty', 'exertions', 'office', 'already', 'adequate', 'respectively', 'welfare', 'regulated', 'greater', 'rendered', 'relief', 'actual', 'prosperous', 'prudent', 'abundance', 'renounced', 'tax', 'returns', 'remain', 'exact', 'exposed', 'points', 'procuring', 'effecting', 'indeed', 'besides', 'name', 'influence', 'supreme', 'connected', 'thought', 'form', 'painful', 'negotiation', 'adjusted', 'temper', 'condemnation', 'west', 'finally', 'instructed', 'expenditures', 'observe', 'restoration', 'involved', 'calamitous', 'difference', 'rivers', 'natchez', 'thence', 'extended', 'amendment', 'capture', 'portentous', 'sincerity', 'jealous', 'streams', 'claimants', 'unexampled', 'flattering', 'deity', 'merciful', 'directing', 'domingo', 'discontinued', 'instruct', 'transferred']\n",
      "\n",
      "Cluster 13\n",
      "['citizens', 'peace', 'national', 'people', 'may', 'duty', 'law', 'laws', 'time', 'majesty', 'power', 'period', 'appointed']\n",
      "\n",
      "Cluster 14\n",
      "['public', 'measures', 'war', 'made', 'shall', 'part', 'st']\n",
      "\n",
      "Cluster 15\n",
      "['prospects', 'placed', 'regard', 'plan', 'respecting', 'immediately', 'liberty', 'established', 'branch', 'character', 'though', 'district', 'liberality', 'humane', 'number', 'quarter', 'think', 'justly', 'occasion', 'industry', 'provided', 'moderation', 'secured', 'necessity', 'constitutional', 'wishes', 'proclamation', 'expectation', 'remains', 'taxes', 'delay', 'hand', 'interrupted', 'communicated', 'unless', 'invite', 'decided', 'took', 'reflect', 'governed', 'obstacle', 'invariably', 'fundy', 'relating']\n",
      "\n",
      "Cluster 16\n",
      "['increasing', 'armed', 'inhabitants', 'considerations', 'exercise', 'promoted', 'worthy', 'close', 'matter', 'reasonable', 'transportation', 'whatever', 'go', 'commenced', 'observations', 'proofs', 'confirm', 'operations', 'preservation', 'firm', 'necessarily', 'mention', 'viewed', 'systematic', 'derived', 'continuance', 'northwestern', 'terminated', 'aggression', 'kind', 'dictated', 'fulfilling', 'probably', 'solemnly', 'art', 'dignity', 'done', 'designing', 'momentous', 'advanced', 'submission', 'occupied', 'enlarge', 'rely', 'organizing', 'transactions', 'latest', 'uniformly', 'discover', 'evils', 'sacred', 'observance', 'final', 'indies', 'supply', 'assemble', 'raise', 'activity', 'fabric', 'neutrals', 'rescinded', 'determinate', 'reparation', 'oppose', 'white', 'mischiefs', 'described', 'comes', 'bound', 'determined', 'mouth', 'settled', 'reconciled', 'valuations', 'dearest', 'interruptions', 'benevolent', 'resisted', 'executed', 'advice', 'impede', 'designed', 'exempted', 'arrived', 'changes']\n",
      "\n",
      "Cluster 17\n",
      "['consultations', 'reflection', 'allowed', 'gracious', 'advancement', 'value', 'distinguish', 'lawful', 'proceeding', 'vigilance', 'expedients', 'created', 'secretary', 'communicate', 'defensive', 'combined', 'convention', 'stipulations', 'urged', 'merely', 'lawless', 'violate', 'receiving', 'observed', 'decisive', 'resource', 'description', 'pacification', 'deluded', 'main', 'discontent', 'materially', 'distilled', 'conceived', 'wise', 'completion', 'instance', 'borders', 'exigency', 'content', 'utility', 'strenuous', 'strictly', 'raised', 'extension', 'neighborhood', 'cementing', 'impediments', 'presumed', 'circulation', 'calling', 'enter', 'reimbursement', 'notice', 'term', 'belief', 'authorities', 'resolved', 'rests', 'liberate', 'seized', 'republican', 'subsequent', 'granted', 'clothing', 'installment', 'majority', 'relieve', 'subdue', 'crisis', 'social', 'overawed', 'dishonor', 'held', 'tumults', 'subscribe', 'discarded', 'quelling', 'inducement', 'vicious', 'avidity', 'tended', 'ill', 'presence', 'thirty', 'fidelity', 'sway', 'distinguished', 'undeterred', 'rugged', 'approach', 'inclement', 'acknowledge', 'seeking', 'retraced', 'disregarding', 'unerring', 'rouse', 'appease', 'ignorance', 'perversion', 'engagement', 'execute', 'discontents', 'mediated', 'lake', 'fiscal', 'consummate', 'including', 'bullion', 'unseasonable', 'impartiality', 'goodness', 'safeguard', 'congratulation', 'profound', 'articles', 'fair', 'clouded', 'murders', 'hunting', 'subjected', 'avert', 'letter', 'announces', 'father', 'madrid', 'regarded', 'officially', 'consented', 'judgment', 'deliberation', 'neighbors', 'opens', 'alloyed', 'accumulating', 'threaten', 'violated', 'prosper', 'remonstrances', 'aggregate', 'sanguine', 'augments', 'say', 'cooperate', 'quiet', 'misled', 'abandoned', 'forgiveness', 'changed', 'garrisoning', 'condign', 'retaliations', 'destruction', 'innocent', 'shock', 'necessities', 'auspices', 'accomplishment', 'undecaying', 'luster', 'minds', 'borrowed', 'reinforce', 'completely', 'checking', 'abuses', 'frigates', 'discussion', 'recurring', 'expression', 'series', 'framing', 'predatory', 'unruly', 'brittanic', 'canada', 'cordially', 'evacuation', 'detroit', 'egbert', 'andrew', 'florida', 'aranjuez', 'occupying', 'occupy', 'liberation', 'gratifies', 'regencies', 'tripoli', 'promises', 'undertaking', 'length', 'liable', 'desirableness', 'impair', 'successfully', 'indicate']\n",
      "\n",
      "Cluster 18\n",
      "['toward', 'requisite', 'others', 'depredations', 'conduct', 'equal', 'right', 'punctuality', 'conformity', 'known', 'recommend', 'serious', 'seems', 'lead', 'doubt', 'land', 'long', 'friendship', 'individuals', 'sincerely', 'true', 'arise', 'permanent', 'buildings', 'soon', 'debts', 'hitherto', 'desire', 'collection', 'appropriations', 'advantages', 'mutual', 'obtain', 'alone', 'portion', 'august', 'account', 'health', 'islands', 'cargoes', 'conclude']\n",
      "\n",
      "Cluster 19\n",
      "['effectual', 'virginia', 'according', 'persuaded', 'distant', 'patronage', 'inevitable', 'learning', 'entered', 'concur', 'perfect', 'sanction', 'vested', 'loan', 'treasury', 'case', 'parties', 'prisoners', 'lives', 'carried', 'effected', 'accordingly', 'posture', 'improvements', 'courts', 'contribute', 'persuasion', 'inspire', 'successful', 'promoting', 'set', 'grateful', 'nevertheless', 'advance', 'benefits', 'mild', 'hoped', 'funds', 'omitted', 'population', 'happily', 'comprehensive', 'demands', 'postponed', 'rest', 'material', 'extinguishment', 'november', 'issued', 'attainable', 'savages', 'committing', 'july', 'repetition', 'recently', 'termination', 'combinations', 'securing', 'inconveniences', 'adoption', 'redemption', 'results', 'strengthen', 'deep', 'drawn', 'entertained', 'insult', 'instruments', 'study', 'instituted', 'faithful', 'self', 'marshal', 'destroyed', 'excited', 'chief', 'example', 'retribution', 'consolations', 'persevere', 'precious', 'weakened', 'georgia', 'encourage', 'defective', 'pure', 'internal', 'creek', 'mitigate', 'dey', 'regency', 'accelerating', 'maturing', 'proportionally', 'excite', 'diminished', 'improved', 'esq', 'withdrawn', 'party', 'respects', 'equipping', 'easily', 'institutions', 'species', 'overcome', 'intervals', 'propitious', 'embarked', 'attainment', 'precautionary', 'obtained', 'unrestrained', 'distress', 'withdrawing', 'authentic', 'alienate', 'counteract', 'practices', 'shores', 'rhode', 'decisions', 'illegal', 'conformably', 'costs', 'sittings', 'awards', 'supporting', 'thrown', 'destitute', 'sick', 'reasonably', 'reimbursements', 'forged', 'continual', 'direction', 'indifferent', 'importunity', 'whereby', 'idea', 'sufferers', 'encouraged', 'relation', 'pretension', 'asserting', 'restrain', 'preparing', 'almost', 'maintaining']\n",
      "\n",
      "Cluster 20\n",
      "['country', 'treaty']\n",
      "\n",
      "Cluster 21\n"
     ]
    },
    {
     "name": "stdout",
     "output_type": "stream",
     "text": [
      "['presents', 'eminent', 'resuming', 'comfortable', 'aggressors', 'admitted', 'naturalization', 'inventions', 'promotion', 'surest', 'specify', 'convey', 'witnessed', 'rise', 'allotted', 'directions', 'warm', 'aided', 'issuing', 'christian', 'standards', 'sufficiency', 'infringe', 'rewarded', 'contributed', 'sum', 'specially', 'wavering', 'dictates', 'concerning', 'alienations', 'penalties', 'corresponding', 'philanthropy', 'laying', 'yields', 'apprehensions', 'georgetown', 'rate', 'census', 'foot', 'substantially', 'casualties', 'fortification', 'hazards', 'facility', 'serves', 'disorders', 'strongly', 'invariable', 'procure', 'detail', 'despaired', 'happened', 'emissaries', 'considered', 'south', 'tennessee', 'tribe', 'vicinity', 'alternative', 'prosecution', 'immature', 'consolation', 'wants', 'intimated', 'lessening', 'unlawful', 'obstruct', 'announcing', 'infractors', 'bail', 'supplementary', 'putting', 'regulation', 'money', 'transmission', 'arises', 'matured', 'section', 'saving', 'extraordinaries', 'particularized', 'approbation', 'awakened', 'retirement', 'commanded', 'humbly', 'immunities', 'forbid', 'commissioned', 'investigation', 'placing', 'exacting', 'history', 'abounds', 'withheld', 'censure', 'jealousy', 'abuse', 'trained', 'detected', 'scheme', 'feature', 'effort', 'restriction', 'frustrated', 'retard', 'recruits', 'emergency', 'rigorous', 'fraud', 'commodities', 'profit', 'struck', 'payable', 'prolongation', 'urgent', 'contributions', 'diffused', 'choicest', 'unprejudiced', 'languish', 'mind', 'riches', 'deepest', 'enemies', 'collect', 'heard', 'banished', 'fostered', 'artifice', 'labored', 'correspond', 'longer', 'misinterpreted', 'urging', 'threats', 'defeated', 'societies', 'conforming', 'frustrate', 'rioters', 'vengeance', 'fired', 'prisoner', 'mountain', 'sent', 'served', 'avowed', 'compel', 'extort', 'associate', 'suppressed', 'extreme', 'stripped', 'reached', 'abused', 'treasonable', 'principle', 'affecting', 'lightly', 'malignant', 'repair', 'demeanor', 'accommodations', 'tendered', 'abilities', 'shewing', 'abetted', 'atonement', 'peaceable', 'conclusive', 'warrant', 'suspension', 'admonishing', 'ease', 'reluctance', 'ascribe', 'quotas', 'maryland', 'ulterior', 'obstruction', 'magistrate', 'culpable', 'proffered', 'amnesty', 'confessed', 'redound', 'revenge', 'limitation', 'discussions', 'damage', 'injured', 'understand', 'devices', 'praise', 'sake', 'clime', 'origin', 'fomented', 'disseminated', 'jealousies', 'accusations', 'appeal', 'language', 'suppress', 'insurrections', 'presage', 'forwarded', 'waging', 'unwilling', 'cement', 'suspended', 'rectify', 'refrain', 'elapsed', 'developed', 'unfinished', 'acquiring', 'insist', 'imploring', 'spread', 'holy', 'turn', 'wicked', 'confirming', 'invasion', 'authorize', 'amicably', 'negotiated', 'guarantees', 'unfolded', 'drain', 'accords', 'conceptions', 'devolved', 'terminate']\n",
      "\n",
      "Cluster 22\n",
      "['favorable', 'plenty', 'realize', 'free', 'soldiers', 'defined', 'home', 'roads', 'basis', 'ways', 'temperate', 'affording', 'superfluous', 'testimony', 'celerity', 'application', 'northwest', 'dwelling', 'neighboring', 'peculiarly', 'aggravated', 'capable', 'disposed', 'reward', 'expedition', 'enjoyed', 'tendency', 'thereby', 'mediterranean', 'indulgence', 'payment', 'sooner', 'marked', 'feelings', 'patriotic', 'escape', 'rapid', 'subscriptions', 'humanity', 'efficacious', 'endanger', 'spirits', 'wanting', 'calculation', 'notified', 'similar', 'cherokees', 'six', 'ratification', 'statements', 'domestic', 'claim', 'current', 'distressing', 'councils', 'timely', 'fallen', 'insufficient', 'families', 'practice', 'cherokee', 'wanton', 'contentment', 'bringing', 'thereof', 'thereto', 'assert', 'taking', 'allowance', 'confirmations', 'arrangement', 'suffrage', 'array', 'remedies', 'repel', 'uncertainty', 'warmest', 'occurrences', 'justified', 'movements', 'prosecutions', 'ties', 'settlement', 'auxiliary', 'four', 'excise', 'tenderness', 'person', 'allegheny', 'commander', 'afforded', 'defend', 'presque', 'isle', 'driven', 'sedition', 'deceive', 'annoyed', 'enmity', 'discord', 'bloody', 'heavy', 'overbalanced', 'position', 'exceeding', 'displays', 'equaled', 'commanding', 'acknowledgment', 'prolong', 'ingredient', 'errors', 'induced', 'adjudged', 'capital', 'recovered', 'wearing', 'away', 'sight', 'women', 'retaliation', 'enormous', 'urge', 'administer', 'accelerate', 'replenishing', 'nearer', 'colerain', 'parcel', 'broke', 'procrastinated', 'reception', 'promptly', 'oswego', 'niagara', 'michilimackinac', 'fort', 'miami', 'benson', 'york', 'rd', 'deeming', 'impracticable', 'trumbull', 'east', 'months', 'journey', 'declining', 'accept', 'european', 'disadvantages', 'feeling', 'tunis', 'wars', 'neutrality', 'going', 'discouraging', 'protecting', 'moderate', 'ships', 'degrees', 'manufacture', 'exception', 'cost', 'privations', 'pursuits', 'soil', 'grow', 'purse', 'dedicated', 'doubly', 'spreading', 'sciences', 'contains', 'ablest', 'homogenous', 'transmitting', 'disturbance', 'unabated', 'ardently', 'midst', 'preserved', 'perpetual', 'passing', 'plundered', 'faring', 'obligated']\n",
      "\n",
      "Cluster 23\n",
      "['recent', 'degree', 'call', 'deemed', 'western', 'provide', 'institution', 'peculiar', 'truly', 'cooperation', 'lay', 'estimates', 'meeting', 'another', 'considerable', 'purposes', 'acts', 'heretofore', 'regular', 'requires', 'consider', 'consuls', 'resume', 'happy', 'respective', 'naturally', 'several', 'source', 'surveys', 'limits', 'whole', 'entertain', 'motives', 'charged', 'inform', 'department', 'protect', 'offenders', 'political', 'relations', 'restored', 'enforce', 'magnitude', 'arrested', 'omit', 'foundation', 'maintained', 'civilized', 'previous', 'occasioned', 'preliminary', 'felt', 'envoys', 'obligations', 'condemnations', 'infer', 'take', 'steadily', 'retrenchments']\n",
      "\n",
      "Cluster 24\n",
      "['union', 'session', 'satisfactory', 'within', 'defense', 'means', 'ought', 'laid', 'rights', 'year', 'progress', 'us', 'give', 'execution', 'justice', 'policy', 'upon', 'however', 'line', 'amity', 'british']\n",
      "\n",
      "Cluster 25\n",
      "['auspicious', 'uniform', 'relieved', 'contained', 'punish', 'weights', 'recommendation', 'forbear', 'abroad', 'skill', 'science', 'know', 'invasions', 'seminaries', 'resolution', 'sentiment', 'flourishing', 'stock', 'proof', 'affectionate', 'frequent', 'side', 'authorized', 'becomes', 'permit', 'love', 'trusts', 'impression', 'providential', 'desired', 'crowned', 'calculated', 'enabled', 'miles', 'fixed', 'embraced', 'announce', 'early', 'reference', 'magazines', 'arsenals', 'diffusing', 'especially', 'scarcity', 'generally', 'effusion', 'blood', 'want', 'devised', 'believe', 'likely', 'outrages', 'addition', 'quarters', 'furnishing', 'coinage', 'coins', 'powerful', 'rules', 'correct', 'violations', 'doubted', 'facts', 'human', 'arms', 'neglected', 'friends', 'organized', 'scarcely', 'season', 'stand', 'exchange', 'reimbursed', 'purchase', 'referred', 'destined', 'hesitate', 'apparent', 'yield', 'march', 'assigned', 'manifest', 'appearance', 'days', 'obligation', 'suffered', 'emergencies', 'discouragement', 'deputed', 'fortifications', 'advices', 'believed', 'grounds', 'lose', 'agreed', 'deserves', 'mine', 'following', 'interference', 'maturity', 'collecting', 'constantly', 'repeatable', 'guardians', 'thorough', 'stations', 'defect', 'greatly', 'contract', 'upright', 'repugnant', 'talents', 'pain', 'cordial', 'utmost', 'forget', 'posterity', 'motive', 'unimproved', 'sovereign', 'convene', 'realized', 'reestablishment', 'properties', 'injustice', 'benevolence', 'secret', 'arrival', 'whence', 'manifestation', 'unanimity', 'beneficent', 'kindly', 'impaired', 'ambition', 'avarice', 'ground', 'habits', 'short', 'involving', 'poverty', 'directly', 'solely', 'forbore', 'indulging', 'unpleasant', 'exerted', 'insinuated', 'confederacy', 'arbitration', 'award', 'merchandise', 'tribunals', 'disbursed', 'ineffectual', 'letters', 'concurrence', 'fatal', 'manly', 'manifestations', 'uncertain']\n",
      "\n",
      "Cluster 26\n",
      "['adopted', 'manner', 'sense', 'declaration', 'december', 'effect', 'thus', 'meet', 'revision', 'arisen', 'pursued', 'consequences', 'revenue', 'might', 'met', 'examination', 'naval', 'demarcation', 'acting']\n",
      "\n",
      "Cluster 27\n"
     ]
    },
    {
     "name": "stdout",
     "output_type": "stream",
     "text": [
      "['received', 'general', 'one', 'indians', 'direct', 'whether', 'sea', 'faith', 'expected', 'seat', 'river', 'captures', 'sincere', 'croix', 'bay']\n",
      "\n",
      "Cluster 28\n",
      "['embrace', 'congratulating', 'accession', 'carolina', 'concord', 'reach', 'cool', 'disciplined', 'manufactories', 'facilitated', 'appointments', 'defraying', 'introduction', 'agree', 'literature', 'convincing', 'intrusted', 'teaching', 'disregard', 'resulting', 'licentiousness', 'cherishing', 'encroachments', 'inviolable', 'saw', 'expressive', 'devise', 'cheerful', 'obviously', 'cares', 'insuring', 'assures', 'bears', 'exemplary', 'provisional', 'previously', 'filled', 'propositions', 'distinct', 'transaction', 'emboldened', 'retreat', 'alacrity', 'sacrificed', 'shocking', 'provocations', 'drafts', 'thankful', 'reminds', 'overlook', 'abridge', 'enhance', 'transporting', 'markets', 'contingencies', 'bottoms', 'guarding', 'doors', 'residence', 'appropriated', 'stands', 'funded', 'fast', 'exonerate', 'explains', 'salutary', 'undiminished', 'instrumental', 'vain', 'wretches', 'acknowledgments', 'remarked', 'revival', 'subscribed', 'evidences', 'interval', 'resolutions', 'refractory', 'intrepidity', 'commendation', 'intimate', 'succeed', 'firmly', 'dispensation', 'alienating', 'controversy', 'reality', 'suit', 'employ', 'accustomed', 'inflicting', 'religion', 'race', 'conformable', 'sound', 'subdivisions', 'districts', 'compensations', 'design', 'varied', 'consist', 'adherence', 'consult', 'informal', 'anticipate', 'surmounted', 'judicious', 'weal', 'expired', 'apprise', 'creditors', 'said', 'unsubscribed', 'unforeseen', 'definitive', 'leisure', 'fortuitous', 'instrumentality', 'burthening', 'abatement', 'felicitating', 'reiterated', 'led', 'scruples', 'unequivocally', 'commonly', 'massacre', 'appearances', 'revived', 'villages', 'unprovoked', 'pretext', 'incomplete', 'discipline', 'preferable', 'judge', 'stimulus', 'product', 'dismiss', 'recommending', 'restraining', 'nugatory', 'rewards', 'count', 'structure', 'unnecessary', 'sometimes', 'preventing', 'takes', 'dimes', 'establishes', 'remedy', 'reserved', 'eye', 'intrinsic', 'ends', 'partiality', 'fate', 'crown', 'apprehend', 'easier', 'reduced', 'procedure', 'code', 'usurp', 'request', 'extremely', 'marched', 'prohibited', 'violators', 'behalf', 'traffic', 'recollect', 'accounts', 'function', 'balances', 'books', 'remembrance', 'coolness', 'hazarded', 'shaken', 'freely', 'excises', 'alarms', 'riot', 'confined', 'aimed', 'control', 'fundamental', 'desperate', 'amply', 'repaid', 'diverted', 'encroachment', 'fixing', 'dictate', 'remotely', 'offense', 'repelling', 'escaping', 'degradation', 'reposed', 'serve', 'unshaken']\n",
      "\n",
      "Cluster 29\n",
      "['state', 'foreign', 'congress', 'subject', 'without', 'france', 'vessels']\n",
      "\n",
      "Cluster 30\n",
      "['commissioners']\n",
      "\n",
      "Cluster 31\n",
      "['george', 'opportunity', 'engage', 'providing', 'merit', 'preserving', 'end', 'perceive', 'ascertained', 'need', 'post', 'exigencies', 'speedy', 'pleasure', 'deeply', 'productive', 'attachment', 'join', 'put', 'strong', 'situations', 'issue', 'causes', 'advisable', 'remove', 'steady', 'affections', 'assured', 'divine', 'northern', 'channels', 'find', 'whatsoever', 'interior', 'qualified', 'relax', 'offenses', 'experiment', 'inquiry', 'annual', 'personal', 'admonish', 'conform', 'prizes', 'events', 'pride', 'demonstrated', 'pecuniary', 'open', 'enjoins', 'indications', 'september', 'declared', 'visited', 'room', 'countenance', 'loss', 'truth', 'originally', 'unfortunate', 'grievous', 'appeared', 'captured', 'flag', 'precarious', 'hazard', 'deception', 'funding', 'reverence', 'ravages', 'participation', 'menaces', 'undismayed', 'glory', 'solicitous', 'belong', 'discoverable', 'invigorate', 'demonstrating', 'abandon', 'send', 'desist', 'inflicted', 'pledge', 'deem', 'declare', 'sudden', 'foresight', 'walnut', 'mississippi', 'latitude', 'joined', 'continuing', 'boundaries', 'forming', 'adjoining', 'lie', 'coming', 'volunteers', 'conditions']\n",
      "\n",
      "Cluster 32\n",
      "['affairs', 'work', 'hope', 'patriotism', 'indispensable', 'support', 'provisions', 'employed', 'happiness', 'receive', 'community', 'valuable', 'first', 'add', 'powers', 'considering', 'success', 'cause', 'renewed', 'estimate', 'make', 'least', 'embarrassments', 'cases', 'october', 'recess', 'immediate', 'adjustment', 'probable', 'city', 'extensive', 'making', 'existing', 'purpose', 'operation', 'extend', 'mentioned', 'perhaps', 'title', 'fully', 'advances', 'destructive', 'arising', 'pursuance', 'attacks', 'proceeded', 'commercial', 'suitable', 'prescribe', 'alike', 'scoodiac']\n",
      "\n",
      "Cluster 33\n",
      "['particularly', 'economy', 'fulfill', 'duly', 'attended', 'agriculture', 'convenience', 'continue', 'increase', 'found', 'frontier', 'became', 'sufficient', 'event', 'critical', 'preserve', 'guard', 'judiciary', 'process', 'functions', 'either', 'friendly', 'stipulated', 'zeal', 'labors', 'effects', 'wish', 'possible', 'numbers', 'difficulties', 'loans', 'fulfilled', 'sufficiently', 'hostility', 'attempts', 'respected', 'agents', 'depend', 'conviction', 'intelligence', 'recalling', 'ever', 'belligerent', 'seemed', 'possess', 'improvement', 'preparation', 'determine', 'committed', 'regret', 'produced', 'examine', 'injuries', 'trading', 'houses', 'unusually', 'neutral', 'doubtless', 'appear', 'departure', 'chosen', 'garrisons', 'delays', 'independence', 'interruption', 'renders', 'boards', 'characters', 'examples', 'suffering', 'cruisers', 'endeavor', 'entire', 'afflicted', 'paris', 'confidently', 'regretted', 'prepare', 'requiring', 'island', 'dispensations', 'advert', 'thanks', 'accommodate', 'safely', 'restraints', 'ceased', 'removal', 'investigate']\n",
      "\n",
      "Cluster 34\n",
      "['official', 'rising', 'respectability', 'blessed', 'incident', 'uniformity', 'producing', 'answered', 'high', 'concerned', 'explicit', 'arduous', 'precise', 'banditti', 'whilst', 'deplorable', 'price', 'encouragements', 'opened', 'federal', 'presume', 'residuary', 'animated', 'husbandman', 'recollection', 'tracing', 'attach', 'proved', 'offensive', 'tending', 'guide', 'rates', 'foundations', 'announced', 'potomac', 'sales', 'actuated', 'vacant', 'certainly', 'artists', 'stop', 'arrest', 'anything', 'chickamaugas', 'holston', 'performed', 'looking', 'employment', 'embarrass', 'interposition', 'representation', 'share', 'severally', 'three', 'expire', 'fit', 'respectful', 'honored', 'torn', 'influenced', 'estimated', 'implore', 'refused', 'equipped', 'recognized', 'administered', 'habit', 'executing', 'false', 'color', 'denied', 'complete', 'keep', 'distance', 'appeals', 'weakness', 'depository', 'adjust', 'deficiency', 'compensated', 'anxiety', 'corn', 'creating', 'pursue', 'ten', 'encountering', 'conduce', 'range', 'involve', 'consists', 'freedom', 'objection', 'passions', 'delusion', 'associations', 'denounce', 'formal', 'concert', 'assumed', 'hence', 'impotency', 'irresolution', 'delinquent', 'distillers', 'obliged', 'jeopardy', 'life', 'renounce', 'fire', 'fled', 'withstand', 'alteration', 'obstructed', 'sought', 'weighted', 'pronounced', 'capacity', 'insulted', 'silence', 'acquiescence', 'prevail', 'publish', 'excesses', 'encounter', 'interwoven', 'anxious', 'reclaim', 'bodies', 'stating', 'marks', 'conciliation', 'exhausted', 'difficult', 'lowest', 'accurately', 'seen', 'motion', 'thousand', 'jersey', 'rendezvous', 'turbulent', 'caught', 'homes', 'exaggerate', 'malevolence', 'assuring', 'pretense', 'mischief', 'aside', 'stationing', 'indemnifying', 'generous', 'upholding', 'incurs', 'recompense', 'disgraced', 'substantial', 'misfortune', 'inseparable', 'displaying', 'highest', 'behold', 'wealthy', 'standing', 'ranks', 'preeminently', 'mountains', 'magistrates', 'requisitions', 'daily', 'careless', 'possibility', 'contingency', 'forgotten', 'supplied', 'waste', 'devising', 'pass', 'recur', 'licensed', 'wayne', 'damped', 'ardor', 'endeavoring', 'definite', 'procrastination', 'ultimately', 'metals', 'lodged', 'director', 'remote', 'transmitted', 'absolute', 'check', 'deviation', 'misapprehended', 'acquired', 'machinations', 'root', 'flight', 'perpetuate', 'conferred', 'verify', 'inviting', 'author', 'enjoy', 'expensive', 'region', 'disquietude', 'morocco', 'recognition', 'importing', 'envoy', 'unadjusted', 'apprised', 'advised', 'excepts', 'controversies', 'subsisted', 'misunderstanding', 'consoling', 'gratifying', 'menaced', 'contemplating', 'dependencies', 'exhausting', 'repose', 'clog', 'springs', 'contrast', 'molestations', 'derives', 'light', 'wholesome', 'exhibits', 'impel', 'enjoys', 'pay', 'estimation', 'perfection', 'forwarding', 'authorizes', 'continually', 'receives', 'namely', 'murdering', 'murderers', 'children', 'supplying', 'conferences', 'extinction', 'sites', 'admit', 'deputies', 'date', 'provinces', 'disappointments', 'gradual', 'unprotected', 'calls', 'surplus']\n",
      "\n",
      "Cluster 35\n"
     ]
    },
    {
     "name": "stdout",
     "output_type": "stream",
     "text": [
      "['washington', 'fellow', 'blessings', 'course', 'particular', 'importance', 'tribes', 'interests', 'place', 'former', 'europe', 'expense', 'countries', 'full', 'numerous', 'removed', 'order', 'extent', 'like', 'accomplished', 'proportion', 'proceedings', 'posts', 'gratitude', 'although', 'sustained', 'sums', 'conclusion', 'decision', 'spanish', 'determination']\n",
      "\n",
      "Cluster 36\n",
      "['wisdom', 'safety', 'establishment', 'officers', 'due', 'reason', 'protection', 'legislature', 'engagements', 'consequence', 'late', 'called', 'therefore', 'result', 'two', 'together', 'ascertain', 'judicial', 'civil', 'insure', 'intended', 'obstacles', 'expenditure']\n",
      "\n",
      "Cluster 37\n",
      "['important', 'circumstances', 'prosperity', 'well', 'essential', 'troops', 'consideration', 'certain', 'also', 'expedient', 'terms', 'object', 'opinion', 'authority', 'address', 'much', 'situation', 'navigation', 'trade', 'business', 'disposition', 'service', 'property', 'world', 'spain']\n",
      "\n",
      "Cluster 38\n",
      "['credit', 'exertion', 'render', 'conciliate', 'hostile', 'frontiers', 'useful', 'better', 'confidence', 'desirable', 'deliberations', 'efforts', 'pleasing', 'repeat', 'let', 'communications', 'submitted', 'instead', 'maritime', 'fisheries', 'regulate', 'jurisdiction', 'aid', 'mint', 'confirmation', 'accomplish', 'condition', 'instances', 'agreeably', 'discharge', 'proposed', 'little', 'change', 'reasons', 'resumed', 'contemplate', 'constant', 'accumulation', 'repeal', 'never', 'violence', 'afterwards', 'resignation', 'existence', 'restoring', 'command', 'agent', 'ruler', 'usual', 'external', 'compatible', 'decay', 'subsistence', 'disorder', 'obtaining', 'running', 'establishments', 'academy', 'selection', 'see', 'contagious', 'moral', 'mean', 'growth', 'neglect', 'awarded', 'professions', 'decree', 'directory', 'energies', 'embassy', 'deliberately', 'armament', 'remarkable', 'size', 'timber', 'hills', 'northernmost', 'ere', 'stopped', 'actually', 'suspend', 'therein', 'falls', 'northward', 'preclude', 'usually', 'solidity', 'adverting', 'disease', 'ungrateful', 'misrepresentations', 'openly', 'valuation', 'consisting', 'indispensably', 'organization', 'earnestly', 'nomination', 'pledges', 'appearing', 'offices', 'occurring']\n",
      "\n",
      "Cluster 39\n",
      "['encouragement', 'require', 'genius', 'enlightened', 'beyond', 'honorable', 'florins', 'particulars', 'decide', 'settlements', 'violences', 'sensible', 'statement', 'mode', 'dependent', 'rendering', 'places', 'commensurate', 'reputation', 'striking', 'concluded', 'equitable', 'rational', 'propriety', 'way', 'virtuous', 'exist', 'occasions', 'sale', 'additional', 'past', 'evince', 'prevented', 'alleged', 'large', 'lessened', 'special', 'departments', 'infractions', 'ultimate', 'inadequate', 'pressing', 'avoid', 'ready', 'hands', 'amicable', 'creeks', 'delivered', 'june', 'years', 'injurious', 'candor', 'inspector', 'governor', 'calm', 'immense', 'fervent', 'consistent', 'review', 'argument', 'probability', 'building', 'harbors', 'possession', 'calamities', 'inconvenience', 'liberties', 'answers', 'mouths', 'adjacent', 'gave', 'determinations', 'prosecuted', 'summer', 'ashore', 'moneys', 'discovered', 'sailing', 'seldom', 'happens', 'detect', 'registers', 'introduced', 'singular', 'hearty', 'alarming', 'pestilence', 'malady', 'disappeared', 'repeated', 'affected', 'oblations', 'invigorated', 'qualifications', 'demonstrative', 'indirectly', 'enacted', 'unequivocal', 'continues', 'regardless', 'adheres', 'negotiate', 'safe', 'matters', 'attending']\n"
     ]
    }
   ],
   "source": [
    "a=model1[words1]\n",
    "from sklearn.cluster import KMeans\n",
    "\n",
    "\n",
    "num_clusters =40\n",
    "# Initalize a k-means object and use it to extract centroids\n",
    "kmeans1 = KMeans( n_clusters = num_clusters )\n",
    "idx1 = kmeans1.fit_predict(a)\n",
    "\n",
    "index2word1 =[]\n",
    "for i in range(0,len(words1)):\n",
    "    index2word1.append(words1[i])\n",
    "                                                                                           \n",
    "word_centroid_map1 = dict(zip(index2word1, idx1 ))\n",
    "\n",
    "# For the first 10 clusters\n",
    "for cluster in range(0,num_clusters):\n",
    "    \n",
    "    # Print the cluster number  \n",
    "    print(\"\\nCluster %d\" % cluster)\n",
    "    \n",
    "    # Find all of the words for that cluster number, and print them out\n",
    "    wordi = []\n",
    "    for i in range(0,len(word_centroid_map1)):\n",
    "        if( word_centroid_map1[list(word_centroid_map1)[i]] == cluster ):\n",
    "            wordi.append(list(word_centroid_map1)[i])\n",
    "    print(wordi)"
   ]
  },
  {
   "cell_type": "code",
   "execution_count": 105,
   "metadata": {
    "collapsed": true
   },
   "outputs": [],
   "source": [
    "luck1 = pd.DataFrame(list(word_centroid_map1.items()) , columns=['vord1','kluster1'])"
   ]
  },
  {
   "cell_type": "markdown",
   "metadata": {},
   "source": [
    "luck1[\"year1\"]=\"\""
   ]
  },
  {
   "cell_type": "code",
   "execution_count": 320,
   "metadata": {},
   "outputs": [
    {
     "data": {
      "text/plain": [
       "array([[ -8.06596968e-03,   1.84603985e-02,   1.61791835e-02, ...,\n",
       "          1.43359127e-02,   1.96949970e-02,   2.31714677e-02],\n",
       "       [ -4.40856442e-02,   5.42471521e-02,   4.43605371e-02, ...,\n",
       "          6.10464700e-02,   6.23489916e-02,   6.35588095e-02],\n",
       "       [ -1.24484850e-02,   1.52306287e-02,   9.01741255e-03, ...,\n",
       "          1.38034010e-02,   1.82180237e-02,   2.14835983e-02],\n",
       "       ..., \n",
       "       [ -2.43488979e-03,  -2.59098969e-03,   8.65460548e-04, ...,\n",
       "         -4.97863721e-03,   1.33996087e-04,   2.04290147e-03],\n",
       "       [  4.15644143e-03,   4.99538262e-04,   4.66675498e-04, ...,\n",
       "         -4.66984371e-03,  -1.43559871e-03,  -1.93281041e-03],\n",
       "       [  3.32247769e-03,   4.88885771e-03,  -1.41080905e-04, ...,\n",
       "         -2.60966155e-03,  -9.53871422e-05,  -2.06339103e-03]], dtype=float32)"
      ]
     },
     "execution_count": 320,
     "metadata": {},
     "output_type": "execute_result"
    }
   ],
   "source": [
    "a"
   ]
  },
  {
   "cell_type": "code",
   "execution_count": 118,
   "metadata": {},
   "outputs": [
    {
     "ename": "NameError",
     "evalue": "name 'X_tsne' is not defined",
     "output_type": "error",
     "traceback": [
      "\u001b[0;31m---------------------------------------------------------------------------\u001b[0m",
      "\u001b[0;31mNameError\u001b[0m                                 Traceback (most recent call last)",
      "\u001b[0;32m<ipython-input-118-b5f21884c291>\u001b[0m in \u001b[0;36m<module>\u001b[0;34m()\u001b[0m\n\u001b[1;32m      3\u001b[0m \u001b[0mX_tsne1\u001b[0m \u001b[0;34m=\u001b[0m \u001b[0mtsne\u001b[0m\u001b[0;34m.\u001b[0m\u001b[0mfit_transform\u001b[0m\u001b[0;34m(\u001b[0m\u001b[0ma\u001b[0m\u001b[0;34m)\u001b[0m\u001b[0;34m\u001b[0m\u001b[0m\n\u001b[1;32m      4\u001b[0m \u001b[0;34m\u001b[0m\u001b[0m\n\u001b[0;32m----> 5\u001b[0;31m \u001b[0mplt\u001b[0m\u001b[0;34m.\u001b[0m\u001b[0mscatter\u001b[0m\u001b[0;34m(\u001b[0m\u001b[0mX_tsne\u001b[0m\u001b[0;34m[\u001b[0m\u001b[0;34m:\u001b[0m\u001b[0;34m,\u001b[0m \u001b[0;36m0\u001b[0m\u001b[0;34m]\u001b[0m\u001b[0;34m,\u001b[0m \u001b[0mX_tsne\u001b[0m\u001b[0;34m[\u001b[0m\u001b[0;34m:\u001b[0m\u001b[0;34m,\u001b[0m \u001b[0;36m1\u001b[0m\u001b[0;34m]\u001b[0m\u001b[0;34m)\u001b[0m\u001b[0;34m\u001b[0m\u001b[0m\n\u001b[0m\u001b[1;32m      6\u001b[0m \u001b[0mplt\u001b[0m\u001b[0;34m.\u001b[0m\u001b[0mshow\u001b[0m\u001b[0;34m(\u001b[0m\u001b[0;34m)\u001b[0m\u001b[0;34m\u001b[0m\u001b[0m\n",
      "\u001b[0;31mNameError\u001b[0m: name 'X_tsne' is not defined"
     ]
    }
   ],
   "source": [
    "\n",
    "tsne = TSNE(n_components=2)\n",
    "X_tsne1 = tsne.fit_transform(a)\n",
    "\n"
   ]
  },
  {
   "cell_type": "code",
   "execution_count": 119,
   "metadata": {},
   "outputs": [
    {
     "data": {
      "image/png": "[encoded data removed]",
      "text/plain": [
       "<matplotlib.figure.Figure at 0x1a246215f8>"
      ]
     },
     "metadata": {},
     "output_type": "display_data"
    }
   ],
   "source": [
    "plt.scatter(X_tsne1[:, 0], X_tsne1[:, 1])\n",
    "plt.show()"
   ]
  },
  {
   "cell_type": "code",
   "execution_count": 121,
   "metadata": {},
   "outputs": [
    {
     "data": {
      "text/plain": [
       "array([[-28.06131363, -44.18370819],\n",
       "       [-16.25528908,  55.02483368],\n",
       "       [-15.68328094, -50.36497879],\n",
       "       ..., \n",
       "       [ 17.4057579 ,  41.88529587],\n",
       "       [ 18.5326767 ,  41.27673721],\n",
       "       [ 16.52687263,  41.3382988 ]], dtype=float32)"
      ]
     },
     "execution_count": 121,
     "metadata": {},
     "output_type": "execute_result"
    }
   ],
   "source": [
    "X_tsne1"
   ]
  },
  {
   "cell_type": "code",
   "execution_count": 131,
   "metadata": {},
   "outputs": [
    {
     "data": {
      "text/plain": [
       "dict"
      ]
     },
     "execution_count": 131,
     "metadata": {},
     "output_type": "execute_result"
    }
   ],
   "source": [
    "type(model1.wv.vocab)"
   ]
  },
  {
   "cell_type": "code",
   "execution_count": 140,
   "metadata": {
    "collapsed": true
   },
   "outputs": [],
   "source": [
    "points1 = pd.DataFrame(\n",
    "    [\n",
    "        (word, coords[0], coords[1])\n",
    "        for word, coords in [\n",
    "            (word, X_tsne1[model1.wv.vocab[word].index])\n",
    "            for word in model1.wv.vocab\n",
    "        ]\n",
    "    ],\n",
    "    columns=[\"word\", \"x\", \"y\"]\n",
    ")"
   ]
  },
  {
   "cell_type": "code",
   "execution_count": 159,
   "metadata": {
    "collapsed": true
   },
   "outputs": [
    {
     "data": {
      "text/html": [
       "<div>\n",
       "<style>\n",
       "    .dataframe thead tr:only-child th {\n",
       "        text-align: right;\n",
       "    }\n",
       "\n",
       "    .dataframe thead th {\n",
       "        text-align: left;\n",
       "    }\n",
       "\n",
       "    .dataframe tbody tr th {\n",
       "        vertical-align: top;\n",
       "    }\n",
       "</style>\n",
       "<table border=\"1\" class=\"dataframe\">\n",
       "  <thead>\n",
       "    <tr style=\"text-align: right;\">\n",
       "      <th></th>\n",
       "      <th>word</th>\n",
       "      <th>x</th>\n",
       "      <th>y</th>\n",
       "      <th>period</th>\n",
       "    </tr>\n",
       "  </thead>\n",
       "  <tbody>\n",
       "    <tr>\n",
       "      <th>0</th>\n",
       "      <td>george</td>\n",
       "      <td>-44.657753</td>\n",
       "      <td>9.971659</td>\n",
       "      <td>1780</td>\n",
       "    </tr>\n",
       "    <tr>\n",
       "      <th>1</th>\n",
       "      <td>washington</td>\n",
       "      <td>24.647667</td>\n",
       "      <td>26.984303</td>\n",
       "      <td>1780</td>\n",
       "    </tr>\n",
       "    <tr>\n",
       "      <th>2</th>\n",
       "      <td>january</td>\n",
       "      <td>-43.846451</td>\n",
       "      <td>-17.860426</td>\n",
       "      <td>1780</td>\n",
       "    </tr>\n",
       "    <tr>\n",
       "      <th>3</th>\n",
       "      <td>fellow</td>\n",
       "      <td>15.422767</td>\n",
       "      <td>28.394400</td>\n",
       "      <td>1780</td>\n",
       "    </tr>\n",
       "    <tr>\n",
       "      <th>4</th>\n",
       "      <td>citizens</td>\n",
       "      <td>7.535870</td>\n",
       "      <td>77.422874</td>\n",
       "      <td>1780</td>\n",
       "    </tr>\n",
       "    <tr>\n",
       "      <th>5</th>\n",
       "      <td>senate</td>\n",
       "      <td>-36.909546</td>\n",
       "      <td>-24.589148</td>\n",
       "      <td>1780</td>\n",
       "    </tr>\n",
       "    <tr>\n",
       "      <th>6</th>\n",
       "      <td>house</td>\n",
       "      <td>10.969140</td>\n",
       "      <td>79.066193</td>\n",
       "      <td>1780</td>\n",
       "    </tr>\n",
       "    <tr>\n",
       "      <th>7</th>\n",
       "      <td>representatives</td>\n",
       "      <td>-33.099228</td>\n",
       "      <td>26.418621</td>\n",
       "      <td>1780</td>\n",
       "    </tr>\n",
       "    <tr>\n",
       "      <th>8</th>\n",
       "      <td>embrace</td>\n",
       "      <td>-31.959496</td>\n",
       "      <td>-32.743095</td>\n",
       "      <td>1780</td>\n",
       "    </tr>\n",
       "    <tr>\n",
       "      <th>9</th>\n",
       "      <td>great</td>\n",
       "      <td>10.194274</td>\n",
       "      <td>78.603897</td>\n",
       "      <td>1780</td>\n",
       "    </tr>\n",
       "    <tr>\n",
       "      <th>10</th>\n",
       "      <td>satisfaction</td>\n",
       "      <td>-20.460709</td>\n",
       "      <td>45.852013</td>\n",
       "      <td>1780</td>\n",
       "    </tr>\n",
       "    <tr>\n",
       "      <th>11</th>\n",
       "      <td>opportunity</td>\n",
       "      <td>5.779859</td>\n",
       "      <td>29.169123</td>\n",
       "      <td>1780</td>\n",
       "    </tr>\n",
       "    <tr>\n",
       "      <th>12</th>\n",
       "      <td>presents</td>\n",
       "      <td>20.259277</td>\n",
       "      <td>30.203785</td>\n",
       "      <td>1780</td>\n",
       "    </tr>\n",
       "    <tr>\n",
       "      <th>13</th>\n",
       "      <td>congratulating</td>\n",
       "      <td>20.897873</td>\n",
       "      <td>18.660109</td>\n",
       "      <td>1780</td>\n",
       "    </tr>\n",
       "    <tr>\n",
       "      <th>14</th>\n",
       "      <td>present</td>\n",
       "      <td>-43.920494</td>\n",
       "      <td>-5.867103</td>\n",
       "      <td>1780</td>\n",
       "    </tr>\n",
       "    <tr>\n",
       "      <th>15</th>\n",
       "      <td>favorable</td>\n",
       "      <td>23.606405</td>\n",
       "      <td>37.246685</td>\n",
       "      <td>1780</td>\n",
       "    </tr>\n",
       "    <tr>\n",
       "      <th>16</th>\n",
       "      <td>prospects</td>\n",
       "      <td>18.774094</td>\n",
       "      <td>-13.220233</td>\n",
       "      <td>1780</td>\n",
       "    </tr>\n",
       "    <tr>\n",
       "      <th>17</th>\n",
       "      <td>public</td>\n",
       "      <td>-18.755365</td>\n",
       "      <td>50.631329</td>\n",
       "      <td>1780</td>\n",
       "    </tr>\n",
       "    <tr>\n",
       "      <th>18</th>\n",
       "      <td>affairs</td>\n",
       "      <td>-4.509181</td>\n",
       "      <td>67.423447</td>\n",
       "      <td>1780</td>\n",
       "    </tr>\n",
       "    <tr>\n",
       "      <th>19</th>\n",
       "      <td>recent</td>\n",
       "      <td>-23.019924</td>\n",
       "      <td>39.850887</td>\n",
       "      <td>1780</td>\n",
       "    </tr>\n",
       "    <tr>\n",
       "      <th>20</th>\n",
       "      <td>accession</td>\n",
       "      <td>12.259325</td>\n",
       "      <td>13.920930</td>\n",
       "      <td>1780</td>\n",
       "    </tr>\n",
       "    <tr>\n",
       "      <th>21</th>\n",
       "      <td>important</td>\n",
       "      <td>-27.341059</td>\n",
       "      <td>32.411419</td>\n",
       "      <td>1780</td>\n",
       "    </tr>\n",
       "    <tr>\n",
       "      <th>22</th>\n",
       "      <td>state</td>\n",
       "      <td>12.621499</td>\n",
       "      <td>80.151314</td>\n",
       "      <td>1780</td>\n",
       "    </tr>\n",
       "    <tr>\n",
       "      <th>23</th>\n",
       "      <td>north</td>\n",
       "      <td>-41.867268</td>\n",
       "      <td>-14.164877</td>\n",
       "      <td>1780</td>\n",
       "    </tr>\n",
       "    <tr>\n",
       "      <th>24</th>\n",
       "      <td>carolina</td>\n",
       "      <td>23.511293</td>\n",
       "      <td>32.345119</td>\n",
       "      <td>1780</td>\n",
       "    </tr>\n",
       "    <tr>\n",
       "      <th>25</th>\n",
       "      <td>constitution</td>\n",
       "      <td>-18.439299</td>\n",
       "      <td>49.672306</td>\n",
       "      <td>1780</td>\n",
       "    </tr>\n",
       "    <tr>\n",
       "      <th>26</th>\n",
       "      <td>united</td>\n",
       "      <td>-16.255289</td>\n",
       "      <td>55.024834</td>\n",
       "      <td>1780</td>\n",
       "    </tr>\n",
       "    <tr>\n",
       "      <th>27</th>\n",
       "      <td>states</td>\n",
       "      <td>-28.061314</td>\n",
       "      <td>-44.183708</td>\n",
       "      <td>1780</td>\n",
       "    </tr>\n",
       "    <tr>\n",
       "      <th>28</th>\n",
       "      <td>official</td>\n",
       "      <td>17.850153</td>\n",
       "      <td>29.651655</td>\n",
       "      <td>1780</td>\n",
       "    </tr>\n",
       "    <tr>\n",
       "      <th>29</th>\n",
       "      <td>information</td>\n",
       "      <td>8.881244</td>\n",
       "      <td>77.439629</td>\n",
       "      <td>1780</td>\n",
       "    </tr>\n",
       "    <tr>\n",
       "      <th>...</th>\n",
       "      <td>...</td>\n",
       "      <td>...</td>\n",
       "      <td>...</td>\n",
       "      <td>...</td>\n",
       "    </tr>\n",
       "    <tr>\n",
       "      <th>3116</th>\n",
       "      <td>explanation</td>\n",
       "      <td>-37.355602</td>\n",
       "      <td>-18.513922</td>\n",
       "      <td>1780</td>\n",
       "    </tr>\n",
       "    <tr>\n",
       "      <th>3117</th>\n",
       "      <td>performance</td>\n",
       "      <td>-39.071705</td>\n",
       "      <td>-16.965990</td>\n",
       "      <td>1780</td>\n",
       "    </tr>\n",
       "    <tr>\n",
       "      <th>3118</th>\n",
       "      <td>monday</td>\n",
       "      <td>-46.394909</td>\n",
       "      <td>-2.589657</td>\n",
       "      <td>1780</td>\n",
       "    </tr>\n",
       "    <tr>\n",
       "      <th>3119</th>\n",
       "      <td>transferred</td>\n",
       "      <td>-29.056320</td>\n",
       "      <td>-41.544746</td>\n",
       "      <td>1780</td>\n",
       "    </tr>\n",
       "    <tr>\n",
       "      <th>3120</th>\n",
       "      <td>offices</td>\n",
       "      <td>-34.057861</td>\n",
       "      <td>-25.216351</td>\n",
       "      <td>1780</td>\n",
       "    </tr>\n",
       "    <tr>\n",
       "      <th>3121</th>\n",
       "      <td>designed</td>\n",
       "      <td>-48.525429</td>\n",
       "      <td>3.589883</td>\n",
       "      <td>1780</td>\n",
       "    </tr>\n",
       "    <tr>\n",
       "      <th>3122</th>\n",
       "      <td>removal</td>\n",
       "      <td>-12.146843</td>\n",
       "      <td>58.316837</td>\n",
       "      <td>1780</td>\n",
       "    </tr>\n",
       "    <tr>\n",
       "      <th>3123</th>\n",
       "      <td>expenditure</td>\n",
       "      <td>12.448668</td>\n",
       "      <td>34.695099</td>\n",
       "      <td>1780</td>\n",
       "    </tr>\n",
       "    <tr>\n",
       "      <th>3124</th>\n",
       "      <td>exempted</td>\n",
       "      <td>-34.897228</td>\n",
       "      <td>-29.362385</td>\n",
       "      <td>1780</td>\n",
       "    </tr>\n",
       "    <tr>\n",
       "      <th>3125</th>\n",
       "      <td>arrived</td>\n",
       "      <td>-34.732792</td>\n",
       "      <td>-30.233288</td>\n",
       "      <td>1780</td>\n",
       "    </tr>\n",
       "    <tr>\n",
       "      <th>3126</th>\n",
       "      <td>investigate</td>\n",
       "      <td>-46.864590</td>\n",
       "      <td>7.673009</td>\n",
       "      <td>1780</td>\n",
       "    </tr>\n",
       "    <tr>\n",
       "      <th>3127</th>\n",
       "      <td>retrenchments</td>\n",
       "      <td>-44.027073</td>\n",
       "      <td>12.642595</td>\n",
       "      <td>1780</td>\n",
       "    </tr>\n",
       "    <tr>\n",
       "      <th>3128</th>\n",
       "      <td>changes</td>\n",
       "      <td>-35.876583</td>\n",
       "      <td>-23.954636</td>\n",
       "      <td>1780</td>\n",
       "    </tr>\n",
       "    <tr>\n",
       "      <th>3129</th>\n",
       "      <td>occurring</td>\n",
       "      <td>-29.858248</td>\n",
       "      <td>-38.178272</td>\n",
       "      <td>1780</td>\n",
       "    </tr>\n",
       "    <tr>\n",
       "      <th>3130</th>\n",
       "      <td>preparing</td>\n",
       "      <td>8.951344</td>\n",
       "      <td>-52.378925</td>\n",
       "      <td>1780</td>\n",
       "    </tr>\n",
       "    <tr>\n",
       "      <th>3131</th>\n",
       "      <td>almost</td>\n",
       "      <td>6.811430</td>\n",
       "      <td>-52.812668</td>\n",
       "      <td>1780</td>\n",
       "    </tr>\n",
       "    <tr>\n",
       "      <th>3132</th>\n",
       "      <td>unsafe</td>\n",
       "      <td>-17.159178</td>\n",
       "      <td>-47.612724</td>\n",
       "      <td>1780</td>\n",
       "    </tr>\n",
       "    <tr>\n",
       "      <th>3133</th>\n",
       "      <td>maintaining</td>\n",
       "      <td>12.458939</td>\n",
       "      <td>-44.349899</td>\n",
       "      <td>1780</td>\n",
       "    </tr>\n",
       "    <tr>\n",
       "      <th>3134</th>\n",
       "      <td>uncertain</td>\n",
       "      <td>15.983641</td>\n",
       "      <td>-42.127960</td>\n",
       "      <td>1780</td>\n",
       "    </tr>\n",
       "    <tr>\n",
       "      <th>3135</th>\n",
       "      <td>terminate</td>\n",
       "      <td>25.984587</td>\n",
       "      <td>12.206289</td>\n",
       "      <td>1780</td>\n",
       "    </tr>\n",
       "    <tr>\n",
       "      <th>3136</th>\n",
       "      <td>perseverance</td>\n",
       "      <td>7.093771</td>\n",
       "      <td>32.413879</td>\n",
       "      <td>1780</td>\n",
       "    </tr>\n",
       "    <tr>\n",
       "      <th>3137</th>\n",
       "      <td>dictate</td>\n",
       "      <td>16.273754</td>\n",
       "      <td>42.622040</td>\n",
       "      <td>1780</td>\n",
       "    </tr>\n",
       "    <tr>\n",
       "      <th>3138</th>\n",
       "      <td>remotely</td>\n",
       "      <td>14.832540</td>\n",
       "      <td>40.209034</td>\n",
       "      <td>1780</td>\n",
       "    </tr>\n",
       "    <tr>\n",
       "      <th>3139</th>\n",
       "      <td>offense</td>\n",
       "      <td>17.411127</td>\n",
       "      <td>42.930016</td>\n",
       "      <td>1780</td>\n",
       "    </tr>\n",
       "    <tr>\n",
       "      <th>3140</th>\n",
       "      <td>repelling</td>\n",
       "      <td>17.239290</td>\n",
       "      <td>41.811684</td>\n",
       "      <td>1780</td>\n",
       "    </tr>\n",
       "    <tr>\n",
       "      <th>3141</th>\n",
       "      <td>escaping</td>\n",
       "      <td>16.258724</td>\n",
       "      <td>42.488506</td>\n",
       "      <td>1780</td>\n",
       "    </tr>\n",
       "    <tr>\n",
       "      <th>3142</th>\n",
       "      <td>degradation</td>\n",
       "      <td>17.246889</td>\n",
       "      <td>42.644779</td>\n",
       "      <td>1780</td>\n",
       "    </tr>\n",
       "    <tr>\n",
       "      <th>3143</th>\n",
       "      <td>reposed</td>\n",
       "      <td>17.405758</td>\n",
       "      <td>41.885296</td>\n",
       "      <td>1780</td>\n",
       "    </tr>\n",
       "    <tr>\n",
       "      <th>3144</th>\n",
       "      <td>serve</td>\n",
       "      <td>18.532677</td>\n",
       "      <td>41.276737</td>\n",
       "      <td>1780</td>\n",
       "    </tr>\n",
       "    <tr>\n",
       "      <th>3145</th>\n",
       "      <td>unshaken</td>\n",
       "      <td>16.526873</td>\n",
       "      <td>41.338299</td>\n",
       "      <td>1780</td>\n",
       "    </tr>\n",
       "  </tbody>\n",
       "</table>\n",
       "<p>3146 rows × 4 columns</p>\n",
       "</div>"
      ],
      "text/plain": [
       "                 word          x          y period\n",
       "0              george -44.657753   9.971659   1780\n",
       "1          washington  24.647667  26.984303   1780\n",
       "2             january -43.846451 -17.860426   1780\n",
       "3              fellow  15.422767  28.394400   1780\n",
       "4            citizens   7.535870  77.422874   1780\n",
       "5              senate -36.909546 -24.589148   1780\n",
       "6               house  10.969140  79.066193   1780\n",
       "7     representatives -33.099228  26.418621   1780\n",
       "8             embrace -31.959496 -32.743095   1780\n",
       "9               great  10.194274  78.603897   1780\n",
       "10       satisfaction -20.460709  45.852013   1780\n",
       "11        opportunity   5.779859  29.169123   1780\n",
       "12           presents  20.259277  30.203785   1780\n",
       "13     congratulating  20.897873  18.660109   1780\n",
       "14            present -43.920494  -5.867103   1780\n",
       "15          favorable  23.606405  37.246685   1780\n",
       "16          prospects  18.774094 -13.220233   1780\n",
       "17             public -18.755365  50.631329   1780\n",
       "18            affairs  -4.509181  67.423447   1780\n",
       "19             recent -23.019924  39.850887   1780\n",
       "20          accession  12.259325  13.920930   1780\n",
       "21          important -27.341059  32.411419   1780\n",
       "22              state  12.621499  80.151314   1780\n",
       "23              north -41.867268 -14.164877   1780\n",
       "24           carolina  23.511293  32.345119   1780\n",
       "25       constitution -18.439299  49.672306   1780\n",
       "26             united -16.255289  55.024834   1780\n",
       "27             states -28.061314 -44.183708   1780\n",
       "28           official  17.850153  29.651655   1780\n",
       "29        information   8.881244  77.439629   1780\n",
       "...               ...        ...        ...    ...\n",
       "3116      explanation -37.355602 -18.513922   1780\n",
       "3117      performance -39.071705 -16.965990   1780\n",
       "3118           monday -46.394909  -2.589657   1780\n",
       "3119      transferred -29.056320 -41.544746   1780\n",
       "3120          offices -34.057861 -25.216351   1780\n",
       "3121         designed -48.525429   3.589883   1780\n",
       "3122          removal -12.146843  58.316837   1780\n",
       "3123      expenditure  12.448668  34.695099   1780\n",
       "3124         exempted -34.897228 -29.362385   1780\n",
       "3125          arrived -34.732792 -30.233288   1780\n",
       "3126      investigate -46.864590   7.673009   1780\n",
       "3127    retrenchments -44.027073  12.642595   1780\n",
       "3128          changes -35.876583 -23.954636   1780\n",
       "3129        occurring -29.858248 -38.178272   1780\n",
       "3130        preparing   8.951344 -52.378925   1780\n",
       "3131           almost   6.811430 -52.812668   1780\n",
       "3132           unsafe -17.159178 -47.612724   1780\n",
       "3133      maintaining  12.458939 -44.349899   1780\n",
       "3134        uncertain  15.983641 -42.127960   1780\n",
       "3135        terminate  25.984587  12.206289   1780\n",
       "3136     perseverance   7.093771  32.413879   1780\n",
       "3137          dictate  16.273754  42.622040   1780\n",
       "3138         remotely  14.832540  40.209034   1780\n",
       "3139          offense  17.411127  42.930016   1780\n",
       "3140        repelling  17.239290  41.811684   1780\n",
       "3141         escaping  16.258724  42.488506   1780\n",
       "3142      degradation  17.246889  42.644779   1780\n",
       "3143          reposed  17.405758  41.885296   1780\n",
       "3144            serve  18.532677  41.276737   1780\n",
       "3145         unshaken  16.526873  41.338299   1780\n",
       "\n",
       "[3146 rows x 4 columns]"
      ]
     },
     "execution_count": 159,
     "metadata": {},
     "output_type": "execute_result"
    }
   ],
   "source": [
    "points1[\"period\"]=\"1780\"\n",
    "points1"
   ]
  },
  {
   "cell_type": "code",
   "execution_count": 139,
   "metadata": {},
   "outputs": [
    {
     "data": {
      "text/plain": [
       "<matplotlib.axes._subplots.AxesSubplot at 0x1a245664a8>"
      ]
     },
     "execution_count": 139,
     "metadata": {},
     "output_type": "execute_result"
    },
    {
     "data": {
      "image/png": "[encoded data removed]",
      "text/plain": [
       "<matplotlib.figure.Figure at 0x1a246407b8>"
      ]
     },
     "metadata": {},
     "output_type": "display_data"
    }
   ],
   "source": [
    "points.plot.scatter(\"x\", \"y\", s=10, figsize=(20, 12))"
   ]
  },
  {
   "cell_type": "code",
   "execution_count": 324,
   "metadata": {},
   "outputs": [
    {
     "data": {
      "image/png": "[encoded data removed]",
      "text/plain": [
       "<matplotlib.figure.Figure at 0x1a241da550>"
      ]
     },
     "metadata": {},
     "output_type": "display_data"
    }
   ],
   "source": [
    "kmeans1 = KMeans(n_clusters=15)\n",
    "kmeans1.fit(a)\n",
    "y_kmeans1 = kmeans1.predict(a)\n",
    "\n",
    "plt.scatter(a[:, 0], a[:, 1], c=y_kmeans1, s=10, cmap='viridis')\n",
    "\n",
    "centers1 = kmeans1.cluster_centers_\n",
    "plt.scatter(centers1[:, 0], centers1[:, 1], c='black', s=50, alpha=0.75);"
   ]
  },
  {
   "cell_type": "code",
   "execution_count": 142,
   "metadata": {
    "collapsed": true
   },
   "outputs": [],
   "source": [
    "b=model2[words2]\n",
    "\n",
    "tsne2 = TSNE(n_components=2)\n",
    "X_tsne2 = tsne2.fit_transform(b)\n"
   ]
  },
  {
   "cell_type": "code",
   "execution_count": 143,
   "metadata": {
    "collapsed": true
   },
   "outputs": [],
   "source": [
    "points2 = pd.DataFrame(\n",
    "    [\n",
    "        (word, coords[0], coords[1])\n",
    "        for word, coords in [\n",
    "            (word, X_tsne2[model2.wv.vocab[word].index])\n",
    "            for word in model2.wv.vocab\n",
    "        ]\n",
    "    ],\n",
    "    columns=[\"word\", \"x\", \"y\"]\n",
    ")"
   ]
  },
  {
   "cell_type": "code",
   "execution_count": 1,
   "metadata": {},
   "outputs": [
    {
     "ename": "NameError",
     "evalue": "name 'KMeans' is not defined",
     "output_type": "error",
     "traceback": [
      "\u001b[0;31m---------------------------------------------------------------------------\u001b[0m",
      "\u001b[0;31mNameError\u001b[0m                                 Traceback (most recent call last)",
      "\u001b[0;32m<ipython-input-1-ed5ab1a6546d>\u001b[0m in \u001b[0;36m<module>\u001b[0;34m()\u001b[0m\n\u001b[0;32m----> 1\u001b[0;31m \u001b[0mkmeans2\u001b[0m \u001b[0;34m=\u001b[0m \u001b[0mKMeans\u001b[0m\u001b[0;34m(\u001b[0m\u001b[0mn_clusters\u001b[0m\u001b[0;34m=\u001b[0m\u001b[0;36m15\u001b[0m\u001b[0;34m)\u001b[0m\u001b[0;34m\u001b[0m\u001b[0m\n\u001b[0m\u001b[1;32m      2\u001b[0m \u001b[0mkmeans1\u001b[0m\u001b[0;34m.\u001b[0m\u001b[0mfit\u001b[0m\u001b[0;34m(\u001b[0m\u001b[0mX_tsne2\u001b[0m\u001b[0;34m)\u001b[0m\u001b[0;34m\u001b[0m\u001b[0m\n\u001b[1;32m      3\u001b[0m \u001b[0my_kmeans2\u001b[0m \u001b[0;34m=\u001b[0m \u001b[0mkmeans1\u001b[0m\u001b[0;34m.\u001b[0m\u001b[0mpredict\u001b[0m\u001b[0;34m(\u001b[0m\u001b[0mX_tsne2\u001b[0m\u001b[0;34m)\u001b[0m\u001b[0;34m\u001b[0m\u001b[0m\n\u001b[1;32m      4\u001b[0m \u001b[0;34m\u001b[0m\u001b[0m\n\u001b[1;32m      5\u001b[0m \u001b[0mplt\u001b[0m\u001b[0;34m.\u001b[0m\u001b[0mscatter\u001b[0m\u001b[0;34m(\u001b[0m\u001b[0mX_tsne2\u001b[0m\u001b[0;34m[\u001b[0m\u001b[0;34m:\u001b[0m\u001b[0;34m,\u001b[0m \u001b[0;36m0\u001b[0m\u001b[0;34m]\u001b[0m\u001b[0;34m,\u001b[0m \u001b[0mX_tsne2\u001b[0m\u001b[0;34m[\u001b[0m\u001b[0;34m:\u001b[0m\u001b[0;34m,\u001b[0m \u001b[0;36m1\u001b[0m\u001b[0;34m]\u001b[0m\u001b[0;34m,\u001b[0m \u001b[0mc\u001b[0m\u001b[0;34m=\u001b[0m\u001b[0my_kmeans2\u001b[0m\u001b[0;34m,\u001b[0m \u001b[0ms\u001b[0m\u001b[0;34m=\u001b[0m\u001b[0;36m10\u001b[0m\u001b[0;34m,\u001b[0m \u001b[0mcmap\u001b[0m\u001b[0;34m=\u001b[0m\u001b[0;34m'viridis'\u001b[0m\u001b[0;34m)\u001b[0m\u001b[0;34m\u001b[0m\u001b[0m\n",
      "\u001b[0;31mNameError\u001b[0m: name 'KMeans' is not defined"
     ]
    }
   ],
   "source": [
    "kmeans2 = KMeans(n_clusters=15)\n",
    "kmeans1.fit(X_tsne2)\n",
    "y_kmeans2 = kmeans1.predict(X_tsne2)\n",
    "\n",
    "plt.scatter(X_tsne2[:, 0], X_tsne2[:, 1], c=y_kmeans2, s=10, cmap='viridis')\n",
    "\n"
   ]
  },
  {
   "cell_type": "code",
   "execution_count": 187,
   "metadata": {
    "collapsed": true
   },
   "outputs": [],
   "source": [
    "points2[\"period\"]=\"1820\"\n"
   ]
  },
  {
   "cell_type": "code",
   "execution_count": 144,
   "metadata": {
    "collapsed": true
   },
   "outputs": [],
   "source": [
    "c=model3[words3]\n",
    "\n",
    "tsne3 = TSNE(n_components=2)\n",
    "X_tsne3 = tsne3.fit_transform(c)"
   ]
  },
  {
   "cell_type": "code",
   "execution_count": 145,
   "metadata": {
    "collapsed": true
   },
   "outputs": [],
   "source": [
    "points3 = pd.DataFrame(\n",
    "    [\n",
    "        (word, coords[0], coords[1])\n",
    "        for word, coords in [\n",
    "            (word, X_tsne3[model3.wv.vocab[word].index])\n",
    "            for word in model3.wv.vocab\n",
    "        ]\n",
    "    ],\n",
    "    columns=[\"word\", \"x\", \"y\"]\n",
    ")"
   ]
  },
  {
   "cell_type": "code",
   "execution_count": 188,
   "metadata": {
    "collapsed": true
   },
   "outputs": [],
   "source": [
    "points3[\"period\"]=\"1840\"\n"
   ]
  },
  {
   "cell_type": "code",
   "execution_count": 146,
   "metadata": {
    "collapsed": true
   },
   "outputs": [],
   "source": [
    "d=model4[words4]\n",
    "\n",
    "tsne4 = TSNE(n_components=2)\n",
    "X_tsne4 = tsne4.fit_transform(d)"
   ]
  },
  {
   "cell_type": "code",
   "execution_count": 147,
   "metadata": {
    "collapsed": true
   },
   "outputs": [],
   "source": [
    "points4 = pd.DataFrame(\n",
    "    [\n",
    "        (word, coords[0], coords[1])\n",
    "        for word, coords in [\n",
    "            (word, X_tsne4[model4.wv.vocab[word].index])\n",
    "            for word in model4.wv.vocab\n",
    "        ]\n",
    "    ],\n",
    "    columns=[\"word\", \"x\", \"y\"]\n",
    ")"
   ]
  },
  {
   "cell_type": "code",
   "execution_count": 189,
   "metadata": {
    "collapsed": true
   },
   "outputs": [],
   "source": [
    "points4[\"period\"]=\"1860\"\n"
   ]
  },
  {
   "cell_type": "code",
   "execution_count": 148,
   "metadata": {
    "collapsed": true
   },
   "outputs": [],
   "source": [
    "e=model5[words5]\n",
    "\n",
    "tsne5 = TSNE(n_components=2)\n",
    "X_tsne5 = tsne5.fit_transform(e)"
   ]
  },
  {
   "cell_type": "code",
   "execution_count": 150,
   "metadata": {
    "collapsed": true
   },
   "outputs": [],
   "source": [
    "points5 = pd.DataFrame(\n",
    "    [\n",
    "        (word, coords[0], coords[1])\n",
    "        for word, coords in [\n",
    "            (word, X_tsne5[model5.wv.vocab[word].index])\n",
    "            for word in model5.wv.vocab\n",
    "        ]\n",
    "    ],\n",
    "    columns=[\"word\", \"x\", \"y\"]\n",
    ")"
   ]
  },
  {
   "cell_type": "code",
   "execution_count": 190,
   "metadata": {
    "collapsed": true
   },
   "outputs": [],
   "source": [
    "points5[\"period\"]=\"1880\"\n"
   ]
  },
  {
   "cell_type": "code",
   "execution_count": 151,
   "metadata": {
    "collapsed": true
   },
   "outputs": [],
   "source": [
    "f=model6[words6]\n",
    "\n",
    "tsne6 = TSNE(n_components=2)\n",
    "X_tsne6 = tsne6.fit_transform(f)"
   ]
  },
  {
   "cell_type": "code",
   "execution_count": 152,
   "metadata": {
    "collapsed": true
   },
   "outputs": [],
   "source": [
    "points6 = pd.DataFrame(\n",
    "    [\n",
    "        (word, coords[0], coords[1])\n",
    "        for word, coords in [\n",
    "            (word, X_tsne6[model6.wv.vocab[word].index])\n",
    "            for word in model6.wv.vocab\n",
    "        ]\n",
    "    ],\n",
    "    columns=[\"word\", \"x\", \"y\"]\n",
    ")"
   ]
  },
  {
   "cell_type": "code",
   "execution_count": 191,
   "metadata": {
    "collapsed": true
   },
   "outputs": [],
   "source": [
    "points6[\"period\"]=\"1900\"\n"
   ]
  },
  {
   "cell_type": "code",
   "execution_count": 153,
   "metadata": {
    "collapsed": true
   },
   "outputs": [],
   "source": [
    "g=model7[words7]\n",
    "\n",
    "tsne7 = TSNE(n_components=2)\n",
    "X_tsne7 = tsne7.fit_transform(g)"
   ]
  },
  {
   "cell_type": "code",
   "execution_count": 154,
   "metadata": {
    "collapsed": true
   },
   "outputs": [],
   "source": [
    "points7 = pd.DataFrame(\n",
    "    [\n",
    "        (word, coords[0], coords[1])\n",
    "        for word, coords in [\n",
    "            (word, X_tsne7[model7.wv.vocab[word].index])\n",
    "            for word in model7.wv.vocab\n",
    "        ]\n",
    "    ],\n",
    "    columns=[\"word\", \"x\", \"y\"]\n",
    ")"
   ]
  },
  {
   "cell_type": "code",
   "execution_count": 192,
   "metadata": {
    "collapsed": true
   },
   "outputs": [],
   "source": [
    "points7[\"period\"]=\"1920\"\n"
   ]
  },
  {
   "cell_type": "code",
   "execution_count": 155,
   "metadata": {
    "collapsed": true
   },
   "outputs": [],
   "source": [
    "h=model8[words8]\n",
    "\n",
    "tsne8 = TSNE(n_components=2)\n",
    "X_tsne8 = tsne8.fit_transform(h)"
   ]
  },
  {
   "cell_type": "code",
   "execution_count": 156,
   "metadata": {
    "collapsed": true
   },
   "outputs": [],
   "source": [
    "points8 = pd.DataFrame(\n",
    "    [\n",
    "        (word, coords[0], coords[1])\n",
    "        for word, coords in [\n",
    "            (word, X_tsne8[model8.wv.vocab[word].index])\n",
    "            for word in model8.wv.vocab\n",
    "        ]\n",
    "    ],\n",
    "    columns=[\"word\", \"x\", \"y\"]\n",
    ")"
   ]
  },
  {
   "cell_type": "code",
   "execution_count": 193,
   "metadata": {
    "collapsed": true
   },
   "outputs": [],
   "source": [
    "points8[\"period\"]=\"1940\"\n"
   ]
  },
  {
   "cell_type": "code",
   "execution_count": 157,
   "metadata": {
    "collapsed": true
   },
   "outputs": [],
   "source": [
    "i=model9[words9]\n",
    "\n",
    "tsne9 = TSNE(n_components=2)\n",
    "X_tsne9 = tsne9.fit_transform(i)"
   ]
  },
  {
   "cell_type": "code",
   "execution_count": 160,
   "metadata": {
    "collapsed": true
   },
   "outputs": [],
   "source": [
    "points9 = pd.DataFrame(\n",
    "    [\n",
    "        (word, coords[0], coords[1])\n",
    "        for word, coords in [\n",
    "            (word, X_tsne9[model9.wv.vocab[word].index])\n",
    "            for word in model9.wv.vocab\n",
    "        ]\n",
    "    ],\n",
    "    columns=[\"word\", \"x\", \"y\"]\n",
    ")"
   ]
  },
  {
   "cell_type": "code",
   "execution_count": 194,
   "metadata": {
    "collapsed": true
   },
   "outputs": [],
   "source": [
    "points9[\"period\"]=\"1960\"\n"
   ]
  },
  {
   "cell_type": "code",
   "execution_count": 161,
   "metadata": {
    "collapsed": true
   },
   "outputs": [],
   "source": [
    "j=model10[words10]\n",
    "\n",
    "tsne10 = TSNE(n_components=2)\n",
    "X_tsne10 = tsne10.fit_transform(j)"
   ]
  },
  {
   "cell_type": "code",
   "execution_count": 162,
   "metadata": {
    "collapsed": true
   },
   "outputs": [],
   "source": [
    "points10 = pd.DataFrame(\n",
    "    [\n",
    "        (word, coords[0], coords[1])\n",
    "        for word, coords in [\n",
    "            (word, X_tsne6[model10.wv.vocab[word].index])\n",
    "            for word in model10.wv.vocab\n",
    "        ]\n",
    "    ],\n",
    "    columns=[\"word\", \"x\", \"y\"]\n",
    ")"
   ]
  },
  {
   "cell_type": "code",
   "execution_count": 195,
   "metadata": {
    "collapsed": true
   },
   "outputs": [],
   "source": [
    "points10[\"period\"]=\"1980\"\n"
   ]
  },
  {
   "cell_type": "code",
   "execution_count": 163,
   "metadata": {
    "collapsed": true
   },
   "outputs": [],
   "source": [
    "k=model11[words11]\n",
    "\n",
    "tsne11 = TSNE(n_components=2)\n",
    "X_tsne11 = tsne11.fit_transform(k)"
   ]
  },
  {
   "cell_type": "code",
   "execution_count": 175,
   "metadata": {
    "collapsed": true
   },
   "outputs": [],
   "source": [
    "points11 = pd.DataFrame(\n",
    "    [\n",
    "        (word, coords[0], coords[1])\n",
    "        for word, coords in [\n",
    "            (word, X_tsne11[model11.wv.vocab[word].index])\n",
    "            for word in model11.wv.vocab\n",
    "        ]\n",
    "    ],\n",
    "    columns=[\"word\", \"x\", \"y\"]\n",
    ")"
   ]
  },
  {
   "cell_type": "code",
   "execution_count": 196,
   "metadata": {
    "collapsed": true
   },
   "outputs": [],
   "source": [
    "points11[\"period\"]=\"2000\"\n"
   ]
  },
  {
   "cell_type": "code",
   "execution_count": 184,
   "metadata": {
    "collapsed": true
   },
   "outputs": [],
   "source": [
    "l=model12[words12]\n",
    "\n",
    "tsne12 = TSNE(n_components=2)\n",
    "X_tsne12 = tsne12.fit_transform(l)"
   ]
  },
  {
   "cell_type": "code",
   "execution_count": 185,
   "metadata": {
    "collapsed": true
   },
   "outputs": [],
   "source": [
    "points12 = pd.DataFrame(\n",
    "    [\n",
    "        (word, coords[0], coords[1])\n",
    "        for word, coords in [\n",
    "            (word, X_tsne12[model12.wv.vocab[word].index])\n",
    "            for word in model12.wv.vocab\n",
    "        ]\n",
    "    ],\n",
    "    columns=[\"word\", \"x\", \"y\"]\n",
    ")"
   ]
  },
  {
   "cell_type": "code",
   "execution_count": 186,
   "metadata": {
    "collapsed": true
   },
   "outputs": [],
   "source": [
    "points12[\"period\"]=\"1800\""
   ]
  },
  {
   "cell_type": "code",
   "execution_count": 201,
   "metadata": {
    "collapsed": true
   },
   "outputs": [],
   "source": [
    "final = pd.concat([points1,points2,points3,points4,points5,points6,points7,points8,points9,points10,points11,points12])"
   ]
  },
  {
   "cell_type": "code",
   "execution_count": 219,
   "metadata": {
    "collapsed": true
   },
   "outputs": [],
   "source": [
    "final.index = np.arange(1 , len(final)+1)"
   ]
  },
  {
   "cell_type": "code",
   "execution_count": 214,
   "metadata": {
    "collapsed": true
   },
   "outputs": [],
   "source": [
    "lit = [\"congress\",\"trump\",\"military\",\"economy\",\"employment\",\"women\"]"
   ]
  },
  {
   "cell_type": "code",
   "execution_count": 231,
   "metadata": {
    "collapsed": true
   },
   "outputs": [],
   "source": [
    "plot=[]\n",
    "j=1\n",
    "for i in range(1,len(final)+1):\n",
    "    if final.word[i] in lit :\n",
    "        plot.append(final.ix[i,:])\n",
    "        j = j + 1"
   ]
  },
  {
   "cell_type": "code",
   "execution_count": 223,
   "metadata": {},
   "outputs": [
    {
     "data": {
      "text/plain": [
       "'military'"
      ]
     },
     "execution_count": 223,
     "metadata": {},
     "output_type": "execute_result"
    }
   ],
   "source": [
    "final.word[125]"
   ]
  },
  {
   "cell_type": "code",
   "execution_count": 230,
   "metadata": {},
   "outputs": [
    {
     "data": {
      "text/plain": [
       "word       george\n",
       "x        -44.6578\n",
       "y         9.97166\n",
       "period       1780\n",
       "Name: 1, dtype: object"
      ]
     },
     "execution_count": 230,
     "metadata": {},
     "output_type": "execute_result"
    }
   ],
   "source": [
    "final.ix[1,:]"
   ]
  },
  {
   "cell_type": "code",
   "execution_count": 236,
   "metadata": {
    "collapsed": true
   },
   "outputs": [],
   "source": [
    "plot = pd.DataFrame(plot)"
   ]
  },
  {
   "cell_type": "code",
   "execution_count": 237,
   "metadata": {
    "collapsed": true
   },
   "outputs": [],
   "source": [
    "plot.index = np.arange(1,len(plot)+1)"
   ]
  },
  {
   "cell_type": "code",
   "execution_count": 240,
   "metadata": {
    "collapsed": true
   },
   "outputs": [],
   "source": [
    "plot.to_csv(\"Clusters.csv\")"
   ]
  },
  {
   "cell_type": "code",
   "execution_count": 410,
   "metadata": {
    "collapsed": true
   },
   "outputs": [],
   "source": [
    "war_change.to_csv(\"war.csv\")"
   ]
  },
  {
   "cell_type": "code",
   "execution_count": 243,
   "metadata": {
    "collapsed": true
   },
   "outputs": [],
   "source": [
    "viz = plot"
   ]
  },
  {
   "cell_type": "code",
   "execution_count": 259,
   "metadata": {},
   "outputs": [
    {
     "name": "stderr",
     "output_type": "stream",
     "text": [
      "/Users/akhilakotapati/anaconda3/lib/python3.6/site-packages/ipykernel_launcher.py:5: SettingWithCopyWarning: \n",
      "A value is trying to be set on a copy of a slice from a DataFrame\n",
      "\n",
      "See the caveats in the documentation: http://pandas.pydata.org/pandas-docs/stable/indexing.html#indexing-view-versus-copy\n",
      "  \"\"\"\n",
      "/Users/akhilakotapati/anaconda3/lib/python3.6/site-packages/ipykernel_launcher.py:7: SettingWithCopyWarning: \n",
      "A value is trying to be set on a copy of a slice from a DataFrame\n",
      "\n",
      "See the caveats in the documentation: http://pandas.pydata.org/pandas-docs/stable/indexing.html#indexing-view-versus-copy\n",
      "  import sys\n",
      "/Users/akhilakotapati/anaconda3/lib/python3.6/site-packages/ipykernel_launcher.py:9: SettingWithCopyWarning: \n",
      "A value is trying to be set on a copy of a slice from a DataFrame\n",
      "\n",
      "See the caveats in the documentation: http://pandas.pydata.org/pandas-docs/stable/indexing.html#indexing-view-versus-copy\n",
      "  if __name__ == '__main__':\n",
      "/Users/akhilakotapati/anaconda3/lib/python3.6/site-packages/ipykernel_launcher.py:13: SettingWithCopyWarning: \n",
      "A value is trying to be set on a copy of a slice from a DataFrame\n",
      "\n",
      "See the caveats in the documentation: http://pandas.pydata.org/pandas-docs/stable/indexing.html#indexing-view-versus-copy\n",
      "  del sys.path[0]\n",
      "/Users/akhilakotapati/anaconda3/lib/python3.6/site-packages/ipykernel_launcher.py:11: SettingWithCopyWarning: \n",
      "A value is trying to be set on a copy of a slice from a DataFrame\n",
      "\n",
      "See the caveats in the documentation: http://pandas.pydata.org/pandas-docs/stable/indexing.html#indexing-view-versus-copy\n",
      "  # This is added back by InteractiveShellApp.init_path()\n"
     ]
    }
   ],
   "source": [
    "#viz[\"value\"] = viz[\"word\"].map(str) + viz[\"period\"]\n",
    "viz['id']=\"\"\n",
    "for i in range(1,len(viz)+1):\n",
    "    if ( viz.word[i] == 'military'):\n",
    "        viz.id[i] = 1\n",
    "    if ( viz.word[i] == 'economy'):\n",
    "        viz.id[i] = 2\n",
    "    if ( viz.word[i] == 'congress'):\n",
    "        viz.id[i] = 3\n",
    "    if ( viz.word[i] == 'women'):\n",
    "        viz.id[i] = 4\n",
    "    if ( viz.word[i] == 'employment'):\n",
    "        viz.id[i] = 5\n",
    "        \n",
    "        "
   ]
  },
  {
   "cell_type": "code",
   "execution_count": 288,
   "metadata": {},
   "outputs": [
    {
     "data": {
      "text/plain": [
       "<seaborn.axisgrid.FacetGrid at 0x1a2407fb38>"
      ]
     },
     "execution_count": 288,
     "metadata": {},
     "output_type": "execute_result"
    },
    {
     "data": {
      "image/png": "[encoded data removed]",
      "text/plain": [
       "<matplotlib.figure.Figure at 0x1a238d9ac8>"
      ]
     },
     "metadata": {},
     "output_type": "display_data"
    }
   ],
   "source": [
    "import seaborn\n",
    "seaborn.set(style='ticks')\n",
    "\n",
    "fg = seaborn.FacetGrid(data=viz, hue='word', aspect=1.61)\n",
    "\n",
    "fg.map(plt.scatter, 'x', 'y').add_legend()"
   ]
  },
  {
   "cell_type": "code",
   "execution_count": 289,
   "metadata": {},
   "outputs": [
    {
     "data": {
      "image/png": "[encoded data removed]",
      "text/plain": [
       "<matplotlib.figure.Figure at 0x1a239a47f0>"
      ]
     },
     "metadata": {},
     "output_type": "display_data"
    }
   ],
   "source": [
    "import seaborn as sns\n",
    "import matplotlib.pyplot as plt\n",
    "import pandas as pd\n",
    "%matplotlib inline\n",
    "\n",
    " \n",
    "\n",
    "ax = sns.lmplot('x', # Horizontal axis\n",
    "           'y', # Vertical axis\n",
    "           data=viz, # Data source\n",
    "           fit_reg=False, # Don't fix a regression line\n",
    "           size = 10,\n",
    "           aspect =2 ) # size and dimension\n",
    "\n",
    "plt.title('Semantic Change')\n",
    "# Set x-axis label\n",
    "plt.xlabel('tsne-x')\n",
    "# Set y-axis label\n",
    "plt.ylabel('tsne-y')\n",
    "\n",
    "\n",
    "def label_point(x, y, val, ax):\n",
    "    a = pd.concat({'x': x, 'y': y, 'val': val}, axis=1)\n",
    "    for i, point in a.iterrows():\n",
    "        ax.text(point['x']+.02, point['y'], str(point['val']))\n",
    "\n",
    "label_point(viz.x, viz.y, viz.value, plt.gca())  \n"
   ]
  },
  {
   "cell_type": "code",
   "execution_count": 318,
   "metadata": {
    "collapsed": true
   },
   "outputs": [],
   "source": [
    "plt.style.use(\"ggplot\")"
   ]
  },
  {
   "cell_type": "code",
   "execution_count": 319,
   "metadata": {},
   "outputs": [
    {
     "data": {
      "image/png": "[encoded data removed]",
      "text/plain": [
       "<matplotlib.figure.Figure at 0x1a22427358>"
      ]
     },
     "metadata": {},
     "output_type": "display_data"
    }
   ],
   "source": [
    "import seaborn as sns\n",
    "import matplotlib.pyplot as plt\n",
    "import pandas as pd\n",
    "%matplotlib inline\n",
    "\n",
    " \n",
    "plt.rcParams[\"font.family\"] = \"Verdana\"\n",
    "plt.rcParams[\"font.size\"] = 16\n",
    "plt.rcParams[\"legend.fontsize\"] = 8\n",
    "plt.rcParams[\"figure.figsize\"] = 20,10\n",
    "\n",
    "\n",
    "ax = sns.lmplot('x', # Horizontal axis\n",
    "           'y', # Vertical axis\n",
    "           data=viz, # Data source\n",
    "           fit_reg=False, # Don't fix a regression line\n",
    "           size = 10,\n",
    "           hue = \"word\",\n",
    "           aspect =2 ) # size and dimension\n",
    "\n",
    "plt.title('Semantic Change')\n",
    "# Set x-axis label\n",
    "plt.xlabel('tsne-x')\n",
    "# Set y-axis label\n",
    "plt.ylabel('tsne-y')\n",
    "\n",
    "\n",
    "def label_point(x, y, val, ax):\n",
    "    a = pd.concat({'x': x, 'y': y, 'val': val}, axis=1)\n",
    "    for i, point in a.iterrows():\n",
    "        ax.text(point['x']+.02, point['y'], str(point['val']))\n",
    "\n",
    "label_point(viz.x, viz.y, viz.value, plt.gca())\n",
    "\n"
   ]
  },
  {
   "cell_type": "code",
   "execution_count": null,
   "metadata": {
    "collapsed": true
   },
   "outputs": [],
   "source": []
  }
 ],
 "metadata": {
  "kernelspec": {
   "display_name": "Python 3",
   "language": "python",
   "name": "python3"
  },
  "language_info": {
   "codemirror_mode": {
    "name": "ipython",
    "version": 3
   },
   "file_extension": ".py",
   "mimetype": "text/x-python",
   "name": "python",
   "nbconvert_exporter": "python",
   "pygments_lexer": "ipython3",
   "version": "3.6.3"
  }
 },
 "nbformat": 4,
 "nbformat_minor": 2
}
